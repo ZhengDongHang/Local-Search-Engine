{
 "cells": [
  {
   "cell_type": "code",
   "execution_count": null,
   "id": "bce4dd33-aeef-4b21-8c55-0a75907ce1f7",
   "metadata": {},
   "outputs": [],
   "source": []
  },
  {
   "cell_type": "code",
   "execution_count": null,
   "id": "09bb0d07-f73b-4211-8ce6-ebc4c62fe46c",
   "metadata": {},
   "outputs": [],
   "source": []
  },
  {
   "cell_type": "markdown",
   "id": "44b8fb73-2d64-4c88-ad8e-3238491d2530",
   "metadata": {},
   "source": [
    "## 任务 A：文本-图片标注任务"
   ]
  },
  {
   "cell_type": "markdown",
   "id": "aa211d56-4f9b-4f5d-882d-8a4f76f7ab0b",
   "metadata": {},
   "source": [
    "### A.1 数据预处理"
   ]
  },
  {
   "cell_type": "code",
   "execution_count": 10,
   "id": "430595f4-fddf-46be-b7f4-8cca3f4bb203",
   "metadata": {
    "scrolled": true
   },
   "outputs": [
    {
     "name": "stderr",
     "output_type": "stream",
     "text": [
      "100%|██████████| 20/20 [00:21<00:00,  1.05s/it]"
     ]
    },
    {
     "name": "stdout",
     "output_type": "stream",
     "text": [
      "共提取 70 个文本-图像对，已保存至 mid_data/text_image_mapping.json\n"
     ]
    },
    {
     "name": "stderr",
     "output_type": "stream",
     "text": [
      "\n"
     ]
    },
    {
     "data": {
      "text/plain": [
       "[{'text': '2 0 2 2\\nL I V I N G  P R O D U C T S',\n",
       "  'image_path': 'mid_data/extracted_images/Living_Products_2022_page_1.png'},\n",
       " {'text': 'Living Products\\n2022\\ncassina.com',\n",
       "  'image_path': 'mid_data/extracted_images/Living_Products_2022_page_2.png'},\n",
       " {'text': '3 Fauteuil Grand Confort, \\ngrand modèle, trois places, \\ndurable\\nLe Corbusier, P. Jeanneret, \\nC. Perriand\\n3 Fauteuil Grand Confort, \\nméridienne, durable\\nLe Corbusier, P. Jeanneret, \\nC. Perriand\\n4 Chaise longue à réglage \\ncontinu\\nLe Corbusier, P. Jeanneret, \\nC. Perriand\\n4 Chaise longue à réglage \\ncontinu, noire\\nLe Corbusier, P. Jeanneret, \\nC. Perriand\\nLady\\nMarco Zanuso\\nOmbra\\nCharlotte Perriand\\nP22\\nPatrick Norguet\\nSoriana\\nAfra & Tobia Scarpa\\nSoriana\\nAfra & Tobia Scarpa\\nTokyo Chaise Longue\\nCharlotte Perriand\\nTokyo Dormeuse\\nCharlotte Perriand\\nTre pezzi\\nFranco Albini\\nUtrecht\\nGerrit Thomas Rietveld\\nUtrecht Baby/XL\\nGerrit Thomas Rietveld\\nWink\\nToshiyuki Kita\\nWoodline\\nMarco Zanuso\\nCapitol Complex Chair/\\nCapitol Complex Office Chair\\nHommage à Pierre Jeanneret\\nCivil Bench\\nHommage à Pierre Jeanneret\\nGuéridon J.M.\\nCharlotte Perriand\\nHill House 1\\nCharles Rennie Mackintosh\\nIndochine\\nCharlotte Perriand\\n7 Fauteuil tournant\\nCharlotte Perriand – Intégré à la \\nCollection Le Corbusier®, Pierre \\nJeanneret®, Charlotte Perriand®\\nLeggera\\nGio Ponti\\nLuisa\\nFranco Albini\\nRed and Blue\\nGerrit Thomas Rietveld\\nBlack Red and Blue\\nGerrit Thomas Rietveld\\nSoft Corner\\nLinde Freya Tangelder\\nSuperleggera\\nGio Ponti\\nWillow 1\\nCharles Rennie Mackintosh\\nZig Zag\\nGerrit Thomas Rietveld\\nScighera\\nPiero Lissoni\\n \\nSengu Bold\\nPatricia Urquiola\\nSengu Sofa\\nPatricia Urquiola\\nSoriana\\nAfra & Tobia Scarpa\\nTramonto a New York\\nGaetano Pesce\\nVolage EX–S\\nPhilippe Starck\\n9 Occasional Tables\\nPiero Lissoni\\n780/783\\nGianfranco Frattini\\nAccordo\\nCharlotte Perriand \\nBoboli\\nRodolfo Dordoni\\nBowy Table\\nPatricia Urquiola\\nCicognino \\nFranco Albini\\nConstantin\\nStudio Simon \\nDjuna\\nKazuhide Takahama\\nEsosoft Coffee Table\\nAntonio Citterio\\n9 Tabouret\\nCharlotte Perriand – Intégré à la \\nCollection Le Corbusier®, Pierre \\nJeanneret®, Charlotte Perriand®\\n9 Tabouret de salle de bains\\nCharlotte Perriand – Intégré à la \\nCollection Le Corbusier®, Pierre \\nJeanneret®, Charlotte Perriand®\\n10 Table en tube\\nLe Corbusier, P. Jeanneret,  \\nC. Perriand\\n10 Table en tube, \\ngrand modèle\\nLe Corbusier, P. Jeanneret,  \\nC. Perriand\\n10 Table en tube basse\\nLe Corbusier, P. Jeanneret,  \\nC. Perriand\\n10 Table en tube basse, \\ngrand modèle\\nLe Corbusier, P. Jeanneret,  \\nC. Perriand\\nLC14 Tabouret Cabanon, \\nRoquebrune-Cap-Martin \\n1952 / LC14 Tabouret Maison du \\nBrésil, Paris 1959\\nLe Corbusier\\nLC14 Tabouret, \\nNantes-Rezé, 1952-1957\\nLe Corbusier\\n2 Fauteuil Grand Confort, \\npetit modèle, deux places \\nLe Corbusier, P. Jeanneret, \\nC. Perriand\\n2 Fauteuil Grand Confort, \\npetit modèle, trois places \\nLe Corbusier, P. Jeanneret, \\nC. Perriand\\n2 Ottomane\\nLe Corbusier, P. Jeanneret, \\nC. Perriand\\n2 Fauteuil Grand Confort, \\npetit modèle, durable\\nLe Corbusier, P. Jeanneret, \\nC. Perriand\\n2 Fauteuil Grand Confort, \\npetit modèle, deux places, durable\\nLe Corbusier, P. Jeanneret, \\nC. Perriand\\n2 Fauteuil Grand Confort, \\npetit modèle, trois places, durable\\nLe Corbusier, P. Jeanneret, \\nC. Perriand\\n2 Ottomane, durable\\nLe Corbusier, P. Jeanneret, \\nC. Perriand\\n3 Fauteuil Grand Confort, \\ngrand modèle\\nLe Corbusier, P. Jeanneret, \\nC. Perriand\\n3 Fauteuil Grand Confort, \\ngrand modèle, deux places\\nLe Corbusier, P. Jeanneret, \\nC. Perriand\\n3 Fauteuil Grand Confort, \\ngrand modèle, trois places\\nLe Corbusier, P. Jeanneret, \\nC. Perriand\\n3 Fauteuil Grand Confort, \\nméridienne\\nLe Corbusier, P. Jeanneret, \\nC. Perriand\\n3 Fauteuil Grand Confort, \\ngrand modèle, durable\\nLe Corbusier, P. Jeanneret, \\nC. Perriand\\n3 Fauteuil Grand Confort, \\ngrand modèle, deux places, \\ndurable\\nLe Corbusier, P. Jeanneret, \\nC. Perriand\\nLebeau Wood Low Table\\nPatrick Jouin\\nMarcel T \\nKazuhide Takahama\\nMexique \\nCharlotte Perriand\\nMex \\nPiero Lissoni\\nMex-Hi\\nPiero Lissoni\\nNest of Tables\\nBodil Kjær\\nNote\\nPiero Lissoni\\nPlana \\nCharlotte Perriand\\nRio  \\nCharlotte Perriand\\nScighera \\nPiero Lissoni\\nSengu Low Table\\nPatricia Urquiola\\nSengu Coffee Table\\nPatricia Urquiola\\nSoft Corner\\nLinde Freya Tangelder\\nSuper Beam Sofa System\\nPatricia Urquiola\\nTable à Plateau \\nIntérchangeable\\nCharlotte Perriand\\nTabouret Méribel/Berger\\nCharlotte Perriand\\nTorei\\nLuca Nichetto\\nTraccia\\nMeret Oppenheim\\nVolage EX–S \\nPhilippe Starck\\n875\\nIco Parisi\\nAeo\\nPaolo Deganello\\nAki Biki Canta\\nKazuide Takahama\\nAntropus\\nMarco Zanuso\\nAuckland\\nJean Marie Massaud\\nBack-Wing Armchair\\nPatricia Urquiola\\nCab Lounge\\nMario Bellini\\nCapitol Complex Armchair\\nHommage à Pierre Jeanneret\\nDodo\\nToshiyuki Kita \\nDoron Hotel\\nCharlotte Perriand\\n \\nExord\\nJeffrey Bernett\\nFeltri\\nGaetano Pesce\\nHigh Back Chair\\nBodil Kjær\\nKangaroo\\nHommage à Pierre Jeanneret\\n1 Fauteuil dossier \\nbasculant\\nLe Corbusier, P. Jeanneret, \\nC. Perriand\\n1 Fauteuil dossier \\nbasculant, Villa Church\\nLe Corbusier, P. Jeanneret, \\nC. Perriand\\n1 Fauteuil dossier \\nbasculant, UAM\\nLe Corbusier, P. Jeanneret, \\nC. Perriand\\n2 Fauteuil Grand Confort, \\npetit modèle \\nLe Corbusier, P. Jeanneret, \\nC. Perriand\\nDivani/Sofas\\u2009/\\u2009\\nSofas\\u2009/Canapés\\nPoltrone/Armchairs\\u2009/\\u2009\\nArmlemnstüle\\u2009/\\u2009Fauteuils\\nTavolini/Low Tables\\u2009/\\u2009\\nNiedrige Tische\\u2009/\\u2009Tables Basses\\nSedie/Chairs/\\n8\\nPiero Lissoni\\nBeam Sofa System\\nPatricia Urquiola\\nBowy-Sofa\\nPatricia Urquiola\\nDress–Up!\\nRodolfo Dordoni\\nDuc \\nMario Bellini\\nDuc-Duc\\nMario Bellini\\nEsosoft\\nAntonio Citterio\\nFloe Insel\\nPatricia Urquiola\\n5 Canapé, Appartement \\nLe Corbusier\\nLe Corbusier, P. Jeanneret, \\nC. Perriand\\nMaralunga/40/ 40-S\\nVico Magistretti\\nMaralunga Maxi/40 Maxi\\nVico Magistretti\\nMet\\nPiero Lissoni\\nMex Cube\\nPiero Lissoni\\nMex-Hi\\nPiero Lissoni\\nMiloe\\nPiero Lissoni\\nModular Imagination\\nVirgli Abloh\\nMoov\\nPiero Lissoni\\nMyWorld\\nPhilippe Starck\\nPrivé\\nPhilippe Starck\\nRefolo\\nCharlotte Perriand\\n36\\n42\\n50\\n162\\n138\\n212\\n170\\n176\\n178\\n180\\n184\\n188\\n186\\n190\\n192\\n195\\n66\\n88\\n336\\n338\\n340\\n342\\n344\\n282\\n284\\n348\\n354\\n308\\n360\\n364\\n366\\n334\\n281\\n356\\n350\\n306\\n160\\n132\\n158\\n128\\n211\\n168\\n64\\n84\\n258\\n214\\n260\\n110\\n106\\n262\\n219\\n100\\n264\\n114\\n120\\n266\\n220\\n124\\n268\\n222\\n148\\n152\\n270\\n226\\n274\\n228\\n230\\n234\\n238\\n240\\n242\\n244\\n247\\n250\\n252\\n276\\n279\\n280\\n288\\n332\\n290\\n292\\n296\\n298\\n300\\n302\\n304\\n56\\n310\\n312\\n314\\n318\\n320\\n322\\n324\\n326\\n328\\n285\\n164\\n144\\n172\\n196\\n166\\n174\\n197\\n201\\n202\\n199\\n200\\n198\\n207\\n209\\n208\\n210\\n72\\n92\\n254\\n213\\n62\\n76\\n80\\n96\\n256\\nNew\\nNew\\nNew\\nNew\\nNew\\nNew\\nNew\\nNew\\nNew\\nStüle/Chaises',\n",
       "  'image_path': 'mid_data/extracted_images/Living_Products_2022_page_3.png'},\n",
       " {'text': 'Collection Chandigarh\\nColourdisc\\nHome Fragrances\\nLC17 Portemanteau, \\nUnités de Camping, \\nRoquebrune-Cap-Martin, 1957\\nLe Corbusier\\nLe Miniature\\nObjects\\nPost Scriptum\\nFormafantasma\\nSestiere\\nPatricia Urquiola\\nSkyscraper\\nBodil Kjær\\nParavent Ambassade\\nCharlotte Perriand\\nParavento Balla\\nGiacomo Balla\\nRadio in Cristallo\\nFranco Albini\\nRéaction Poétique\\nJaime Hayon\\nServing Cart\\nBodil Kjær\\nTramonto a New York\\nGaetano Pesce\\nDeadline\\nRon Gilad\\nLes Grands Trans-Parents\\nMan Ray\\nOtero\\nStudio Simon\\nCarpets\\nGraffiti \\nCharlotte Perriand\\nVérité\\nCharlotte Perriand\\nBramante\\nKazuhide Takahama\\nBramante (2.1/3.1/4.1)\\nKazuhide Takahama\\nDeco\\nHiroyuki Tsugawa\\nFlat\\nPiero Lissoni\\nGhost Wall\\nMikal Harrsen\\nHayama\\nPatricia Urquiola\\nInfinito \\nFranco Albini\\nInfinito Wall\\nFranco Albini\\n20 Casiers standard P.E.N.\\nLe Corbusier, P. Jeanneret\\n20 Casiers standard, \\npieds corolle\\nLe Corbusier, P. Jeanneret, \\nC. Perriand\\nNuage\\nCharlotte Perriand\\nNuage à Plots\\nCharlotte Perriand\\nNuvola Rossa \\nVico Magistretti\\nRialto\\nCarlo Scarpa\\nRiflesso\\nCharlotte Perriand\\nRondos\\nPatricia Urquiola\\nVeliero\\nFranco Albini\\nCapsule Collection\\nby Nemo\\nLamps\\nContenitori–Librerie/\\nComplementi/Complements/\\nAccessori/Accessories/\\nLampade/Lamps/Lampen/\\nSpecchi/Mirrors/Spiegel/\\nTappeti/Carpets/Teppiche/Tapis\\n388\\n384\\n392\\n394\\n400\\n396\\n402\\n406\\n411\\n413\\n416\\n420\\n424\\n426\\n428\\n430\\n432\\n436\\n444\\n460\\n466\\n468\\n480\\n478\\n470\\n474\\n476\\n482\\n484\\n486\\n488\\n498\\n494\\n504\\n502\\n506\\n508\\n510\\n512\\n514\\nNew\\nNew\\nNew\\nNew\\nErgänzungen/Complèments\\nZubehörteile/Accessoires\\nLampes\\nMioroirs\\nContainer Units–Bookshelves/\\nKastenelemente–Bücherregale/\\nCasiers–Bibliothèques\\nEclisse\\nTende/Curtains\\n/Vorhänge/Ridaux\\n516\\n714\\nTheodore Waddell\\nAntella\\nKazuhide Takahama\\nCavalletto \\nFranco Albini\\nLC16 Table de travail \\navec rayonnages, Unité \\nd’Habitation, Nantes-Rezé, 1957 \\nLe Corbusier\\nPA’ 1947\\nIco Parisi\\nPetit Bureau en Forme Libre\\nCharlotte Perriand\\nStadera\\nFranco Albini\\nTavoli/Tables\\u2009/Tische/Tables\\nScrivanie/Desks/\\n374\\n380\\n382\\n376\\n368\\n370\\n372\\nNew\\nNew\\nNew\\nNew\\nSchreibtische/Bureaux',\n",
       "  'image_path': 'mid_data/extracted_images/Living_Products_2022_page_4.png'},\n",
       " {'text': '2 0 2 4\\nS L E E P I N G  C O L L E C T I O N',\n",
       "  'image_path': 'mid_data/extracted_images/06 - SLEEPING COLLECTION 2024_page_1.png'},\n",
       " {'text': '2 0 2 4\\nS L E E P I N G  C O L L E C T I O N',\n",
       "  'image_path': 'mid_data/extracted_images/06 - SLEEPING COLLECTION 2024_page_3.png'},\n",
       " {'text': 'S L E E P I N G  C O L L E C T I O N',\n",
       "  'image_path': 'mid_data/extracted_images/06 - SLEEPING COLLECTION 2024_page_4.png'},\n",
       " {'text': '2 0 2 3\\nS L E E P I N G  C O L L E C T I O N',\n",
       "  'image_path': 'mid_data/extracted_images/Cassina_LB-SLEEPING_page_1.png'},\n",
       " {'text': 'S L E E P I N G  C O L L E C T I O N',\n",
       "  'image_path': 'mid_data/extracted_images/Cassina_LB-SLEEPING_page_3.png'},\n",
       " {'text': '2\\n3\\nTABLE OF\\nCONTENTS\\nA STATELY HOME\\nEsosoft bed, Civil bench, \\nCapitol Complex armchair, La Main Ouverte\\nP. 12\\nAN ECO TECHNOLOGICAL LODGE\\nBio-mbo\\nP. 64\\nMETROPOLITAN INTERIORS\\nMoov, Cab Night\\nP. 48\\nA VILLA AND ITS GARDEN \\nVolage EX-S Night, Stay\\nP. 38',\n",
       "  'image_path': 'mid_data/extracted_images/Cassina_LB-SLEEPING_page_4.png'},\n",
       " {'text': '2 0 2 2\\nS L E E P I N G  P R O D U C T S',\n",
       "  'image_path': 'mid_data/extracted_images/Sleeping_Products_2022_page_1.png'},\n",
       " {'text': 'Sleeping Products\\n2022\\ncassina.com',\n",
       "  'image_path': 'mid_data/extracted_images/Sleeping_Products_2022_page_2.png'},\n",
       " {'text': \"Guanciali/Pillows/\\nKopfkissen/Oreillers\\nTrapuntini/Quilts/\\nSteppauflage/Surmatelas \\nParure/Bed linen set/\\nBettwäsche/Parures de lit\\nCoperte/Blankets/\\nBettdecken/Couvertures\\nHome Fragrances\\nObjects\\nPost Scriptum\\nFormafantasma\\nSestiere\\nPatricia Urquiola\\nSkyscraper\\nBodil Kjær\\nDeadline\\nRon Gilad\\nLes Grands Trans-Parents\\nMan Ray\\nCaprice/Passion\\nPhilippe Starck\\nCotone/Cotone Slim\\nRonan & Edward Bouroullec\\nLeggera\\nGio Ponti\\nSoft Corners\\nLinde Freya Tangelder\\nZig Zag\\nGerrit Thomas Rietveld\\nAntella\\nKazuhide Takahama\\nLC16 Table de travail \\navec rayonnages, Unité \\nd’Habitation, Nantes-Rezé, 1957 \\nLe Corbusier\\nPA' 1947\\nIco Parisi\\nPetit Bureau en Forme Libre\\nCharlotte Perriand\\nSled\\nRodolfo Dordoni\\nDeco\\nHiroyuki Tsugawa\\nFlat\\nPiero Lissoni\\nGhost Wall\\nMikal Harrsen\\nRondos\\nPatricia Urquiola\\nVolage EX-S\\nPhilippe Starck\\nAcute\\nRodolfo Dordoni\\nCivil Bench\\nHommage à Pierre Jeanneret\\nVolage\\nPhilippe Starck\\nVolage EX-S Night\\nPhilippe Starck\\nDuc-Duc\\nMario Bellini\\nRefolo\\nCharlotte Perriand\\nVolage EX-S Night\\nPhilippe Starck\\nParavent Ambassade\\nCharlotte Perriand\\nParavento Balla\\nGiacomo Balla\\nStay\\nNeri&Hu\\nTramonto a New York\\nGaetano Pesce\\nCapsule Collection\\nby Nemo\\nLamps\\nShadowMoon\\nFedora\\nby Schramm\\nGold Deva Conscious\\nNatural Luxurious\\nby Vispring\\nPure Conscious\\nEnergy\\nMotion\\nSommier\\nby Schramm\\nZefiro\\nEclisse\\nTende/Curtains/\\nVorhänge/Ridaux\\n9 Occasional Tables\\nPiero Lissoni\\nBoboli\\nRodolfo Dordoni\\nBowy\\nPatricia Urquiola\\nDjuna\\nKazuhide Takahama\\nLC14 Tabouret Cabanon, \\nRoquebrune-Cap-Martin \\n1952 / LC14 Tabouret Maison du \\nBrésil, Paris 1959\\nLe Corbusier\\nLC14 Tabouret, \\nNantes-Rezé, 1952-1957\\nLe Corbusier\\nSoft Corners\\nLinde Freya Tangelder\\nTraccia\\nMeret Oppenheim\\nVolage EX–S \\nPhilippe Starck\\n875\\nIco Parisi\\nBack–Wing Armchair\\nPatricia Urquiola\\nCapitol Complex Armchair\\nHommage à Pierre Jeanneret\\nDoron Hotel\\nCharlotte Perriand\\nKangaroo\\nHommage à Pierre Jeanneret\\n4 Chaise longue à réglage \\ncontinu \\nLe Corbusier, P. Jeanneret, \\nC. Perriand\\n4 Chaise longue à réglage \\ncontinu, noire\\nLe Corbusier, P. Jeanneret, \\nC. Perriand\\nTre pezzi\\nFranco Albini\\nUtrecht\\nGerrit Thomas Rietveld\\nUtrecht Baby/XL\\nGerrit Thomas Rietveld\\nVolage EX-S Night\\nPhilippe Starck\\nWoodline\\nMarco Zanuso\\nAcute\\nRodolfo Dordoni\\nBio-mbo\\nPatricia Urquiola\\nNote Night\\nPiero Lissoni\\nVolage\\nPhilippe Starck\\nVolage EX-S Night\\nPhilippe Starck\\nLetti/Beds/Betten/Lits\\nComodini/Bedside tables\\nTavolini/Low Tables\\u2009/\\u2009Niedrige\\nSedie/Chairs/Stüle/Chaises\\nContenitori/Container Units/\\nPanche/Benches/Bänke/Bancs\\nDivani/Sofas/Sofas/Canapés\\nComplementi/Complements/\\nLampade/Lamps/Lampen/\\nAccessori/Accessories/\\nParaventi/Screens/\\nSpecchi/Mirrors/Spiegel/\\nTappeti/Carpets/Teppiche/Tapis\\nComplementi letto/Bed\\nMaterassi/Mattress/\\nReti/Bases/Lattenroste/\\nSommiers\\nPoltrone/Armchairs/\\u2009\\nArmlemnstüle/Fauteuils\\nAcute\\nRodolfo Dordoni\\nBio-mbo\\nPatricia Urquiola\\nCab Night\\nMario Bellini\\n35 Maison du Brésil\\nLe Corbusier, C. Perriand\\nMoov\\nPiero Lissoni\\nVolage\\nPhilippe Starck\\nVolage EX-S Night\\nPhilippe Starck\\nScrivanie/Desks/\\n34\\n46\\n72\\n80\\n40\\n98\\n100\\n106\\n108\\n112\\n114\\n116\\n180\\n184\\n124\\n126\\n128\\n132\\n118\\n94\\n104\\n178\\n246\\n248\\n250\\n254\\n122\\n120\\n212\\n218\\n220\\n222\\n186\\n262\\n266\\n267\\n226\\n230\\n236\\n240\\n244\\n194\\n210\\n256\\n268\\n258\\n264\\n270\\n260\\n265\\n272\\n274\\n278\\n68\\n62\\n78\\n86\\n90\\n91\\n88\\n50\\n74\\n134\\n136\\n140\\n142\\n146\\n150\\n228\\n152\\n154\\n156\\n158\\n160\\n163\\n166\\n168\\n171\\n174\\n176\\n164\\n82\\n58\\n76\\n84\\nNachttische/Tables de nuit\\nTische\\u2009/\\u2009Tables Basses\\nKastenelemente/Casiers\\nSchreibtische/Bureaux\\nErgänzungen/Complèments\\nLampes\\nZubehörteile/Accessoires\\nParavents/Paravent\\nMioroirs\\nMatratze/Matelas\\nComplements/Betten ergänzt/\\nCompléments de lits\\nCarpets\\nGraffiti \\nCharlotte Perriand\\nVerité\\nCharlotte Perriand\\nNew\\nNew\\nNew\\nNew\\nNew\\nNew\\nNew\\nNew\\nNew\\nNew\\nNew\\nNew\\nNew\",\n",
       "  'image_path': 'mid_data/extracted_images/Sleeping_Products_2022_page_3.png'},\n",
       " {'text': \"The Cassina Perspective\\nITA\\nENG\\nAvanguardia, autenticità, eccellenza e connubio di capacità tecnologica e \\nsapienza manuale locale. L’identità di Cassina si è costruita su valori solidi \\ne condivisi, per esprimere il meglio del design italiano e internazionale \\ncon un linguaggio coerente, riconoscibile, colto. Attraverso un intreccio \\npeculiare di gesti e parole, Cassina ha saputo far interagire cultura, \\nartigianato e industria, conciliando memoria e ricerca, rigore ed emozione, \\nunicità e sperimentazione, e interpretando le tendenze della quotidianità \\ngrazie a un lavoro costante su estetica e tipologie. Con spirito pionieristico \\ne libero, da oltre 90 anni l’azienda di Meda anticipa i tempi, tracciando un \\npercorso inedito – per intuizione e lungimiranza – nel mondo del design e \\ndell’architettura di interni. Per questo il design di Cassina è esposto nelle \\ncollezioni permanenti dei più importanti musei del mondo. I suoi prodotti \\nsono durevoli e senza tempo, sintesi di bellezza e significato, curati nei \\nmateriali di qualità assoluta e nei dettagli sartoriali. In un continuo dialogo \\ntra passato, presente e futuro, Cassina realizza i modelli iconici del XX \\nsecolo con la Collezione Cassina iMaestri, in cui gli arredi di Le Corbusier, \\nPierre Jeanneret, Charlotte Perriand, Charles Rennie Mackintosh, Gerrit \\nThomas Rietveld, Franco Albini, Marco Zanuso, Ico Parisi e Giacomo Balla \\nvengono rieditati – rispettando disegni e concept funzionali originali – e \\nriattualizzati secondo le evoluzioni tecnologiche. Ed è anche l’azienda \\nche produce le opere di riferimento del design dagli anni '50 all’attualità di \\nalcuni tra i più importanti autori internazionali.\\nCassina continua a guardare al futuro del progetto con audacia, passione \\ne curiosità attraverso The Cassina Perspective: un pensiero consapevole \\ne avveniristico, un orizzonte ricco di configurazioni, in cui i prodotti \\ndall’anima più innovativa e le icone del moderno creano insieme atmosfere \\nautentiche e personali. E confermando l’esclusiva capacità di arredare \\ngli ambienti living, dining e outdoor in modo coordinato e riconoscibile, \\nl’azienda estende oggi gli orizzonti della sua filosofia anche alla camera da \\nletto con The Cassina Perspective at Night; la notte – la sua dimensione \\nonirica, la sua magia – ispira nuove riflessioni sui concetti di relax, \\narmonia e rigenerazione delle idee con un’originale vitalità espressiva \\ne compiutezza formale. Così, proposte caratterizzate da uno stile più \\nclassico e da materiali pregiati (Acute di Rodolfo Dordoni) oppure pensate \\nper dare vita a spazi caldi e informali, in cui tessuti e colori tratteggiano \\nscenari accoglienti sia per la casa sia per l’hôtellerie (Bio-mbo di Patricia \\nUrquiola) si uniscono a tre modelli già presenti in collezione, Cab Night, \\nVolage e Moov, per delineare un panorama ampio di possibilità, in cui \\nla perfetta combinazione tra ergonomia ed estetica è il risultato delle \\nindagini avanzate compiute da Cassina sulla cultura del dormire; per un \\nbenessere all’avanguardia, ottenuto anche con innovativi strumenti per \\nil miglioramento della qualità dell’aria e la riduzione del rumore.\\xa0 Letti, \\nabbinati a comodini, contenitori notte, scrittoi, accessori e biancheria \\ne ai pezzi iconici di Cassina, disegnano ambienti completi secondo un \\ncodice di sensibilità formale, solidità e autorevolezza intellettuale, creando \\nsistemi di presenze naturalmente empatiche, che sanno stabilire una \\nsintonia emozionale con chi le usa e adattarsi a interpretazioni e stili di \\nvita differenti. Mostrando l’eclettismo e la versatilità del design Cassina in \\ntutti i luoghi dell’abitare attraverso un lessico non convenzionale, distintivo \\ne potente, capace di esprimere la qualità tangibile sia dell’oggetto singolo \\nsia dell’insieme, al di là delle mode effimere. E quell’istinto di anticipare nel \\npresente le tendenze di domani.\\nAvant-gardism, authenticity, excellence and the combination of \\ntechnological skill with local manual expertise. Cassina’s identity is \\nfounded on these solid, shared values to express the best of Italian and \\ninternational design with a cohesive, recognisable and cultured approach. \\nThrough a unique weave of words and actions, Cassina has successfully \\namalgamated culture, craftsmanship and industry, reconciling tradition \\nwith research, rigour with emotion and uniqueness with experimentation, \\nwhile interpreting everyday trends thanks to its untiring work on aesthetics \\nand codification. With this free and pioneering spirit, the company based \\nin Meda has anticipated the times for over 90 years, blazing an original \\nnew trail - in terms of intuition and farsightedness - in the world of interior \\ndesign and architecture. This is why Cassina’s products form part of \\nthe permanent collections of the world’s most prominent museums. Its \\nfurniture is durable and timeless, a synthesis of beauty and meaning, \\nimpeccable for the quality of the materials and sartorial details. In a \\ncontinuous dialogue between the past, present and future, Cassina \\nproduces the iconic models by the great architects of the XX Century \\nfor the Cassina iMaestri Collection, in which the items of furniture by \\nLe Corbusier, Pierre Jeanneret, Charlotte Perriand, Charles Rennie \\nMackintosh, Gerrit Thomas Rietveld, Franco Albini, Marco Zanuso, Ico \\nParisi and Giacomo Balla are revisited – respecting the original designs \\nand functional concepts – and modernised using the latest technologies. \\nIt is also a company that since the 1950s has produced seminal works of \\ncontemporary design by some of the world’s leading designers.\\nCassina continues to look to the future of design with courage, passion \\nand curiosity through The Cassina Perspective: a conscious and forward-\\nthinking concept that offers a broad horizon of configurations for the \\nhome where the most innovative products and icons of Modern design \\ncreate authentic and personal atmospheres. Confirming its exclusive \\nability to furnish living rooms, dining areas and outdoor environments \\nin a coordinated and recognisable way, the company now extends this \\nphilosophy to the bedroom with The Cassina Perspective at Night. The \\nnight, with its dreamlike and magic dimension, inspires new reflections on \\nthe concepts of relaxation, harmony and the regeneration of ideas with \\noriginal expressive vitality and formal completeness. As such, solutions \\ndistinctive for their classic style and fine materials (Acute by Rodolfo \\nDordoni) or designed to give life to warm and informal spaces, where \\nfabrics and colours create welcoming scenarios for both the home and \\nthe hotel sector (Bio-mbo by Patricia Urquiola), are combined with three \\nmodels from the existing collection, Cab Night, Volage and Moov, to offer \\na wide range of possibilities where the perfect combination of ergonomics \\nand aesthetics is the result of advanced research carried out by Cassina \\non the culture of sleeping. The collection boasts cutting-edge well-being, \\nthanks to innovative features that improve air quality and reduce noise, \\nand the design excellence and compositional freedom created through \\nthe combination of beds with bedside tables, night-time storage units, \\ndesks, accessories and linen, together with Cassina's iconic pieces, create \\ncomplete environments according to a code of formal sensitivity, solidity \\nand intellectual authority. Empathetic solutions that establish emotional \\nharmony with those who use them, adapting to different interpretations \\nand lifestyles. Demonstrating the eclecticism and versatility of Cassina’s \\ndesign in all living spaces with an unconventional, distinct and powerful \\nlexicon capable of expressing the tangible quality of both the single object \\nand the overall decor, going beyond fleeting trends, with the ability to \\nanticipate tomorrow’s trends today.\\nCassina.\\nLa sede/The headquarters/ \\nDer Sitz/La siège\\nThe Cassina Perspective\\nCassina Sleeping\",\n",
       "  'image_path': 'mid_data/extracted_images/Sleeping_Products_2022_page_4.png'},\n",
       " {'text': 'I M A E S T R I  P R O D U C T S',\n",
       "  'image_path': 'mid_data/extracted_images/IMaestri_Products_2022_page_1.png'},\n",
       " {'text': 'iMaestri Products\\n2022\\ncassina.com',\n",
       "  'image_path': 'mid_data/extracted_images/IMaestri_Products_2022_page_2.png'},\n",
       " {'text': \"Accordo\\nDoron Hotel\\nGraffiti\\nGuéridon J.M.\\nIndochine\\nLe Monde de\\nCharlotte Perriand\\nMexique\\nMexique Stool\\nNuage\\nNuage à Plots \\nOmbra\\nOmbra Tokyo\\nParavent Ambassade\\nPetit Bureau \\nen Forme Libre\\nPlana\\nRefolo\\nRiflesso \\nRio\\nTable à Plateau \\nIntérchangeable\\nTable en Forme Libre\\nTabouret Méribel/Berger\\nTokyo Chaise Longue\\nTokyo Dormeuse\\nVentaglio\\nVérité\\nDoron Hotel Outdoor\\nMexique Outdoor\\nMexique Stool Outdoor\\nTable à Plateau \\nIntérchangeable Outdoor\\nLC14 Tabouret Cabanon, \\nRoquebrune-Cap-Martin \\n1952 / LC14 Tabouret Maison \\ndu Brésil, Paris 1959\\nLC14 Tabouret, \\nNantes-Rezé, 1952-1957\\nLC15 Table de conférence, \\nAtelier Le Corbusier, Paris \\n1958 \\nLC16 Table de travail \\navec rayonnages, Unité \\nd’Habitation, Nantes-Rezé, 1957 \\nLC17 Portemanteau, \\nUnités de Camping, \\nRoquebrune-Cap-Martin, 1957\\nService Prunier\\nCollection Chandigarh\\n1 Fauteuil dossier \\nbasculant\\n1 Fauteuil dossier \\nbasculant, Villa Church\\n1 Fauteuil dossier \\nbasculant, UAM\\n2 Fauteuil Grand Confort, \\npetit modèle\\n2 Fauteuil Grand Confort, \\npetit modèle, deux places\\n2 Fauteuil Grand Confort, \\npetit modèle, trois places\\n2 Ottomane\\n2 Fauteuil Grand Confort, \\npetit modèle, durable\\n2 Fauteuil Grand Confort, \\npetit modèle, deux places, \\ndurable\\n2 Fauteuil Grand Confort, \\npetit modèle, trois places, \\ndurable\\n2 Ottomane, durable\\n3 Fauteuil Grand Confort, \\ngrand modèle\\n3 Fauteuil Grand Confort, \\ngrand modèle, deux places\\n3 Fauteuil Grand Confort, \\ngrand modèle, trois places\\n3 Fauteuil Grand Confort, \\nméridienne\\n3 Fauteuil Grand Confort, \\ngrand modèle, durable\\n3 Fauteuil Grand Confort, \\ngrand modèle, deux \\nplaces, durable\\n3 Fauteuil Grand Confort, \\ngrand modèle, trois places, \\ndurable\\n3 Fauteuil Grand Confort, \\nméridienne, durable\\n4 Chaise longue à réglage \\ncontinu\\n4 Chaise longue à réglage \\ncontinu, noire\\n5 Canapé, Appartement \\nLe Corbusier\\n6 Table tube d’avion\\n7 Fauteuil tournant\\n8 Tabouret tournant\\n9 Tabouret\\n9 Tabouret de salle \\nde bains\\n10 Table en tube\\n10 Table en tube, \\ngrand modèle\\n10 Table en tube basse\\n10 Table en tube basse, \\ngrand modèle\\n11 Table pieds corolle, \\nAppartement Le Corbusier\\n11 Table pieds corolle, \\nplateau bois\\n20 Casiers standard P.E.N.\\n20 Casiers standard, \\npieds corolle\\nLe Miniature\\n1 Fauteuil dossier \\nbasculant, Outdoor\\n3 Fauteuil Grand Confort, \\ngrand modèle, Outdoor\\n3 Fauteuil Grand Confort, \\ngrand modèle, deux places, \\nOutdoor\\n3 Fauteuil Grand Confort, \\ngrand modèle, trois places, \\nOutdoor\\n6 Table tube d’avion, \\nOutdoor\\n7 Fauteuil tournant, \\nOutdoor\\n8 Tabouret tournant, \\nOutdoor\\n10 Table en tube basse, \\nOutdoor\\n10 Table en tube basse, \\ngrand modèle, Outdoor\\nCharles Rennie \\nMackintosh\\nBerlino Table\\t\\nHill House 1 \\nWillow 1 \\nGöteborg 1\\nCavalletto\\nCicognino \\nInfinito \\nInfinito Wall\\nLuisa\\nRadio in Cristallo\\nStadera\\nTL3\\nTre Pezzi\\nVeliero \\nAntropus \\nLady \\nWoodline\\n875 \\nOlimpino \\nPA' 1947\\nParavento Balla \\nMarco Zanuso\\nIco Parisi\\nGiacomo Balla\\nErik Gunnar Asplund\\nCharlotte Perriand\\nFranco Albini\\nLe Corbusier,\\nCharlotte Perriand  \\nLe Corbusier,\\nPierre Jeanneret\\nCollection\\nLe Corbusier\\nGerrit \\nThomas Rietveld\\nElling Buffet\\nRed and Blue  \\nBlack Red and Blue \\nZeilmaker Version\\nUtrecht\\nZig-Zag\\n184\\n218\\n248\\n258\\n186\\n222\\n240\\n242\\n246\\n226\\n230\\n232\\n250\\n216\\n188\\n190\\n192\\n194\\n196\\n198\\n200\\n202\\n204\\n208\\n212\\n214\\n228\\n234\\n236\\n254\\n166\\n170\\n180\\n172\\n174\\n176\\n178\\n144\\n154\\n146\\n156\\n148\\n160\\n150\\n162\\n152\\n136\\n120\\n96\\n97\\n100\\n102\\n104\\n106\\n108\\n110\\n138\\n134\\n122\\n 140\\n142\\n126\\n128\\n10\\n44\\n21\\n31\\n71\\n81\\n12\\n48\\n22\\n62\\n32\\n73\\n35\\n82\\n14\\n52\\n23\\n63\\n24\\n64\\n33\\n76\\n36\\n83\\n41\\n86\\n42\\n88\\n90\\n93\\n94\\n17\\n54\\n29\\n66\\n18\\n56\\n19\\n58\\n20\\n61\\n30\\n68\\n34\\n78\\nLC12 Table La Roche \\n35 Maison du Brésil\\nCollection Le Corbusier®, \\nPierre Jeanneret®, \\nCharlotte Perriand®\\n112\\n \\nNew\\nNew\\nNew\\nNew\",\n",
       "  'image_path': 'mid_data/extracted_images/IMaestri_Products_2022_page_3.png'},\n",
       " {'text': 'DEU\\nENG\\nFRA\\nMit der Kollektion “iMaestri” hat Cassina 1965 \\neine philologische Tätigkeit zur Auswahl und \\nReproduktion der bedeutendsten, von den \\nHauptakteuren der Moderne kreierten Möbel \\neingeleitet, die als einzigartiger Bezug für das \\nzeitgenössische Design gelten.\\nAngefangen vom Design von \\nLe Corbusier, Pierre Jeanneret, Charlotte \\nPerriand, wurde diese Arbeit mit den Projekten \\nvon Gerrit Thomas Rietveld, Charles Rennie \\nMackintosh, Erik Gunnar Asplund, Charlotte \\nPerriand, Franco Albini, Marco Zanuso, Ico Parisi \\nand Giacomo Balla. fortgesetzt.\\nProjekttreue ist für Cassina mit einer strengen \\nAnalyse der Aussagen der Originale anhand von \\nZeichnungen, Skizzen, Prototypen und jeglichen \\nanderen, verfügbaren Dokumenten – zu denen \\nausschließlich die Firma Zugang hat – sowie mit \\ndem Austausch mit den Erben und Mitarbeitern \\nverbunden, die die Tätigkeit der Urheber am \\nbesten kannten und kennen.\\nDank dieser Prozedur fertigt Cassina \\nGegenstände, die unanfechtbar die Ziele ihrer \\nSchöpfer und die tiefgehende Gestaltungsarbeit \\nwiderspiegeln, aus der sie hervorgegangen sind, \\nobwohl das Unternehmen dafür auf innovative \\nTechnologien und Materialien zurückgreift.\\nZum Schutz des Wertes der hergestellten \\nErzeugnisse und der Werte ihrer Schöpfer \\nwird auf jedem Möbel der Kollektion \\n“CassinaiMaestri” folgendes unauslöschlich \\naufgeprägt:\\n— das Autogramm des Urhebers, das Eigentum \\nder rechtmäßigen Erben ist und dessen Nutzung \\nexklusiv der Firma Cassina gewährt wurde und \\naufgrund der Umsetzung in eine Marke die \\nAuthentizität des Möbelstücks zertifiziert;\\n— das Logo “Cassina iMaestri”, in das die \\nUrheber-Marke eingegliedert ist, mit der der \\nUrheber seine Projekte identifiziert hat;\\n— die fortlaufende Nummer, die die \\nFertigungschronologie definiert, die erfolgte \\nQualitätsendkontrolle nachweist und schließlich \\nauch den Erben die Kontrolle der genauen \\nVergütung der Urheberrechte ermöglicht.\\nSchließlich wird jedem Möbelstück \\nauch ein “Personalausweis” beigefügt. \\nDieses Zertifikat weist außer der \\nfortlaufenden Fertigungsnummer des \\neinzelnen Möbelstücks auch detaillierte \\nInformationen über seine Merkmale, das \\nheißt, die verwendeten Materialien, die \\nangewandten Interpretationskriterien, das \\nKonstruktionsschema, das Ursprungs – und \\nFertigungsjahr, biografische Informationen zum \\nDesigner, bibliografische Angaben sowie eine \\nListe der Museen und Kulturinstitute aus, in \\ndenen das Produkt ausgestellt wurde oder zu \\nderen ständigen Kollektionen es gehört.\\nCassina initiated a philological project to select \\nand restyle the most significant furniture by \\nleaders of the Modernist Movement in 1965; this \\nwas the idea behind the “iMaestri” collection, a \\nset of landmark pieces in contemporary design.\\nIt began with the designs of Le Corbusier, Pierre \\nJeanneret, Charlotte Perriand and continued \\nwith iconic pieces by Gerrit Thomas Rietveld, \\nCharles Rennie Mackintosh, Erik Gunnar \\nAsplund, Charlotte Perriand, Franco Albini, \\nMarco Zanuso, Ico Parisi and Giacomo Balla.\\nIn order to render the pieces as faithfully as \\npossible, Cassina rigorously analysed the \\nmeaning behind the original pieces using \\ndesigns, sketches, prototypes and any other \\navailable documents – to which it had exclusive \\naccess – and also consulted with heirs and \\ncollaborators who were most familiar with the \\nwork of the authors.\\nThis allowed Cassina to fashion pieces that \\nindubitably reflected the intentions of the \\noriginal designers along with the subtleties of \\nthe design planning that went into the original \\nprojects, whilst availing of the most up-to-date \\ntechnology and materials.\\nIn order to safeguard the value of the products \\nand values of the original designers, each \\n“Cassina iMaestri” item is indelibly marked with \\nthe following:\\n— the signature of the author, owned by his \\nor her lawful heirs, with exclusive rights to \\nuse by Cassina, and the trademark certifying \\nauthenticity of the furniture piece;\\n— the “Cassina iMaestri” logo, containing the \\ntrademark of the author corresponding to the \\ndesign used by the author to identify his or her \\nprojects;\\n— the progressive ID production number \\nattesting to the final quality control measures \\ntaken and ensuring that the heirs are fairly \\ncompensated for their copyright.\\nFinally, an “Identity Card” comes with each \\npiece of furniture. This certificate contains \\nthe progressive ID production number and \\ndetailed information on the features of the item: \\nthe materials used, the Interpretation criteria \\nadopted, the construction design, the year  \\nof origin and production, biographical notes  \\non the designer, bibliographic notes and a list  \\nof the museums and cultural institutions  \\nwhere it was exhibited or became part  \\nof permanent collections.\\nEn 1965, avec la collection “iMaestri”, Cassina a \\nlancé un travail philologique de sélection et de \\nreconstruction des meubles les plus significatifs \\ndes principaux acteurs du Mouvement Moderne, \\ndes références absolues en termes de design \\ncontemporain.\\nCe travail, qui commence avec le design de  \\nLe Corbusier, Pierre Jeanneret, Charlotte \\nPerriand, se poursuit avec Gerrit Thomas \\nRietveld, Charles Rennie Mackintosh,  \\nErik Gunnar Asplund et Charlotte Perriand ainsi \\nque Franco Albini, Marco Zanuso, Ico Parisi et \\nGiacomo Balla.\\nÊtre fidèle au projet signifie pour Cassina, \\nanalyser rigoureusement le vrai \\nsens des originaux, à travers des dessins, \\ndes ébauches, des prototypes et tout \\nautre document disponible – auxquels elle \\na l’accès exclusif – mais c’est également \\ntravailler en interaction avec les héritiers \\net les collaborateurs qui ont bien connu ou \\nconnaissent l’activité des auteurs.\\nEn procédant de la sorte, Cassina édite des \\npièces qui reflètent incontestablement les \\nintentions de celui ou celle qui les a créées ainsi \\nque la finesse du travail de conception dont \\nelles sont issues, tout en ayant recours à des \\ntechnologies et à des matériaux innovants.\\nDans le but de sauvegarder la valeur des objets \\nproduits et respecter les valeurs de leurs \\ncréateurs, chaque meuble “Cassina iMaestri” \\nporte une gravure indélébile où figurent:\\n— la signature de l’auteur dont les héritiers \\nlégitimes ont la propriété et dont Cassina \\na l’usage exclusif; cette signature a donné \\nnaissance à une marque, qui certifie \\nl’authenticité du meuble;\\n— le logo “Cassina iMaestri” dans lequel  \\nest insérée la marque de reconnaissance de \\nl’auteur, correspondant au dessin avec lequel, \\nla plupart du temps, l’auteur identifiait  \\nses projets.\\n— le numéro de série qui identifie la chronologie \\nde production, témoigne du contrôle final de \\nqualité et, pour finir, il permet aux héritiers de \\ncontrôler le versement exact des droits d’auteur.\\nEnfin, chaque meuble est accompagné d’une \\n“Carte d’identité”. Ce certificat indique non \\nseulement le numéro de série de production \\nde la pièce en question, mais il contient \\négalement des informations détaillées sur \\nses caractéristiques: matériaux employés, \\ncritères d’interprétation adoptés, schéma de \\nconstruction, année d’origine et de production, \\ntraits biographiques sur le designer, mentions \\nbibliographiques et liste des musées et des \\ninstitutions culturelles où elle a été exposée \\nou bien où elle a intégré les collections \\npermanentes.\\nITA\\n— la firma dell’Autore, di proprietà dei legittimi Eredi, il cui uso è stato \\nconcesso in esclusiva a Cassina, e che, costituita in marchio,  \\ncertifica l’autenticità del mobile; \\n— il logotipo “Cassina iMaestri” in cui è inserito il marchio di \\nriconoscimento dell’autore, corrispondente al disegno con il quale \\nl’Autore stesso identificava i propri progetti; \\n— il numero progressivo che individua la cronologia di produzione, \\ntestimonia l’avvenuto controllo finale di qualità e, infine, consente \\nCon la collezione “iMaestri”, nel 1965, Cassina ha dato avvio a un lavoro filologico di selezione \\ne ricostruzione dei mobili più significativi dei protagonisti del Movimento Moderno, riferimenti \\nassoluti per il design contemporaneo. Iniziato con il design di Le Corbusier, Pierre Jeanneret, \\nCharlotte Perriand, il lavoro è proseguito con Gerrit Thomas Rietveld, Charles Rennie Mackintosh, \\nErik Gunnar Asplund, Charlotte Perriand, Franco Albini, Marco Zanuso, Ico Parisi e Giacomo Balla. \\nFedeltà al progetto significa per Cassina rigorosa analisi dei significati degli originali, attraverso \\ndisegni, schizzi, prototipi e ogni altro documento disponibile – cui ha accesso esclusivo –, e \\nconfronto con gli eredi e i collaboratori che meglio conobbero e conoscono l’attività degli autori.\\nGrazie a questa procedura, Cassina edita pezzi che rispecchiano, incontestabilmente, le \\nintenzioni di chi li ha creati e la finezza del lavoro di progettazione da cui sono nati, pur facendo \\nricorso a tecnologie e a materiali innovativi. A salvaguardia del valore degli oggetti prodotti  \\ne dei valori dei loro creatori ogni mobile “Cassina iMaestri” porta impressi indelebilmente: \\nagli Eredi il controllo dell’esatta corresponsione dei diritti d’autore. \\nInfine, una “Carta d’Identità” accompagna ogni mobile. Questo \\ncertificato, oltre al numero progressivo di produzione del singolo \\npezzo, riporta dettagliate informazioni sulle sue caratteristiche: \\nmateriali impiegati, criteri interpretativi adottati, schema costruttivo, \\nanno di origine e di produzione, notizie biografiche sul designer, cenni \\nbibliografici ed elenco dei Musei e delle Istituzioni Culturali ove è stato \\nesposto o è entrato a far parte delle collezioni permanenti. \\niMaestri\\n4\\niMaestri',\n",
       "  'image_path': 'mid_data/extracted_images/IMaestri_Products_2022_page_4.png'},\n",
       " {'text': '2 0 2 3\\nL I G H T I N G  C O L L E C T I O N',\n",
       "  'image_path': 'mid_data/extracted_images/Cassina_LB-LIGHTING_page_1.png'},\n",
       " {'text': '2\\n3',\n",
       "  'image_path': 'mid_data/extracted_images/Cassina_LB-LIGHTING_page_2.png'},\n",
       " {'text': '4\\nL I G H T I N G  C O L L E C T I O N',\n",
       "  'image_path': 'mid_data/extracted_images/Cassina_LB-LIGHTING_page_3.png'},\n",
       " {'text': '2\\n3\\nTHE CASSINA \\nPERSPECTIVE \\nON LIGHT \\nLighting Collection\\nIntroduction\\nEN\\n THE CASSINA PERSPECTIVE ON LIGHT\\nCassina expands its vision of the home with a new lighting collection that in-\\ntegrates and completes its offer to create welcoming settings that respond to \\na wide array of styles, in perfect harmony with the company’s philosophy. Al-\\nready aware of the importance of light, Cesare Cassina was pioneering in this \\nfield when he joined forces with Dino Gavina in 1962 to establish Flos. Today the \\ncompany returns its attention to this sector and presents a first lighting cata-\\nlogue that unites both established and new names to bring light to ‘The Cassina \\nPerspective’. The collection, which will continue to expand in the future, com-\\nbines important novelties with the decorative lighting developed internally over \\nthe past years by Cassina.\\nIT\\n THE CASSINA PERSPECTIVE SOTTO I RIFLETTORI\\nCassina amplia la sua visione della casa con una nuova collezione di illuminazione \\nche completa la sua proposta per creare ambienti accoglienti che rispondono a \\nun ampio spettro di stili, in perfetta armonia con la filosofia dell’azienda. Già con-\\nsapevole della centralità della luce, Cesare Cassina è stato un pioniere in questo \\ncampo unendo le forze con Dino Gavina per fondare Flos nel 1962. Oggi l\\'azienda \\ntorna a dedicarsi a questo settore e presenta il primo catalogo d’illuminazione che \\nunisce autori affermati a nuovi nomi per dare luce a \"The Cassina Perspective\". \\nLa collezione, destinata ad espandersi nel tempo, combina novità importanti con \\nl\\'illuminazione decorativa sviluppata internamente da Cassina negli ultimi anni.',\n",
       "  'image_path': 'mid_data/extracted_images/Cassina_LB-LIGHTING_page_4.png'},\n",
       " {'text': '2 0 2 4\\nL I V I N G  C O L L E C T I O N',\n",
       "  'image_path': 'mid_data/extracted_images/02 - LIVING COLLECTION 2024_page_1.png'},\n",
       " {'text': 'L I V I N G  C O L L E C T I O N',\n",
       "  'image_path': 'mid_data/extracted_images/02 - LIVING COLLECTION 2024_page_3.png'},\n",
       " {'text': '3\\nTABLE OF\\nCONTENTS\\nA BOURGEOIS \\nPENTHOUSE \\nMoncloud, Maralunga, \\nBeam Sofa System, Met\\nP. 178\\nOPEN \\nARCHITECTURE\\nMex, Maralunga 50, 8, \\nChaise longue Indochine, Cornaro\\nP. 204\\nA LIBERTY CITY \\nAPARTMENT\\n8, 5 Canapé, Appartement \\nLe Corbusier\\nP. 228\\nAN ECO \\nTECHNOLOGICAL LODGE\\nSengu Sofa, Dress-Up!, \\nP. 154\\nA VILLA \\nAND ITS GARDEN\\nEsosoft sofa, Moncloud, 8\\nP. 84\\nA STATELY HOME\\nCornaro, Notturno a New York, \\nCapitol Complex Sofa, Sengu bold, \\nSoriana\\nP. 12\\nA REFINED HOME \\nIMMERSED IN NATURE\\nTramonto a New York, 8 Cube, \\nMex Cube, Privè\\nP. 66\\nMETROPOLITAN \\nINTERIORS\\nSoriana, Dress-Up\\nP. 128',\n",
       "  'image_path': 'mid_data/extracted_images/02 - LIVING COLLECTION 2024_page_4.png'},\n",
       " {'text': '2 0 2 2\\nO U T D O O R  P R O D U C T S',\n",
       "  'image_path': 'mid_data/extracted_images/Outdoor_Products_2022_page_1.png'},\n",
       " {'text': 'Outdoor Products\\n2022\\ncassina.com',\n",
       "  'image_path': 'mid_data/extracted_images/Outdoor_Products_2022_page_2.png'},\n",
       " {'text': '7 Fauteuil tournant, \\nOutdoor\\nCharlotte Perriand – Intégré à la \\nCollection Le Corbusier®, Pierre \\nJeanneret®, Charlotte Perriand®\\n8 Tabouret tournant, \\nOutdoor\\nCharlotte Perriand – Intégré à la \\nCollection Le Corbusier®, Pierre \\nJeanneret®, Charlotte Perriand® \\nDine Out   \\nRodolfo Dordoni\\nLeggera Outdoor\\nGio Ponti\\nMexique Stool\\nCharlotte Perriand\\n3 Fauteuil Grand Confort, \\ngrand modèle, Outdoor \\nLe Corbusier, Pierre Jeanneret, \\nCharlotte Perriand\\n3 Fauteuil Grand Confort, \\ngrand modèle, deux places, \\nOutdoor\\nLe Corbusier, Pierre Jeanneret, \\nCharlotte Perriand\\n3 Fauteuil Grand Confort, \\ngrand modèle, trois places, \\nOutdoor\\nLe Corbusier, Pierre Jeanneret, \\nCharlotte Perriand \\nDine Out\\nRodolfo Dordoni\\nFenc-e Nature  \\nPhilippe Starck\\nSail Out\\nRodolfo Dordoni\\nTrampoline Love-bed\\nPatricia Urquiola\\nTrampoline\\nPatricia Urquiola\\nDivani/Sofas/\\nSofas/Canapés\\nTavoli/Tables/\\nTische/Tables\\nPoltrone/Armchairs/\\nSessel/Fauteuils\\nSedie/Chairs/\\nStühle/Chaises\\nAccessori/Accessories/\\nZubehörteile/Accessoires\\nCura e Manutenzione/ \\nCare and Maintenance/\\nPflege und Instandhaltung/\\nTraitement et Entretien\\nTavolini/Low tables/\\nNiedrige tische/Tables basses\\n1 Fauteuil dossier \\nbasculant, Outdoor\\nLe Corbusier, Pierre Jeanneret, \\nCharlotte Perriand\\nCarlotta\\nAfra & Tobia Scarpa\\nDine Out   \\nRodolfo Dordoni\\nDoron Hotel Outdoor\\nCharlotte Perriand\\nFenc-e Nature   \\nPhilippe Starck\\nTrampoline\\nPatricia Urquiola\\nTrampoline Sunbed\\nPatricia Urquiola\\n6 Table tube d’avion, \\nOutdoor\\nLe Corbusier, Pierre Jeanneret, \\nCharlotte Perriand \\nDine Out   \\nRodolfo Dordoni\\nLebeau Outdoor\\nPatrick Jouin\\nMexique Outdoor\\nCharlotte Perriand\\n10 Table en tube basse, \\nOutdoor\\nLe Corbusier, Pierre Jeanneret, \\nCharlotte Perriand\\n10 Table en tube basse, \\ngrand modèle, Outdoor\\nLe Corbusier, Pierre Jeanneret, \\nCharlotte Perriand \\nBowy Outdoor\\nPatricia Urquiola\\nCarlotta\\nAfra & Tobia Scarpa\\nFenc-e Nature   \\nPhilippe Starck\\nMexique Coffee Tables \\n- Outdoor\\nCharlotte Perriand\\nSail Out\\nRodolfo Dordoni\\nTable À Plateau \\nIntérchangeable Outdoor\\nCharlotte Perriand\\nCarpets Outdoor\\nLamps Outdoor\\nObjects Outdoor\\nParasol\\n21\\n58\\n78\\n126\\n140\\n138\\n22\\n60\\n62\\n80\\n84\\n88\\n93\\n94\\n112\\n120\\n130\\n23\\n64\\n66\\n68\\n70\\n74\\n96\\n26\\n28\\n32\\n38\\n44\\n50\\n52\\n54\\n56\\n98\\n100\\n104\\n108\\n110\\nNew\\nNew\\nNew\\nNew\\nNew\\nNew',\n",
       "  'image_path': 'mid_data/extracted_images/Outdoor_Products_2022_page_3.png'},\n",
       " {'text': 'The Cassina Perspective\\nITA\\nThe Cassina Perspective\\nENG\\nAvanguardia, autenticità, eccellenza e connubio di capacità tecnologica \\ne sapienza manuale locale. L’identità di Cassina si è costruita su \\nvalori solidi e condivisi, per esprimere il meglio del design italiano \\ne internazionale con un linguaggio coerente, riconoscibile, colto. \\nAttraverso un intreccio peculiare di gesti e parole, Cassina ha saputo \\nfar interagire cultura, artigianato e industria, conciliando memoria e \\nricerca, rigore ed emozione, unicità e sperimentazione, e interpretando \\nle tendenze della quotidianità grazie a un lavoro costante su estetica e \\ntipologie. Con spirito pionieristico e libero, da oltre 90 anni l’azienda di \\nMeda anticipa i tempi, tracciando un percorso inedito – per intuizione e \\nlungimiranza – nel mondo del design e dell’architettura di interni. \\nPer questo il design di Cassina è esposto nelle collezioni permanenti \\ndei più importanti musei del mondo. I suoi prodotti sono durevoli e \\nsenza tempo, sintesi di bellezza e significato, curati nei materiali di \\nqualità assoluta e nei dettagli sartoriali. La perfezione nelle lavorazioni \\ndi alta falegnameria, nella fattura delle pelli e nelle tappezzerie e \\nimbottiti è rappresentata ancora oggi da capolavori come la sedia 699 \\nSuperleggera di Gio Ponti, la famiglia CAB di Mario Bellini, il divano \\nMaralunga di Vico Magistretti. \\nIn un continuo dialogo tra passato, presente e futuro, Cassina realizza \\ni modelli iconici creati dagli architetti del XX secolo con la Collezione \\nCassina iMaestri, in cui gli arredi di Le Corbusier, Pierre Jeanneret, \\nCharlotte Perriand, Charles Rennie Mackintosh, Gerrit Thomas \\nRietveld, Franco Albini e Marco Zanuso vengono rieditati – rispettando \\naccuratamente disegni e concept funzionali originali – e riattualizzati \\nsecondo le evoluzioni tecnologiche. Ed è anche l’azienda che produce le \\nopere di riferimento del design contemporaneo dagli anni 50 all’attualità, \\nfirmate da alcuni tra i più importanti progettisti internazionali: da Ronan \\n& Erwan Bouroullec a Rodolfo Dordoni, Piero Lissoni, Gaetano Pesce, \\nPhilippe Starck, e Patricia Urquiola, art director dell’azienda. \\nOggi Cassina continua a guardare al futuro del progetto con audacia, \\npassione, curiosità e un approccio aperto e olistico. Confermando \\nl’esclusiva capacità di arredare gli ambienti living e dining in modo \\ncompleto, l’azienda estende gli orizzonti della sua filosofia anche agli \\nspazi esterni della casa attraverso The Cassina Perspective Goes \\nOutdoor: un concetto, un pensiero consapevole e avveniristico; un \\norizzonte ampio e dettagliato di configurazioni, in cui i prodotti dall’anima \\npiù innovativa e le icone del moderno creano insieme atmosfere \\nautentiche, accoglienti, personali. Così The Cassina Perspective Goes \\nOutdoor abbina la Collection Le Corbusier, Pierre Jeanneret, Charlotte \\nPerriand, rinnovata nei tessuti e nelle finiture, e due nuovi progetti di \\nCharlotte Perriand – il Table à Plateau Interchangeable, ora in veste \\noutdoor, e la sedia Doron Hotel, una riedizione sia in versione indoor \\nsia per esterni – a tre grandi interpreti contemporanei: Philippe Starck, \\nRodolfo Dordoni e Patricia Urquiola.\\nDialogando secondo un codice di sensibilità formale, solidità e \\nautorevolezza culturale, questi sistemi di presenze naturalmente \\nempatiche, capaci di adattarsi a interpretazioni e stili di vita differenti, \\nesprimono l’anima di quattro ambienti open air. Quattro paesaggi privati \\n– l’esterno contemporaneo, il rifugio tropicale, il piccolo paradiso privato, \\nla terrazza metropolitana – aperti alla luce e al contesto, da vivere in \\nsintonia con la natura grazie ad arredi in materiali di alta qualità, dalle \\nforme disegnate nei particolari e delle dimensioni calibrate, valorizzati \\nda nuove proposte di illuminazione, tappeti e accessori per l’esterno.\\nMostrando l’eclettismo e la versatilità del design Cassina anche negli \\nspazi esterni dell’abitare con un lessico non convenzionale, distintivo e \\npotente, capace di esprimere la qualità tangibile sia dell’oggetto singolo \\nsia dell’insieme, al di là delle mode effimere. E quell’istinto di anticipare \\nnel presente ciò che sarà classico domani.\\nAvant-gardism, authenticity, excellence and the combination of \\ntechnological skill and local craftsmanship expertise. Cassina’s \\nidentity is founded on solid and shared values that express the best \\nof Italian and international design with a cohesive, recognisable and \\ncultured approach. Through a unique weave of words and actions, \\nCassina has successfully amalgamated culture, craftsmanship and \\nindustry, reconciling tradition with research, rigour with emotions and \\nuniqueness with experimentation, interpreting everyday trends thanks \\nto its constant work on aesthetics and codification. The pioneering and \\nfree spirit that for over 90 years has placed this company based in Meda \\nahead of its time, has traced a unique path - in terms of intuition and \\nfarsightedness - through the world of interior design and architecture. \\nThis is why Cassina’s designs are part of the permanent collections \\nof the world’s most prominent museums. Its products are durable and \\ntimeless, a synthesis of beauty and meaning, impeccable in terms of \\nthe quality of the materials and sartorial details. The perfection it has \\nachieved in terms of carpentry expertise and leather and upholstery \\nworkmanship can still be seen today in masterpieces such as the 699 \\nSuperleggera chair by Gio Ponti, the CAB family by Mario Bellini and the \\nMaralunga sofa by Vico Magistretti. \\nIn a continuous dialogue between the past, present and future, Cassina \\nproduces the iconic models designed by the architects of the 20th \\ncentury for the Cassina iMaestri Collection: pieces by Le Corbusier, \\nPierre Jeanneret, Charlotte Perriand, Charles Rennie Mackintosh, \\nGerrit Thomas Rietveld, Franco Albini and Marco Zanuso are reissued, \\nalways with respect for the original design and functional concept, and \\nmodernised using the latest technologies. Since the 1950s Cassina has \\nalso produced seminal works of contemporary design by some of the \\nworld’s leading designers, from Ronan & Erwan Bouroullec to Rodolfo \\nDordoni, Piero Lissoni, Gaetano Pesce, Philippe Starck and Patricia \\nUrquiola, the company’s art director. \\nToday Cassina continues to look to the future of design with courage, \\npassion, curiosity and an open and holistic approach. Confirming its \\nexclusive ability to completely furnish living and dining rooms, the \\ncompany has now expanded the horizons of its philosophy to the \\nexternal spaces of the home with The Cassina Perspective Goes \\nOutdoor: a concept, an informed and futuristic notion, a broad and \\ndetailed horizon of configurations in which the most innovative \\nproducts are combined with the icons of Modern design to create \\nauthentic, welcoming and personal atmospheres. The Cassina \\nPerspective Goes Outdoor combines the Collection Le Corbusier, \\nPierre Jeanneret, Charlotte Perriand, revisited in terms of fabrics \\nand finishes, and two new projects by Charlotte Perriand – the Table \\nà Plateau Interchangeable, now in an outdoor version, and the Doron \\nHotel Outdoor chair, also available in an indoor version – with three \\ngreat contemporary designers: Philippe Starck, Rodolfo Dordoni and \\nPatricia Urquiola.\\nInteracting according to a code of formal sensibility, solidity and cultural \\nauthority, these naturally empathetic systems, capable of adapting to \\ndifferent requirements and lifestyles, are the embodiment of four open \\nair environments. Four private settings - the contemporary outdoors, \\nthe tropical refuge, the little private paradise, the metropolitan terrace \\n- to enjoy in complete harmony with nature thanks to the high quality \\nfurniture, designed down to the finest of details and dimensions, \\ncompleted by new outdoor lighting, rugs and accessories.\\nThe eclecticism and versatility of Cassina’s designs in external \\nliving spaces is demonstrated with an unconventional, distinctive \\nand powerful lexicon that expresses the tangible quality of both the \\nindividual piece and the ensemble that go beyond passing trends. With \\nthe instinct and the ability to envisage tomorrow’s classics today.\\n4\\n \\nCassina Outdoor',\n",
       "  'image_path': 'mid_data/extracted_images/Outdoor_Products_2022_page_4.png'},\n",
       " {'text': '2 0 2 4\\nD I N I N G  C O L L E C T I O N',\n",
       "  'image_path': 'mid_data/extracted_images/04 - DINING COLLECTION 2024_page_1.png'},\n",
       " {'text': 'D I N I N G  C O L L E C T I O N',\n",
       "  'image_path': 'mid_data/extracted_images/04 - DINING COLLECTION 2024_page_3.png'},\n",
       " {'text': '3\\nTABLE OF\\nCONTENTS\\nA VILLA \\nAND ITS GARDEN\\nSangu Table, 6 Table tube d’avion, \\nCapitol Complex Table\\nP. 74\\nMETROPOLITAN \\nINTERIORS\\nSengu Table, Doge, \\nOlimpino, Mexique\\nP. 94\\nOPEN \\nARCHITECTURE\\nEl dom, Mexique\\nP. 138\\nA LIBERTY CITY \\nAPARTMENT\\nLebeau Wood, Naan\\nP. 158\\nAN ECO \\nTECHNOLOGICAL LODGE\\nEdison, Capitol Complex Table, \\nSarpi, Table en forme libre\\nP. 118\\nA STATELY HOME\\nPrincipi, Longplane; Ventaglio, 9 \\ndining table, Table Montparnasse\\nP. 12 \\nA REFINED HOME \\nIMMERSED IN NATURE\\nDelﬁ, Boboli\\nP. 150\\nA BOURGEOIS \\nPENTHOUSE \\nCab, Cab Tab, Ghost box, \\nLa Rotonda, Hola\\nP. 48',\n",
       "  'image_path': 'mid_data/extracted_images/04 - DINING COLLECTION 2024_page_4.png'},\n",
       " {'text': '2 0 2 3\\nD E TA I L S  C O L L E C T I O N',\n",
       "  'image_path': 'mid_data/extracted_images/Cassina-LB-DETAILS_page_1.png'},\n",
       " {'text': 'D E TA I L S  C O L L E C T I O N',\n",
       "  'image_path': 'mid_data/extracted_images/Cassina-LB-DETAILS_page_3.png'},\n",
       " {'text': '7\\nTABLE OF\\nCONTENTS\\nTableware\\nP. 16\\nTextiles\\nP. 48\\nVases\\nP. 22\\nObjects\\nP. 36\\nRugs\\nP. 66\\nMirrors\\nP. 60\\nLarge Accessories\\nP. 80',\n",
       "  'image_path': 'mid_data/extracted_images/Cassina-LB-DETAILS_page_4.png'},\n",
       " {'text': '2 0 2 2\\nO U T D O O R  C O L L E C T I O N',\n",
       "  'image_path': 'mid_data/extracted_images/Cassina-LB-OUTDOOR 2022 STAMPATO_page_1.png'},\n",
       " {'text': 'O U T D O O R  C O L L E C T I O N',\n",
       "  'image_path': 'mid_data/extracted_images/Cassina-LB-OUTDOOR 2022 STAMPATO_page_2.png'},\n",
       " {'text': '3\\n \\nTABLE OF \\nCONTENTS\\nCONTEMPORARY  \\nOUTDOORS\\nCarlotta, Sail Out, Dine Out,  \\nDoron Hotel\\nP. 12\\nMETROPOLITAN  \\nTERRACE\\nSail Out, Dine Out\\nP. 136\\nLITTLE PRIVATE  \\nPARADISE\\nCollection  iMaestri Le Corbusier®, Pierre Jeanneret®, \\nCharlotte Perriand®, Dine out, Trampoline\\nP. 48\\nTROPICAL  \\nREFUGE \\nFenc-e Nature\\nP. 124',\n",
       "  'image_path': 'mid_data/extracted_images/Cassina-LB-OUTDOOR 2022 STAMPATO_page_3.png'},\n",
       " {'text': '4\\n5\\nOutdoor Collection\\nThe Cassina Perspective\\nTHE CASSINA \\nPERSPECTIVE GOES \\nOUTDOOR\\nAvant-gardism, authenticity, excellence and the combination of technological skill and local craftsmanship \\nexpertise. Cassina’s identity is founded on solid and shared values that express the best of Italian and \\ninternational design with a cohesive, recognisable and cultured approach. Through a unique weave of \\nwords and actions, Cassina has successfully amalgamated culture, craftsmanship and industry, reconciling \\ntradition with research, rigour with emotions and uniqueness with experimentation, interpreting everyday \\ntrends thanks to its constant work on aesthetics and codification. The pioneering and free spirit that for \\nover 90 years has placed this company based in Meda ahead of its time, has traced a unique path — in terms \\nof intuition and farsightedness — through the world of interior design and architecture. In fact, in the  \\n1950s Cassina marked the transition from artisanal manufacture to an industrial production; it was the  \\nfirst company to involve the most enlightened designers and architects in exploring the effects and influences \\nof contemporary design with new forms; it was the only company to innovate in all areas of design,  \\nperfecting new structural solutions and envisaging possible ways of living inspired by society, art and \\nfashion by focusing on the future, challenging conventions and defining new horizons. \\nIT\\t\\nAvanguardia, autenticità, eccellenza  \\ne connubio di capacità tecnologica e sapienza  \\nmanuale locale. L’identità di Cassina si è costruita \\nsu valori solidi e condivisi, per esprimere il  \\nmeglio del design italiano e internazionale con  \\nun linguaggio coerente, riconoscibile, colto. \\nAttraverso un intreccio peculiare di gesti e \\nparole, Cassina ha saputo far interagire cultura, \\nartigianato e industria, conciliando memoria \\ne ricerca, rigore ed emozione, unicità e speri-\\nmentazione, e interpretando le tendenze della \\nFR\\t\\nAvant-garde, authenticité, excellence  \\net alliance de capacité technologique et  \\nde savoir-faire local. L’identité de Cassina s’est  \\nbâtie sur des va\\xadleurs solides et communes, \\npour exprimer le meilleur du design italien et \\ninternational grâce à un langage cohérent, \\nreconnaissable, sophistiqué. Par un mélange \\ncaractéristique de gestes et de paroles, Cassina \\na su faire interagir culture, artisanat et industrie, \\nen combinant mémoire et recherche, rigueur \\net émotion, unité et expérimentation, tout en \\nDE\\t\\nAvantgarde, Authentizität, Exzellenz und  \\ndie Kombination aus technologischem Know-How  \\nund lokalem handwerklichem Geschick. Die \\ndentität der Marke Cassina basiert auf soliden, \\ngeteilten Werten, um das Beste des italienischen \\nund internationalen Designs mit einer kohärenten, \\nerkennbaren, gehobenen Sprache zum \\nAusdruck zu bringen. Durch eine ganz spezielle \\nVerflechtung von Gesten und Worten hat Cassina \\nes verstanden, eine Interaktion zwischen Kultur, \\nHandwerk und Industrie in die Wege zu leiten,',\n",
       "  'image_path': 'mid_data/extracted_images/Cassina-LB-OUTDOOR 2022 STAMPATO_page_4.png'},\n",
       " {'text': '2 0 2 3\\nL I V I N G  C O L L E C T I O N',\n",
       "  'image_path': 'mid_data/extracted_images/Cassina-LB-LIVING_page_1.png'},\n",
       " {'text': 'L I V I N G  C O L L E C T I O N',\n",
       "  'image_path': 'mid_data/extracted_images/Cassina-LB-LIVING_page_3.png'},\n",
       " {'text': '3\\nTABLE OF\\nCONTENTS\\nA BOURGEOIS \\nPENTHOUSE \\nMonocloud, Maralunga, \\nBeam Sofa System, Met\\nP. 182\\nOPEN \\nARCHITECTURE\\nMex, Maralunga 50\\nP. 208\\nA LIBERTY CITY \\nAPARTMENT\\n8, 5 Canapé, Appartement \\nLe Corbusier\\nP. 236\\nAN ECO \\nTECHNOLOGICAL LODGE\\nSengu Sofa, Dress-Up!, \\nP. 154\\nA VILLA \\nAND ITS GARDEN\\nEsososft armchair, \\nEsosoft sofa, Rio\\nP. 84\\nA STATELY HOME\\nCapitol Complex Sofa, \\nLebeau wood table, \\nWax,Stone,Light\\nP. 12\\nA REFINED HOME \\nIMMERSED IN NATURE\\nTramonto a New York, 8 Cube,\\nMex Cube, Privè\\nP. 66\\nMETROPOLITAN \\nINTERIORS\\nMoncloud, Rio, \\nUtrecht\\nP. 128',\n",
       "  'image_path': 'mid_data/extracted_images/Cassina-LB-LIVING_page_4.png'},\n",
       " {'text': '2 0 2 2\\nD I N I N G  P R O D U C T S',\n",
       "  'image_path': 'mid_data/extracted_images/Dining_Products_2022_page_1.png'},\n",
       " {'text': 'Dining Products\\n2022\\ncassina.com',\n",
       "  'image_path': 'mid_data/extracted_images/Dining_Products_2022_page_2.png'},\n",
       " {'text': '3 Fauteuil Grand Confort, \\ngrand modèle, deux places\\nLe Corbusier, P. Jeanneret, \\nC. Perriand\\n3 Fauteuil Grand Confort, \\ngrand modèle, trois places\\nLe Corbusier, P. Jeanneret, \\nC. Perriand\\n3 Fauteuil Grand Confort, \\nméridienne\\nLe Corbusier, P. Jeanneret, \\nC. Perriand\\n3 Fauteuil Grand Confort, \\ngrand modèle, durable\\nLe Corbusier, P. Jeanneret, \\nC. Perriand\\n3 Fauteuil Grand Confort, \\ngrand modèle, deux places, \\ndurable\\nLe Corbusier, P. Jeanneret, \\nC. Perriand\\n3 Fauteuil Grand Confort, \\ngrand modèle, trois places, \\ndurable\\nLe Corbusier, P. Jeanneret, \\nC. Perriand\\n3 Fauteuil Grand Confort, \\nméridienne, durable\\nLe Corbusier, P. Jeanneret, \\nC. Perriand\\nLady\\nMarco Zanuso\\nTre pezzi\\nFranco Albini\\nUtrecht\\nGerrit Thomas Rietveld\\n875\\nIco Parisi\\nBack-Wing Armchair\\nPatricia Urquiola\\nCapitol Complex Armchair \\nHommage à Pierre Jeanneret\\n1 Fauteuil dossier basculant\\nLe Corbusier, P. Jeanneret, \\nC. Perriand\\n1 Fauteuil dossier \\nbasculant, Villa Church\\nLe Corbusier, P. Jeanneret, \\nC. Perriand\\n1 Fauteuil dossier \\nbasculant, UAM\\nLe Corbusier, P. Jeanneret, \\nC. Perriand\\n2 Fauteuil Grand Confort, \\npetit modèle\\nLe Corbusier, P. Jeanneret, \\nC. Perriand\\n2 Fauteuil Grand Confort, \\npetit modèle, deux places\\nLe Corbusier, P. Jeanneret, \\nC. Perriand\\n2 Fauteuil Grand Confort, \\npetit modèle, trois places\\nLe Corbusier, P. Jeanneret, \\nC. Perriand\\n2 Ottomane\\nLe Corbusier, P. Jeanneret, \\nC. Perriand\\n2 Fauteuil Grand Confort, \\npetit modèle, durable\\nLe Corbusier, P. Jeanneret, \\nC. Perriand\\n2 Fauteuil Grand Confort, \\npetit modèle, deux places, \\ndurable\\nLe Corbusier, P. Jeanneret, \\nC. Perriand\\n2 Fauteuil Grand Confort, \\npetit modèle, trois places, \\ndurable\\nLe Corbusier, P. Jeanneret, \\nC. Perriand\\n2 Ottomane, durable\\nLe Corbusier, P. Jeanneret, \\nC. Perriand\\n3 Fauteuil Grand Confort, \\ngrand modèle\\nLe Corbusier, P. Jeanneret, \\nC. Perriand\\n7 Fauteuil tournant\\nCharlotte Perriand – Intégré à la \\nCollection Le Corbusier®, Pierre \\nJeanneret®, Charlotte Perriand®\\n8 Tabouret tournant\\nCharlotte Perriand – Intégré à la \\nCollection Le Corbusier®, Pierre \\nJeanneret®, Charlotte Perriand®\\nLeggera\\nGio Ponti\\nLjin\\nKazuhide Takahama\\nLuisa\\nFranco Albini\\nMexique stool\\nCharlotte Perriand\\nOmbra Tokyo\\nCharlotte Perriand\\nRed and Blue\\nGerrit Thomas Rietveld\\nBlack Red and Blue \\nGerrit Thomas Rietveld\\nSuperleggera\\nGio Ponti\\nTulu\\nKazuhide Takahama\\nWillow 1\\nCharles Rennie Mackintosh\\nUnicredit Pavilion Project\\nMichele De Lucchi\\nZig Zag\\nGerrit Thomas Rietveld\\n8\\nPiero Lissoni\\n5 Canapé, Appartement \\nLe Corbusier\\nLe Corbusier, P. Jeanneret, \\nC. Perriand\\nMet\\nPiero Lissoni\\nMoov\\nPiero Lissoni\\nRefolo\\nCharlotte Perriand\\nVolage EX–S\\nPhilippe Starck\\n684\\nMario Bellini\\n905\\nVico Magistretti\\nBack-Wing\\nPatricia Urquiola\\nCab 412\\nMario Bellini\\nCab 413\\nMario Bellini\\nCab 410\\nMario Bellini\\nCapitol Complex Chair/\\nCapitol Complex Office Chair \\nHommage à Pierre Jeanneret\\nCaprice/Passion\\nPhilippe Starck\\nCaprice Stool/Passion Stool\\nPhilippe Starck\\nCivil Bench\\nHommage à Pierre Jeanneret\\nCommittee Chair\\nHommage à Pierre Jeanneret\\nCotone/Cotone Slim\\nRonan & Erwan Bouroullec\\nDudet\\nPatricia Urquiola\\nEve\\nPiero Lissoni\\nFlutz\\nMichael Anastassiades\\nGaja/Gaja bar\\nKazuhide Takahama\\nGöteborg 1\\nErik Gunnar Asplund\\nHill House 1\\nCharles Rennie Mackintosh\\nHola\\nHannes Wettstein\\nIco\\nOra Ïto\\nIndochine\\nCharlotte Perriand\\nJano/Jano BR\\nKazuhide Takahama\\n714\\nTheodore Waddell\\n9 Dining\\nPiero Lissoni\\nAntella\\nKazuhide Takahama\\nBerlino Table\\nCharles Rennie Mackintosh\\nBoboli\\nRodolfo Dordoni\\nCapitol Complex Table\\nHommage à Pierre Jeanneret\\nCavalletto \\nFranco Albini\\nCotone Table\\nRonan & Erwan Bouroullec\\nDelfi\\nMarcel Breuer \\nDoge\\nCarlo Scarpa\\nEdison\\nVico Magistretti\\nEl Dom \\nHannes Wettstein\\nLa Basilica \\nMario Bellini\\nLa Rotonda \\nMario Bellini\\n6 Table tube d’avion\\nLe Corbusier, P. Jeanneret, \\nC. Perriand\\n10 Table en tube\\nLe Corbusier, P. Jeanneret, \\nC. Perriand\\n10 Table en tube, \\ngrand modèle\\nLe Corbusier, P. Jeanneret, \\nC. Perriand\\n10 Table en tube basse\\nLe Corbusier, P. Jeanneret, \\nC. Perriand\\n10 Table en tube basse, \\ngrand modèle\\nLe Corbusier, P. Jeanneret, \\nC. Perriand\\n11 Table pieds corolle, \\nAppartement Le Corbusier\\nLe Corbusier, P. Jeanneret, \\nC. Perriand\\n11 Table pieds corolle, \\nplateau bois\\nLe Corbusier, P. Jeanneret, \\nC. Perriand\\nLC12 Table La Roche\\nLe Corbusier, Pierre Jeanneret\\nLC15 Table de conférence, \\nAtelier Le Corbusier, Paris 1958 \\nLe Corbusier\\nLebeau Wood\\nPatrick Jouin\\nLonplane\\nRodolfo Dordoni\\nNaan\\nPiero Lissoni\\nOlimpino\\nIco Parisi\\nOrdinal\\nMichael Anastassiades\\nOrseolo\\nCarlo Scarpa\\nSarpi\\nCarlo Scarpa\\nSengu Table\\nPatricia Urquiola\\nTable en Forme Libre\\nCharlotte Perriand\\nTL3\\nFranco Albini\\nVentaglio \\nCharlotte Perriand\\nBramante\\nKazuhide Takahama\\nBramante (2.1/3.1/4.1)\\nKazuhide Takahama\\nDeco\\nHiroyuki Tsugawa\\nElling Buffet\\nGerrit Thomas Rietveld\\nFlat\\nPiero Lissoni\\nHayama\\nPatricia Urquiola\\n20 Casiers standard P.E.N.\\nLe Corbusier, P. Jeanneret\\n20 Casiers standard, \\npieds corolle\\nLe Corbusier, P. Jeanneret, \\nC. Perriand\\nNuage\\nCharlotte Perriand\\nNuage à Plots\\nCharlotte Perriand\\nNuvola Rossa \\nVico Magistretti\\nRialto\\nCarlo Scarpa\\nRiflesso\\nCharlotte Perriand\\nVeliero\\nFranco Albini\\nTavoli/Tables/\\nTische/Tables\\nSedie/Chairs/\\nLC16 Table de travail \\navec rayonnages, Unité \\nd’Habitation, Nantes-Rezé, 1957 \\nLe Corbusier\\nLoop\\nKazuhide Takahama\\nPA’ 1947\\nIco Parisi\\nPetit Bureau en Forme Libre\\nCharlotte Perriand\\nSled\\nRodolfo Dordoni\\n38\\n192\\n164\\n166\\n264\\n212\\n260\\n88\\n98\\n48\\n200\\n172\\n60\\n134\\n180\\n36\\n190\\n128\\n256\\n421\\n94\\n44\\n54\\n56\\n132\\n66\\n146\\n142\\n186\\n118\\n70\\n148\\n75\\n76\\n77\\n78\\n80\\n150\\n82\\n156\\n152\\n84\\n86\\n158\\n160\\n40\\n196\\n170\\n168\\n268\\n214\\n421\\n270\\n218\\n221\\n230\\n234\\n92\\n102\\n50\\n202\\n106\\n108\\n110\\n112\\n114\\n116\\n174\\n62\\n138\\n182\\n162\\n124\\n204\\n208\\n420\\n420\\n42\\n198\\n266\\n216\\n272\\n274\\n277\\n279\\n280\\n281\\n282\\n283\\n284\\n289\\n278\\n290\\n291\\n292\\n293\\n290\\n295\\n296\\n298\\n302\\n304\\n223\\n52\\n130\\n178\\n64\\n140\\n184\\n122\\n120\\n236\\n238\\n240\\n226\\n244\\n246\\n248\\n252\\n254\\nNew\\nNew\\nNew\\nScrivanie/Desks/\\nStüle/Chaises\\nContenitori–Librerie/\\nContainer Units–Bookshelves/\\nKastenelemente–Bücherregale/\\nCasiers–Bibliothèques\\nSchreibtische/Bureaux\\nDivani/Sofas\\u2009/\\u2009\\nSofas\\u2009/Canapés\\nPoltrone/Armchairs\\u2009/\\u2009\\nArmlemnstüle\\u2009/\\u2009Fauteuils',\n",
       "  'image_path': 'mid_data/extracted_images/Dining_Products_2022_page_3.png'},\n",
       " {'text': 'Collection Chandigarh\\nLe Due Facce della Luna\\nLe Due Facce della Luna\\nLe Monde \\nde Charlotte Perriand\\nService Prunier\\nLe Corbusier\\nTogether\\n9 Occasional Tables\\nPiero Lissoni\\nCicognino \\nFranco Albini\\nConstantin\\nStudio Simon \\n9 Tabouret\\nCharlotte Perriand – Intégré à la \\nCollection Le Corbusier®, Pierre \\nJeanneret®, Charlotte Perriand®\\n9 Tabouret de salle de bains\\nCharlotte Perriand – Intégré à la \\nCollection Le Corbusier®, Pierre \\nJeanneret®, Charlotte Perriand®\\nLC14 Tabouret Cabanon, \\nRoquebrune-Cap-Martin \\n1952 / LC14 Tabouret Maison \\ndu Brésil, Paris 1959\\nLe Corbusier\\nLC14 Tabouret, \\nNantes-Rezé, 1952-1957\\nLe Corbusier\\nMexique \\nCharlotte Perriand\\nNest of Tables\\nBodil Kjær\\nTabouret Berger/Méribel\\nCharlotte Perriand\\nTraccia\\nMeret Oppenheim\\nColourdisc\\nLe Miniature\\nObjects\\nPost Scriptum\\nFormafantasma\\nSestiere\\nPatricia Urquiola\\nSkyscraper\\nBodil Kjaer\\nParavent Ambassade\\nCharlotte Perriand\\nParavento Balla\\nGiacomo Balla\\nRéaction Poétique\\nJaime Hayon\\nServing Cart\\nBodil Kjær\\nTramonto a New York\\nGaestano Pesce\\nDeadline\\nRon Gilad\\nLes Grands Trans-Parents\\nMan Ray\\n374\\n368\\n372\\n376\\n378\\n384\\n388\\n392\\n394\\n396\\n398\\n400\\n402\\n404\\n406\\n408\\n410\\n412\\n414\\nNew\\nNew\\nNew\\nNew\\nNew\\nComplementi/Complements/\\nAccessori/Accessories/\\nServizio per la tavola/\\npour le table\\nSpecchi/Mirrors/Spiegel/\\nErgänzungen/Complèments\\nZubehörteile/Accessoires\\nTableware/Geschirr/Service\\nMioroirs\\nCarpets\\nGraffiti \\nCharlotte Perriand\\nVérité\\nCharlotte Perriand\\nCapsule Collection\\nby Nemo\\nLamps\\n312\\n310\\n316\\n314\\n318\\n320\\n321\\n324\\n328\\n330\\n332\\nNew\\nNew\\nNew\\n334\\n342\\n358\\n364\\n366\\nNew\\nTavolini/Low Tables\\u2009/\\u2009\\nNiedrige Tische\\u2009/\\u2009Tables Basses\\nLampade/Lamps/Lampen/\\nTappeti/Carpets/\\nTeppiche/Tapis\\nLampes',\n",
       "  'image_path': 'mid_data/extracted_images/Dining_Products_2022_page_4.png'},\n",
       " {'text': '2 0 2 4\\nD E TA I L S  C O L L E C T I O N',\n",
       "  'image_path': 'mid_data/extracted_images/09 - DETAILS COLLECTION 2024_page_1.png'},\n",
       " {'text': 'D E TA I L S  C O L L E C T I O N',\n",
       "  'image_path': 'mid_data/extracted_images/09 - DETAILS COLLECTION 2024_page_3.png'},\n",
       " {'text': '3\\nTABLE OF\\nCONTENTS\\nTableware\\nP. 12\\nTextiles\\nP. 48\\nVases\\nP. 20\\nObjects\\nP. 36\\nRugs\\nP. 66\\nMirrors\\nP. 58\\nLarge Accessories\\nP. 82',\n",
       "  'image_path': 'mid_data/extracted_images/09 - DETAILS COLLECTION 2024_page_4.png'},\n",
       " {'text': '2\\nYachting Tales\\nYA C H T I N G  S E L E C T I O N\\n2 0 2 3',\n",
       "  'image_path': 'mid_data/extracted_images/cassina_yachting_lookbook_page_2.png'},\n",
       " {'text': '3\\nTABLE OF\\nCONTENTS\\nSLEEPING \\nP. 48\\nOUTDOOR \\nP. 58\\nLIVING \\nP. 12\\nDINING \\nP. 34',\n",
       "  'image_path': 'mid_data/extracted_images/cassina_yachting_lookbook_page_3.png'},\n",
       " {'text': '4\\n5\\nYachting Selection\\nEsosoft\\nTHE CASSINA \\nPERSPECTIVE \\nABOARD\\nit\\t\\nAvanguardia, autenticità, eccellenza, connubio di capacità tecnologica e \\nsapienza manuale locale. L’identità di Cassina si è costruita su valori solidi e con-\\ndivisi, per esprimere il meglio del design italiano e internazionale, con un linguag-\\ngio coerente, riconoscibile, colto. Cassina ha saputo far interagire cultura, arti-\\ngianato e industria, conciliando memoria e ricerca, rigore ed emozione, unicità e \\nsperimentazione, e interpretando le tendenze della quotidianità grazie a un lavo-\\nro costante di ricerca estetica. Con spirito pionieristico e libero, da quasi 100 anni \\nl’azienda di Meda anticipa i tempi, tracciando un percorso inedito – per intuizione \\ne lungimiranza – nel mondo del design e dell’architettura di interni. \\nOggi Cassina, dopo aver arredato gli spazi delle più prestigiose abitazioni di tutto \\nil mondo, inaugura un nuovo capitolo dedicato al mondo nautico e riprende una \\ntradizione consolidata nel settore dell’arredamento navale a partire dagli anni \\nCinquanta, con le collaborazioni con i più celebri architetti del periodo quali Gu-\\nstavo Pulitzer, Nino Zoncada e Gio Ponti, per l’arredo di prestigiose navi, tra cui \\nl’Andrea Doria, la Raffaello e la Michelangelo e tutte le navi della Costa Armatori.  \\nCon Yachting Selection Cassina offre il suo racconto e la sua prospettiva sullo \\nyachting e il mondo delle imbarcazioni di lusso. Immaginando di arredare navi di \\npregio in tutti i loro ambienti, Cassina sviluppa un lookbook yachting che si estrin-\\nseca nelle diverse zone dell’imbarcazione: dal living alla zona pranzo, dal fly al so-\\nlarium fino alle cabine degli armatori. \\nen\\t\\nAvant-garde, authenticity, excellence, a fusion of technological skills and \\nlocal artisan craftsmanship. The Cassina identity is built on solid, shared values \\nthat express the best in Italian and international design with a consistent, recog-\\nnizable and erudite stylistic language. Cassina successfully brings together cul-\\nture, artisan craftsmanship and industry, reconciling memory and exploration, \\nausterity and emotion, uniqueness and experimentation, while interpreting the \\ntrends of everyday life, thanks to ongoing aesthetic investigation. With an inde-\\npendent, pioneering spirit, for nearly 100 years the Meda-based company has \\ncharted an innovative course – through intuition and foresight – in the world of \\ndesign and interior decor. \\nNow, Cassina, having furnished the rooms in some of the most prestigious res-\\nidences around the globe, opens a new chapter focused on the nautical world \\nand revisits a well-established tradition in naval furnishings. It began in the 1950s, \\nin partnership with the most celebrated architects of the day, such as Gustavo \\nPulitzer, Nino Zoncada and Gio Ponti, for the interior decor of luxurious ships, in-\\ncluding the Andrea Doria, Raffaello, Michelangelo and all of the Costa Armatori \\nCruise liners. With Yachting Selection, Cassina narrates its story and perspective \\non yachting and the world of luxury ships. By imagining the furnishing of luxury \\nyachts in their many environments, Cassina develops a yachting lookbook that \\nexpresses itself in the various zones of the ship: from living to dining areas, the \\nflybridge to the solarium and the shipowners’ cabins.',\n",
       "  'image_path': 'mid_data/extracted_images/cassina_yachting_lookbook_page_4.png'},\n",
       " {'text': '2 0 2 2\\nC A S S I N A  P R O\\nW O R K P L A C E  &  H O S P I TA L I T Y',\n",
       "  'image_path': 'mid_data/extracted_images/Cassina-PRO_2022_page_1.png'},\n",
       " {'text': 'C A S S I N A  P R O\\nW O R K P L A C E  &  H O S P I TA L I T Y',\n",
       "  'image_path': 'mid_data/extracted_images/Cassina-PRO_2022_page_2.png'},\n",
       " {'text': 'INDEX\\nTABLE OF \\nCONTENTS\\nLOBBIES AND LOUNGES\\nAirports, hotels, headquarters,\\nclubhouses, foundations\\nand museums\\nP. 14\\nEXECUTIVE OFFICES\\nAND PROFESSIONAL STUDIOS\\nOffices, hotel meeting rooms, medical practices, \\nlaw firms and professional studios\\nP. 32\\nMEETING AREAS\\nAND WORKPLACES\\nMeeting rooms\\nand conference rooms\\nP. 50\\nHOSPITALITY\\nSuites and hotel rooms\\nP. 78\\nRESTAURANTS AND BARS\\nRestaurants, bars, bistrots, hotels,  \\nmeeting rooms and suites\\nP. 66',\n",
       "  'image_path': 'mid_data/extracted_images/Cassina-PRO_2022_page_3.png'},\n",
       " {'text': 'INTRO\\nINTRO\\nCassina Pro\\nProfessional tools\\nStrumenti professionali\\n A collection that brings together Cassina’s most \\niconic pieces with contemporary products, all \\ndeveloped and certifi ed to meet the design needs \\nof the hospitality and workplace sector.\\nUna collezione che riunisce i pezzi più iconici di \\nCassina a prodotti contemporanei, tutti sviluppati e \\ncertifi cati per soddisfare le esigenze progettuali del \\nsettore hospitality e workplace.\\nA set of dedicated tools has been developed \\nto give full design support to professionals. A \\nproject lookbook, detailed data sheets, 2D and 3D \\ndrawings, a photorealistic confi gurator and a virtual \\npCon confi gurator.\\nUna serie di strumenti dedicati è stata sviluppata \\nper dare pieno supporto progettuale ai \\nprofessionisti. Un lookbook di progetto, schede \\ntecniche dettagliate, disegni 2D e 3D, un \\nconfi guratore fotorealistico e un confi guratore \\npCon virtuale.\\n A strong focus on materials characterises the \\nchoice of available fi nishes. Fire-retardant and \\nhighly resistant leathers are combined with four \\nbest-selling Kvadrat fabrics and three Gabri fabrics \\ndesigned for the contract sector. The proposal will \\nbe further enriched by the tested-in fabrics available \\non request- list available at the end of the catalogue.\\nUna forte attenzione ai materiali caratterizza la \\nscelta delle fi niture disponibili. Pelli ignifughe e \\ndall’alta resistenza si uniscono a quattro tessuti \\nbest seller Kvadrat e tre tessuti Gabriel pensati per \\nil settore contract. La proposta sarà ulteriormente \\narricchita dai tessuti tested-in disponibili su \\nrichiesta - elenco disponibile in fondo al catalogo.\\nCassina Pro products have undergone rigorous \\ntests to obtain certifi cations for contract use, \\nsuch as BIFMA (physical mechanical resistance) \\nand GreenGuard (pollution caused by the volatile \\nsubstances of the product), and are upholstered \\nwith leathers and fabrics that are British Standard \\nand California 117 certifi ed (fi re resistant). \\nI prodotti Cassina Pro sono stati sottoposti a severi \\ntest per uso contract, come BIFMA (resistenza \\nfi sico meccanica) GREENGUARD (inquinamento \\ncausato dalle sostanze volatili del prodotto) e \\nsono rivestiti con tessuti e pelli certifi cati British \\nStandard e California 117 (resistenza al fuoco). \\nFrançais à la page 328\\nDeutsch auf Seite 328\\nSelected materials\\nMateriali selezionati\\nCertifi cations\\nCertifi cazioni\\nWHERE\\nABOUT\\nLOBBIES \\nAND LOUNGES\\nEXECUTIVE OFFICES\\nAND PROFESSIONAL\\nSTUDIOS\\nHOSPITALITY\\nMEETING AREAS AND \\nWORKPLACES\\nRESTAURANTS \\nAND BARS\\n4\\n5',\n",
       "  'image_path': 'mid_data/extracted_images/Cassina-PRO_2022_page_4.png'},\n",
       " {'text': '2 0 2 4\\nO U T D O O R  P R O D U C T S',\n",
       "  'image_path': 'mid_data/extracted_images/07 - OUTDOOR PRODUCTS 2024_page_1.png'},\n",
       " {'text': 'Outdoor Products\\n2024\\ncassina.com',\n",
       "  'image_path': 'mid_data/extracted_images/07 - OUTDOOR PRODUCTS 2024_page_2.png'},\n",
       " {'text': '7 Fauteuil tournant, \\nOutdoor\\nCharlotte Perriand – Intégré à la \\nCollection Le Corbusier®, Pierre \\nJeanneret®, Charlotte Perriand®\\nDine Out   \\nRodolfo Dordoni\\nLeggera Outdoor\\nGio Ponti\\nMexique Stool\\nCharlotte Perriand\\nTrampoline Chair\\nPatricia Urquiola\\n3 Fauteuil Grand Confort, \\ngrand modèle, Outdoor \\nLe Corbusier, Pierre Jeanneret, \\nCharlotte Perriand\\n3 Fauteuil Grand Confort, \\ngrand modèle, deux places, \\nOutdoor\\nLe Corbusier, Pierre Jeanneret, \\nCharlotte Perriand\\n3 Fauteuil Grand Confort, \\ngrand modèle, trois places, \\nOutdoor\\nLe Corbusier, Pierre Jeanneret, \\nCharlotte Perriand \\n3 Fauteuil Grand Confort, \\ngrand modèle, Meridienne, Outdoor\\nLe Corbusier, Pierre Jeanneret, \\nCharlotte Perriand\\nDine Out\\nRodolfo Dordoni\\nEsosoft Outdoor\\nAntonio Citterio\\nEsosoft Outdoor\\nAntonio Citterio\\nFenc-e Nature  \\nPhilippe Starck\\nLie Out  \\nPiero Lissoni\\nMex-Hi Outdoor\\nPiero Lissoni\\nSail Out\\nRodolfo Dordoni\\nTrampoline Love-bed\\nPatricia Urquiola\\nTrampoline\\nPatricia Urquiola\\nDivani/Sofas/\\nSofas/Canapés\\nTavoli/Tables/\\nTische/Tables\\nPoltrone/Armchairs/\\nSessel/Fauteuils\\nSedie/Chairs/\\nStühle/Chaises\\nAccessori/Accessories/\\nZubehörteile/Accessoires\\nCura e Manutenzione/ \\nCare and Maintenance/\\nPflege und Instandhaltung/\\nTraitement et Entretien\\nTavolini/Low tables/\\nNiedrige tische/Tables basses\\n1 Fauteuil dossier \\nbasculant, Outdoor\\nLe Corbusier, Pierre Jeanneret, \\nCharlotte Perriand\\nCarlotta\\nAfra & Tobia Scarpa\\nDine Out   \\nRodolfo Dordoni\\nDoron Hotel Outdoor\\nCharlotte Perriand\\nEsosoft Armchair Outdoor\\nAntonio Citterio\\nFenc-e Nature   \\nPhilippe Starck\\nSail Out\\nRodolfo Dordoni\\nTrampoline\\nPatricia Urquiola\\nTrampoline Sunbed\\nPatricia Urquiola\\nUtrecht XL Outdoor\\nGerrit Thomas Rietveld\\n6 Table tube d’avion, \\nOutdoor\\nLe Corbusier, Pierre Jeanneret, \\nCharlotte Perriand \\nDine Out   \\nRodolfo Dordoni\\nLebeau Outdoor\\nPatrick Jouin\\nMexique Outdoor\\nCharlotte Perriand\\nTrampoline Table\\nPatricia Urquiola\\n10 Table en tube basse, \\nOutdoor\\nLe Corbusier, Pierre Jeanneret, \\nCharlotte Perriand\\n10 Table en tube basse, \\ngrand modèle, Outdoor\\nLe Corbusier, Pierre Jeanneret, \\nCharlotte Perriand \\nBowy Outdoor\\nPatricia Urquiola\\nCarlotta\\nAfra & Tobia Scarpa\\nEsosoft Outdoor\\nAntonio Citterio\\nFenc-e Nature   \\nPhilippe Starck\\nMex-Hi Outdoor\\nPiero Lissoni\\nMexique Coffee Tables \\nOutdoor\\nCharlotte Perriand\\nSail Out\\nRodolfo Dordoni\\nTable À Plateau \\nIntérchangeable Outdoor\\nCharlotte Perriand\\nLamps Outdoor\\nObjects Outdoor\\nCarpets Outdoor\\nSoleil\\nTrail \\nParasol\\n21\\n72\\n98\\n140\\n174\\n172\\n22\\n74\\n76\\n78\\n80\\n82\\n100\\n106\\n110\\n114\\n117\\n118\\n148\\n156\\n158\\n160\\n162\\n23\\n84\\n86\\n88\\n92\\n96\\n120\\n26\\n28\\n30\\n32\\n36\\n40\\n42\\n46\\n52\\n58\\n64\\n66\\n68\\n70\\n122\\n124\\n126\\n130\\n132\\n136\\n138\\nNew\\nNew\\nNew\\nNew\\nNew\\nNew\\nNew\\nNew\\nNew\\nNew\\nNew\\nNew\\nNew\\nNew',\n",
       "  'image_path': 'mid_data/extracted_images/07 - OUTDOOR PRODUCTS 2024_page_3.png'},\n",
       " {'text': 'The Cassina Perspective\\nITA\\nThe Cassina Perspective\\nENG\\nAvanguardia, autenticità, eccellenza e connubio di capacità tecnologica e \\nsapienza manuale locale. L’identità di Cassina si è costruita su valori solidi e \\ncondivisi, per esprimere il meglio del design italiano e internazionale con un \\nlinguaggio coerente, riconoscibile, colto. Attraverso un intreccio peculiare di \\ngesti e parole, Cassina ha saputo far interagire cultura, artigianato e indu-\\nstria, conciliando memoria e ricerca, rigore ed emozione, unicità e speri-\\nmentazione, e interpretando le tendenze della quotidianità grazie a un \\nlavoro costante su estetica e tipologie. Con spirito pionieristico e libero, da \\noltre 90 anni l’azienda di Meda anticipa i tempi, tracciando un percorso \\ninedito – per intuizione e lungimiranza – nel mondo del design e dell’archi-\\ntettura di interni. \\nPer questo il design di Cassina è esposto nelle collezioni permanenti dei più \\nimportanti musei del mondo. I suoi prodotti sono durevoli e senza tempo, \\nsintesi di bellezza e significato, curati nei materiali di qualità assoluta e nei \\ndettagli sartoriali. La perfezione nelle lavorazioni di alta falegnameria, nella \\nfattura delle pelli e nelle tappezzerie e imbottiti è rappresentata ancora oggi \\nda capolavori come la sedia 699 Superleggera di Gio Ponti, la famiglia CAB \\ndi Mario Bellini, il divano Maralunga di Vico Magistretti. \\nUn successo da oltre 50 anni. Così, in un continuo dialogo tra passato, \\npresente e futuro, Cassina realizza i modelli iconici creati dagli architetti del \\nXX secolo con la Collezione iMaestri, in cui gli arredi di Le Corbusier, Pierre \\nJeanneret, Charlotte Perriand, Charles Rennie Mackintosh, Gerrit Thomas \\nRietveld, Franco Albini, Marco Zanuso, Ico Parisi, Giacomo Balla, Vico Magi-\\nstretti, Gio Ponti e Carlo Scarpa vengono rieditati – rispettando accurata-\\nmente disegni e concept funzionali originali – e riattualizzati secondo le \\nevoluzioni tecnologiche. Ed è anche l’azienda che produce le opere di riferi-\\nmento del design contemporaneo dagli anni 50 all’attualità, firmate da \\nalcuni tra i più importanti progettisti internazionali: da Ronan & Erwan \\nBouroullec a Rodolfo Dordoni, Piero Lissoni, Gaetano Pesce, Philippe \\nStarck, e Patricia Urquiola, art director dell’azienda. \\nOggi Cassina continua a guardare al futuro del progetto con audacia, \\npassione, curiosità e un approccio aperto e olistico. Confermando l’esclusi-\\nva capacità di arredare gli ambienti living e dining in modo completo, l’azien-\\nda estende gli orizzonti della sua filosofia anche agli spazi esterni della casa \\nattraverso The Cassina Perspective Goes Outdoor: un concetto, un pensie-\\nro consapevole e avveniristico; un orizzonte ampio e dettagliato di configu-\\nrazioni, in cui i prodotti dall’anima più innovativa e le icone del moderno \\ncreano insieme atmosfere autentiche, accoglienti, personali. Così The \\nCassina Perspective Goes Outdoor abbina la Collection Le Corbusier, Pierre \\nJeanneret, Charlotte Perriand, rinnovata nei tessuti e nelle finiture, e due \\nnuovi progetti di Charlotte Perriand – il Table à Plateau Interchangeable, ora \\nin veste outdoor, e la sedia Doron Hotel, una riedizione sia in versione \\nindoor sia per esterni – a tre grandi interpreti contemporanei: Philippe \\nStarck, Rodolfo Dordoni e Patricia Urquiola.\\nDialogando secondo un codice di sensibilità formale, solidità e autorevolez-\\nza culturale, questi sistemi di presenze naturalmente empatiche, capaci di \\nadattarsi a interpretazioni e stili di vita differenti, esprimono l’anima di \\nquattro ambienti open air. Quattro paesaggi privati – l’esterno contempora-\\nneo, il rifugio tropicale, il piccolo paradiso privato, la terrazza metropolitana \\n– aperti alla luce e al contesto, da vivere in sintonia con la natura grazie ad \\narredi in materiali di alta qualità, dalle forme disegnate nei particolari e delle \\ndimensioni calibrate, valorizzati da nuove proposte di illuminazione, tappeti \\ne accessori per l’esterno.\\nMostrando l’eclettismo e la versatilità del design Cassina anche negli spazi \\nesterni dell’abitare con un lessico non convenzionale, distintivo e potente, \\ncapace di esprimere la qualità tangibile sia dell’oggetto singolo sia dell’insie-\\nme, al di là delle mode effimere. E quell’istinto di anticipare nel presente ciò \\nche sarà classico domani.\\nAvant-gardism, authenticity, excellence and the combination of technologi-\\ncal skill and local craftsmanship expertise. Cassina’s identity is founded on \\nsolid and shared values that express the best of Italian and international \\ndesign with a cohesive, recognisable and cultured approach. Through a \\nunique weave of words and actions, Cassina has successfully amalgamated \\nculture, craftsmanship and industry, reconciling tradition with research, \\nrigour with emotions and uniqueness with experimentation, interpreting \\neveryday trends thanks to its constant work on aesthetics and codification. \\nThe pioneering and free spirit that for over 90 years has placed this \\ncompany based in Meda ahead of its time, has traced a unique path - in \\nterms of intuition and farsightedness - through the world of interior design \\nand architecture. \\nThis is why Cassina’s designs are part of the permanent collections of the \\nworld’s most prominent museums. Its products are durable and timeless, a \\nsynthesis of beauty and meaning, impeccable in terms of the quality of the \\nmaterials and sartorial details. The perfection it has achieved in terms of \\ncarpentry expertise and leather and upholstery workmanship can still be \\nseen today in masterpieces such as the 699 Superleggera chair by Gio \\nPonti, the CAB family by Mario Bellini and the Maralunga sofa by Vico \\nMagistretti. \\nAnd so, in a continuing dialogue between past, present and future, Cassina \\nhas created the iMaestri Collection, revisiting the style models created by \\nthe twentieth century’s best-known architects, including Le Corbusier, \\nPierre Jeanneret, Charlotte Perriand, Charles Rennie Mackintosh, Gerrit \\nThomas Rietveld, Franco Albini, Marco Zanuso, Ico Parisi, Giacomo Balla, \\nVico Magistretti, Gio Ponti and Carlo Scarpa.\\nSince the 1950s Cassina has also produced seminal works of contempo-\\nrary design by some of the world’s leading designers, from Ronan & Erwan \\nBouroullec to Rodolfo Dordoni, Piero Lissoni, Gaetano Pesce, Philippe \\nStarck and Patricia Urquiola, the company’s art director. \\nToday Cassina continues to look to the future of design with courage, \\npassion, curiosity and an open and holistic approach. Confirming its exclu-\\nsive ability to completely furnish living and dining rooms, the company has \\nnow expanded the horizons of its philosophy to the external spaces of the \\nhome with The Cassina Perspective Goes Outdoor: a concept, an informed \\nand futuristic notion, a broad and detailed horizon of configurations in which \\nthe most innovative products are combined with the icons of Modern \\ndesign to create authentic, welcoming and personal atmospheres. The \\nCassina Perspective Goes Outdoor combines the Collection Le Corbusier, \\nPierre Jeanneret, Charlotte Perriand, revisited in terms of fabrics and finish-\\nes, and two new projects by Charlotte Perriand – the Table à Plateau Inter-\\nchangeable, now in an outdoor version, and the Doron Hotel Outdoor chair, \\nalso available in an indoor version – with three great contemporary design-\\ners: Philippe Starck, Rodolfo Dordoni and Patricia Urquiola.\\nInteracting according to a code of formal sensibility, solidity and cultural \\nauthority, these naturally empathetic systems, capable of adapting to differ-\\nent requirements and lifestyles, are the embodiment of four open air envi-\\nronments. Four private settings - the contemporary outdoors, the tropical \\nrefuge, the little private paradise, the metropolitan terrace - to enjoy in \\ncomplete harmony with nature thanks to the high quality furniture, designed \\ndown to the finest of details and dimensions, completed by new outdoor \\nlighting, rugs and accessories.\\nThe eclecticism and versatility of Cassina’s designs in external living spaces \\nis demonstrated with an unconventional, distinctive and powerful lexicon \\nthat expresses the tangible quality of both the individual piece and the \\nensemble that go beyond passing trends. With the instinct and the ability to \\nenvisage tomorrow’s classics today.\\n4\\n \\nCassina Outdoor',\n",
       "  'image_path': 'mid_data/extracted_images/07 - OUTDOOR PRODUCTS 2024_page_4.png'},\n",
       " {'text': '2 0 2 4\\nO U T D O O R  C O L L E C T I O N',\n",
       "  'image_path': 'mid_data/extracted_images/08 - OUTDOOR COLLECTION 2024_page_1.png'},\n",
       " {'text': '3',\n",
       "  'image_path': 'mid_data/extracted_images/08 - OUTDOOR COLLECTION 2024_page_2.png'},\n",
       " {'text': '1\\nO U T D O O R  C O L L E C T I O N',\n",
       "  'image_path': 'mid_data/extracted_images/08 - OUTDOOR COLLECTION 2024_page_3.png'},\n",
       " {'text': '3\\nTABLE OF\\nCONTENTS\\nCONTEMPORARY \\nOUTDOORS\\nMex-Hi Outdoor, Esosoft Outdoor, \\nCarlotta, Sail Out, Dine Out\\nP. 12\\nMETROPOLITAN \\nTERRACE\\nSail Out, Dine Out\\nP. 144\\nLITTLE PRIVATE \\nPARADISE\\nCollection  iMaestri Le Corbusier®, Pierre Jeanneret®, \\nCharlotte Perriand®, Dine out, Trampoline\\nP. 78\\nTROPICAL \\nREFUGE \\nFenc-e Nature\\nP. 136',\n",
       "  'image_path': 'mid_data/extracted_images/08 - OUTDOOR COLLECTION 2024_page_4.png'},\n",
       " {'text': '2 0 2 3\\nD I N I N G  C O L L E C T I O N',\n",
       "  'image_path': 'mid_data/extracted_images/Cassina-LB-DINING_page_1.png'},\n",
       " {'text': 'D I N I N G  C O L L E C T I O N',\n",
       "  'image_path': 'mid_data/extracted_images/Cassina-LB-DINING_page_3.png'},\n",
       " {'text': '3\\nTABLE OF\\nCONTENTS\\nA VILLA \\nAND ITS GARDEN\\nSengu Table, 6 Table tube d’avion, \\nCapitol Complex Table, Cotone Table\\nP. 78\\nMETROPOLITAN \\nINTERIORS\\nSengu Table, Doge, \\nOlimpino, Mexique\\nP. 98\\nOPEN \\nARCHITECTURE\\nOrdinal, El Dom\\nP. 142\\nA LIBERTY CITY \\nAPARTMENT\\nLebeau Wood, Naan\\nP. 162\\nAN ECO \\nTECHNOLOGICAL LODGE\\nEdison, Capitol Complex Table, \\nSarpi, Table en forme libre\\nP. 122\\nA STATELY HOME\\nPrincipi, Longlplane, \\nBollicosa\\nP. 12 \\nA REFINED HOME \\nIMMERSED IN NATURE\\nDelﬁ, Boboli\\nP. 154\\nA BOURGEOIS \\nPENTHOUSE \\nCab Chair, Cab Tab, Ghost Box\\nP. 52',\n",
       "  'image_path': 'mid_data/extracted_images/Cassina-LB-DINING_page_4.png'},\n",
       " {'text': 'L I V I N G  C O L L E C T I O N\\nG h o s t  W a l l\\n2 0 2 3\\nDesign Mikal Harrsen',\n",
       "  'image_path': 'mid_data/extracted_images/Ghost-wall-mikal-harrsen_page_1.png'},\n",
       " {'text': 'L I V I N G  C O L L E C T I O N\\nG h o s t  W a l l\\n2 0 2 3\\nDesign Mikal Harrsen',\n",
       "  'image_path': 'mid_data/extracted_images/Ghost-wall-mikal-harrsen_page_2.png'},\n",
       " {'text': 'GHOST WALL \\nIS THE PROPOSAL \\nBY CASSINA TO \\nEXPRESS YOUR \\nCREATIVITY IN ALL \\nENVIRONMENTS.\\nGhost Wall è la proposta di Cassina per esprimere \\nla creatività in tutti gli ambienti. \\n7\\nIntroduction',\n",
       "  'image_path': 'mid_data/extracted_images/Ghost-wall-mikal-harrsen_page_4.png'}]"
      ]
     },
     "execution_count": 10,
     "metadata": {},
     "output_type": "execute_result"
    }
   ],
   "source": [
    "import os\n",
    "import fitz  # PyMuPDF\n",
    "from PIL import Image\n",
    "from tqdm import tqdm\n",
    "import json\n",
    "\n",
    "def extract_text_image_pairs(pdf_folder, output_image_folder, output_json=\"text_image_mapping.json\"):\n",
    "    os.makedirs(output_image_folder, exist_ok=True)\n",
    "    result = []\n",
    "    idx = 0\n",
    "\n",
    "    for file_name in tqdm(os.listdir(pdf_folder)):\n",
    "        if not file_name.endswith(\".pdf\"):\n",
    "            continue\n",
    "        pdf_path = os.path.join(pdf_folder, file_name)\n",
    "        doc = fitz.open(pdf_path)\n",
    "        for page_number in range(len(doc)):\n",
    "            page = doc.load_page(page_number)\n",
    "            text = page.get_text().strip()\n",
    "            if not text:\n",
    "                continue  # 跳过没有文本的页面\n",
    "\n",
    "            # 将整个页面截图保存为图像\n",
    "            pix = page.get_pixmap(dpi=200)\n",
    "            image_path = os.path.join(output_image_folder, f\"{os.path.splitext(file_name)[0]}_page_{page_number + 1}.png\")\n",
    "            pix.save(image_path)\n",
    "\n",
    "            result.append({\n",
    "                \"text\": text,\n",
    "                \"image_path\": image_path\n",
    "            })\n",
    "            idx += 1\n",
    "            if page_number == 3: # 为节省时间，只取前 n 张进行训练\n",
    "                break\n",
    "\n",
    "    # 保存 JSON 映射\n",
    "    with open(output_json, \"w\", encoding=\"utf-8\") as f:\n",
    "        json.dump(result, f, ensure_ascii=False, indent=2)\n",
    "    \n",
    "    print(f\"共提取 {idx} 个文本-图像对，已保存至 {output_json}\")\n",
    "    return result\n",
    "\n",
    "extract_text_image_pairs(\n",
    "    pdf_folder=\"ori_data/The_combination_of_images_and_text\",\n",
    "    output_image_folder=\"mid_data/extracted_images\",\n",
    "    output_json=\"mid_data/text_image_mapping.json\"\n",
    ")\n"
   ]
  },
  {
   "cell_type": "code",
   "execution_count": 31,
   "id": "85fca28a-9d1c-4756-b813-cb70b29888ed",
   "metadata": {
    "scrolled": true
   },
   "outputs": [
    {
     "name": "stdout",
     "output_type": "stream",
     "text": [
      "✅ 已保存哈希结构数据，共计 70 项，路径：mid_data/image_path_hash.pkl\n"
     ]
    },
    {
     "data": {
      "text/plain": [
       "{'mid_data/extracted_images/Living_Products_2022_page_1.png': {'text': '2 0 2 2\\nL I V I N G  P R O D U C T S',\n",
       "  'image_path': 'mid_data/extracted_images/Living_Products_2022_page_1.png'},\n",
       " 'mid_data/extracted_images/Living_Products_2022_page_2.png': {'text': 'Living Products\\n2022\\ncassina.com',\n",
       "  'image_path': 'mid_data/extracted_images/Living_Products_2022_page_2.png'},\n",
       " 'mid_data/extracted_images/Living_Products_2022_page_3.png': {'text': '3 Fauteuil Grand Confort, \\ngrand modèle, trois places, \\ndurable\\nLe Corbusier, P. Jeanneret, \\nC. Perriand\\n3 Fauteuil Grand Confort, \\nméridienne, durable\\nLe Corbusier, P. Jeanneret, \\nC. Perriand\\n4 Chaise longue à réglage \\ncontinu\\nLe Corbusier, P. Jeanneret, \\nC. Perriand\\n4 Chaise longue à réglage \\ncontinu, noire\\nLe Corbusier, P. Jeanneret, \\nC. Perriand\\nLady\\nMarco Zanuso\\nOmbra\\nCharlotte Perriand\\nP22\\nPatrick Norguet\\nSoriana\\nAfra & Tobia Scarpa\\nSoriana\\nAfra & Tobia Scarpa\\nTokyo Chaise Longue\\nCharlotte Perriand\\nTokyo Dormeuse\\nCharlotte Perriand\\nTre pezzi\\nFranco Albini\\nUtrecht\\nGerrit Thomas Rietveld\\nUtrecht Baby/XL\\nGerrit Thomas Rietveld\\nWink\\nToshiyuki Kita\\nWoodline\\nMarco Zanuso\\nCapitol Complex Chair/\\nCapitol Complex Office Chair\\nHommage à Pierre Jeanneret\\nCivil Bench\\nHommage à Pierre Jeanneret\\nGuéridon J.M.\\nCharlotte Perriand\\nHill House 1\\nCharles Rennie Mackintosh\\nIndochine\\nCharlotte Perriand\\n7 Fauteuil tournant\\nCharlotte Perriand – Intégré à la \\nCollection Le Corbusier®, Pierre \\nJeanneret®, Charlotte Perriand®\\nLeggera\\nGio Ponti\\nLuisa\\nFranco Albini\\nRed and Blue\\nGerrit Thomas Rietveld\\nBlack Red and Blue\\nGerrit Thomas Rietveld\\nSoft Corner\\nLinde Freya Tangelder\\nSuperleggera\\nGio Ponti\\nWillow 1\\nCharles Rennie Mackintosh\\nZig Zag\\nGerrit Thomas Rietveld\\nScighera\\nPiero Lissoni\\n \\nSengu Bold\\nPatricia Urquiola\\nSengu Sofa\\nPatricia Urquiola\\nSoriana\\nAfra & Tobia Scarpa\\nTramonto a New York\\nGaetano Pesce\\nVolage EX–S\\nPhilippe Starck\\n9 Occasional Tables\\nPiero Lissoni\\n780/783\\nGianfranco Frattini\\nAccordo\\nCharlotte Perriand \\nBoboli\\nRodolfo Dordoni\\nBowy Table\\nPatricia Urquiola\\nCicognino \\nFranco Albini\\nConstantin\\nStudio Simon \\nDjuna\\nKazuhide Takahama\\nEsosoft Coffee Table\\nAntonio Citterio\\n9 Tabouret\\nCharlotte Perriand – Intégré à la \\nCollection Le Corbusier®, Pierre \\nJeanneret®, Charlotte Perriand®\\n9 Tabouret de salle de bains\\nCharlotte Perriand – Intégré à la \\nCollection Le Corbusier®, Pierre \\nJeanneret®, Charlotte Perriand®\\n10 Table en tube\\nLe Corbusier, P. Jeanneret,  \\nC. Perriand\\n10 Table en tube, \\ngrand modèle\\nLe Corbusier, P. Jeanneret,  \\nC. Perriand\\n10 Table en tube basse\\nLe Corbusier, P. Jeanneret,  \\nC. Perriand\\n10 Table en tube basse, \\ngrand modèle\\nLe Corbusier, P. Jeanneret,  \\nC. Perriand\\nLC14 Tabouret Cabanon, \\nRoquebrune-Cap-Martin \\n1952 / LC14 Tabouret Maison du \\nBrésil, Paris 1959\\nLe Corbusier\\nLC14 Tabouret, \\nNantes-Rezé, 1952-1957\\nLe Corbusier\\n2 Fauteuil Grand Confort, \\npetit modèle, deux places \\nLe Corbusier, P. Jeanneret, \\nC. Perriand\\n2 Fauteuil Grand Confort, \\npetit modèle, trois places \\nLe Corbusier, P. Jeanneret, \\nC. Perriand\\n2 Ottomane\\nLe Corbusier, P. Jeanneret, \\nC. Perriand\\n2 Fauteuil Grand Confort, \\npetit modèle, durable\\nLe Corbusier, P. Jeanneret, \\nC. Perriand\\n2 Fauteuil Grand Confort, \\npetit modèle, deux places, durable\\nLe Corbusier, P. Jeanneret, \\nC. Perriand\\n2 Fauteuil Grand Confort, \\npetit modèle, trois places, durable\\nLe Corbusier, P. Jeanneret, \\nC. Perriand\\n2 Ottomane, durable\\nLe Corbusier, P. Jeanneret, \\nC. Perriand\\n3 Fauteuil Grand Confort, \\ngrand modèle\\nLe Corbusier, P. Jeanneret, \\nC. Perriand\\n3 Fauteuil Grand Confort, \\ngrand modèle, deux places\\nLe Corbusier, P. Jeanneret, \\nC. Perriand\\n3 Fauteuil Grand Confort, \\ngrand modèle, trois places\\nLe Corbusier, P. Jeanneret, \\nC. Perriand\\n3 Fauteuil Grand Confort, \\nméridienne\\nLe Corbusier, P. Jeanneret, \\nC. Perriand\\n3 Fauteuil Grand Confort, \\ngrand modèle, durable\\nLe Corbusier, P. Jeanneret, \\nC. Perriand\\n3 Fauteuil Grand Confort, \\ngrand modèle, deux places, \\ndurable\\nLe Corbusier, P. Jeanneret, \\nC. Perriand\\nLebeau Wood Low Table\\nPatrick Jouin\\nMarcel T \\nKazuhide Takahama\\nMexique \\nCharlotte Perriand\\nMex \\nPiero Lissoni\\nMex-Hi\\nPiero Lissoni\\nNest of Tables\\nBodil Kjær\\nNote\\nPiero Lissoni\\nPlana \\nCharlotte Perriand\\nRio  \\nCharlotte Perriand\\nScighera \\nPiero Lissoni\\nSengu Low Table\\nPatricia Urquiola\\nSengu Coffee Table\\nPatricia Urquiola\\nSoft Corner\\nLinde Freya Tangelder\\nSuper Beam Sofa System\\nPatricia Urquiola\\nTable à Plateau \\nIntérchangeable\\nCharlotte Perriand\\nTabouret Méribel/Berger\\nCharlotte Perriand\\nTorei\\nLuca Nichetto\\nTraccia\\nMeret Oppenheim\\nVolage EX–S \\nPhilippe Starck\\n875\\nIco Parisi\\nAeo\\nPaolo Deganello\\nAki Biki Canta\\nKazuide Takahama\\nAntropus\\nMarco Zanuso\\nAuckland\\nJean Marie Massaud\\nBack-Wing Armchair\\nPatricia Urquiola\\nCab Lounge\\nMario Bellini\\nCapitol Complex Armchair\\nHommage à Pierre Jeanneret\\nDodo\\nToshiyuki Kita \\nDoron Hotel\\nCharlotte Perriand\\n \\nExord\\nJeffrey Bernett\\nFeltri\\nGaetano Pesce\\nHigh Back Chair\\nBodil Kjær\\nKangaroo\\nHommage à Pierre Jeanneret\\n1 Fauteuil dossier \\nbasculant\\nLe Corbusier, P. Jeanneret, \\nC. Perriand\\n1 Fauteuil dossier \\nbasculant, Villa Church\\nLe Corbusier, P. Jeanneret, \\nC. Perriand\\n1 Fauteuil dossier \\nbasculant, UAM\\nLe Corbusier, P. Jeanneret, \\nC. Perriand\\n2 Fauteuil Grand Confort, \\npetit modèle \\nLe Corbusier, P. Jeanneret, \\nC. Perriand\\nDivani/Sofas\\u2009/\\u2009\\nSofas\\u2009/Canapés\\nPoltrone/Armchairs\\u2009/\\u2009\\nArmlemnstüle\\u2009/\\u2009Fauteuils\\nTavolini/Low Tables\\u2009/\\u2009\\nNiedrige Tische\\u2009/\\u2009Tables Basses\\nSedie/Chairs/\\n8\\nPiero Lissoni\\nBeam Sofa System\\nPatricia Urquiola\\nBowy-Sofa\\nPatricia Urquiola\\nDress–Up!\\nRodolfo Dordoni\\nDuc \\nMario Bellini\\nDuc-Duc\\nMario Bellini\\nEsosoft\\nAntonio Citterio\\nFloe Insel\\nPatricia Urquiola\\n5 Canapé, Appartement \\nLe Corbusier\\nLe Corbusier, P. Jeanneret, \\nC. Perriand\\nMaralunga/40/ 40-S\\nVico Magistretti\\nMaralunga Maxi/40 Maxi\\nVico Magistretti\\nMet\\nPiero Lissoni\\nMex Cube\\nPiero Lissoni\\nMex-Hi\\nPiero Lissoni\\nMiloe\\nPiero Lissoni\\nModular Imagination\\nVirgli Abloh\\nMoov\\nPiero Lissoni\\nMyWorld\\nPhilippe Starck\\nPrivé\\nPhilippe Starck\\nRefolo\\nCharlotte Perriand\\n36\\n42\\n50\\n162\\n138\\n212\\n170\\n176\\n178\\n180\\n184\\n188\\n186\\n190\\n192\\n195\\n66\\n88\\n336\\n338\\n340\\n342\\n344\\n282\\n284\\n348\\n354\\n308\\n360\\n364\\n366\\n334\\n281\\n356\\n350\\n306\\n160\\n132\\n158\\n128\\n211\\n168\\n64\\n84\\n258\\n214\\n260\\n110\\n106\\n262\\n219\\n100\\n264\\n114\\n120\\n266\\n220\\n124\\n268\\n222\\n148\\n152\\n270\\n226\\n274\\n228\\n230\\n234\\n238\\n240\\n242\\n244\\n247\\n250\\n252\\n276\\n279\\n280\\n288\\n332\\n290\\n292\\n296\\n298\\n300\\n302\\n304\\n56\\n310\\n312\\n314\\n318\\n320\\n322\\n324\\n326\\n328\\n285\\n164\\n144\\n172\\n196\\n166\\n174\\n197\\n201\\n202\\n199\\n200\\n198\\n207\\n209\\n208\\n210\\n72\\n92\\n254\\n213\\n62\\n76\\n80\\n96\\n256\\nNew\\nNew\\nNew\\nNew\\nNew\\nNew\\nNew\\nNew\\nNew\\nStüle/Chaises',\n",
       "  'image_path': 'mid_data/extracted_images/Living_Products_2022_page_3.png'},\n",
       " 'mid_data/extracted_images/Living_Products_2022_page_4.png': {'text': 'Collection Chandigarh\\nColourdisc\\nHome Fragrances\\nLC17 Portemanteau, \\nUnités de Camping, \\nRoquebrune-Cap-Martin, 1957\\nLe Corbusier\\nLe Miniature\\nObjects\\nPost Scriptum\\nFormafantasma\\nSestiere\\nPatricia Urquiola\\nSkyscraper\\nBodil Kjær\\nParavent Ambassade\\nCharlotte Perriand\\nParavento Balla\\nGiacomo Balla\\nRadio in Cristallo\\nFranco Albini\\nRéaction Poétique\\nJaime Hayon\\nServing Cart\\nBodil Kjær\\nTramonto a New York\\nGaetano Pesce\\nDeadline\\nRon Gilad\\nLes Grands Trans-Parents\\nMan Ray\\nOtero\\nStudio Simon\\nCarpets\\nGraffiti \\nCharlotte Perriand\\nVérité\\nCharlotte Perriand\\nBramante\\nKazuhide Takahama\\nBramante (2.1/3.1/4.1)\\nKazuhide Takahama\\nDeco\\nHiroyuki Tsugawa\\nFlat\\nPiero Lissoni\\nGhost Wall\\nMikal Harrsen\\nHayama\\nPatricia Urquiola\\nInfinito \\nFranco Albini\\nInfinito Wall\\nFranco Albini\\n20 Casiers standard P.E.N.\\nLe Corbusier, P. Jeanneret\\n20 Casiers standard, \\npieds corolle\\nLe Corbusier, P. Jeanneret, \\nC. Perriand\\nNuage\\nCharlotte Perriand\\nNuage à Plots\\nCharlotte Perriand\\nNuvola Rossa \\nVico Magistretti\\nRialto\\nCarlo Scarpa\\nRiflesso\\nCharlotte Perriand\\nRondos\\nPatricia Urquiola\\nVeliero\\nFranco Albini\\nCapsule Collection\\nby Nemo\\nLamps\\nContenitori–Librerie/\\nComplementi/Complements/\\nAccessori/Accessories/\\nLampade/Lamps/Lampen/\\nSpecchi/Mirrors/Spiegel/\\nTappeti/Carpets/Teppiche/Tapis\\n388\\n384\\n392\\n394\\n400\\n396\\n402\\n406\\n411\\n413\\n416\\n420\\n424\\n426\\n428\\n430\\n432\\n436\\n444\\n460\\n466\\n468\\n480\\n478\\n470\\n474\\n476\\n482\\n484\\n486\\n488\\n498\\n494\\n504\\n502\\n506\\n508\\n510\\n512\\n514\\nNew\\nNew\\nNew\\nNew\\nErgänzungen/Complèments\\nZubehörteile/Accessoires\\nLampes\\nMioroirs\\nContainer Units–Bookshelves/\\nKastenelemente–Bücherregale/\\nCasiers–Bibliothèques\\nEclisse\\nTende/Curtains\\n/Vorhänge/Ridaux\\n516\\n714\\nTheodore Waddell\\nAntella\\nKazuhide Takahama\\nCavalletto \\nFranco Albini\\nLC16 Table de travail \\navec rayonnages, Unité \\nd’Habitation, Nantes-Rezé, 1957 \\nLe Corbusier\\nPA’ 1947\\nIco Parisi\\nPetit Bureau en Forme Libre\\nCharlotte Perriand\\nStadera\\nFranco Albini\\nTavoli/Tables\\u2009/Tische/Tables\\nScrivanie/Desks/\\n374\\n380\\n382\\n376\\n368\\n370\\n372\\nNew\\nNew\\nNew\\nNew\\nSchreibtische/Bureaux',\n",
       "  'image_path': 'mid_data/extracted_images/Living_Products_2022_page_4.png'},\n",
       " 'mid_data/extracted_images/06 - SLEEPING COLLECTION 2024_page_1.png': {'text': '2 0 2 4\\nS L E E P I N G  C O L L E C T I O N',\n",
       "  'image_path': 'mid_data/extracted_images/06 - SLEEPING COLLECTION 2024_page_1.png'},\n",
       " 'mid_data/extracted_images/06 - SLEEPING COLLECTION 2024_page_3.png': {'text': '2 0 2 4\\nS L E E P I N G  C O L L E C T I O N',\n",
       "  'image_path': 'mid_data/extracted_images/06 - SLEEPING COLLECTION 2024_page_3.png'},\n",
       " 'mid_data/extracted_images/06 - SLEEPING COLLECTION 2024_page_4.png': {'text': 'S L E E P I N G  C O L L E C T I O N',\n",
       "  'image_path': 'mid_data/extracted_images/06 - SLEEPING COLLECTION 2024_page_4.png'},\n",
       " 'mid_data/extracted_images/Cassina_LB-SLEEPING_page_1.png': {'text': '2 0 2 3\\nS L E E P I N G  C O L L E C T I O N',\n",
       "  'image_path': 'mid_data/extracted_images/Cassina_LB-SLEEPING_page_1.png'},\n",
       " 'mid_data/extracted_images/Cassina_LB-SLEEPING_page_3.png': {'text': 'S L E E P I N G  C O L L E C T I O N',\n",
       "  'image_path': 'mid_data/extracted_images/Cassina_LB-SLEEPING_page_3.png'},\n",
       " 'mid_data/extracted_images/Cassina_LB-SLEEPING_page_4.png': {'text': '2\\n3\\nTABLE OF\\nCONTENTS\\nA STATELY HOME\\nEsosoft bed, Civil bench, \\nCapitol Complex armchair, La Main Ouverte\\nP. 12\\nAN ECO TECHNOLOGICAL LODGE\\nBio-mbo\\nP. 64\\nMETROPOLITAN INTERIORS\\nMoov, Cab Night\\nP. 48\\nA VILLA AND ITS GARDEN \\nVolage EX-S Night, Stay\\nP. 38',\n",
       "  'image_path': 'mid_data/extracted_images/Cassina_LB-SLEEPING_page_4.png'},\n",
       " 'mid_data/extracted_images/Sleeping_Products_2022_page_1.png': {'text': '2 0 2 2\\nS L E E P I N G  P R O D U C T S',\n",
       "  'image_path': 'mid_data/extracted_images/Sleeping_Products_2022_page_1.png'},\n",
       " 'mid_data/extracted_images/Sleeping_Products_2022_page_2.png': {'text': 'Sleeping Products\\n2022\\ncassina.com',\n",
       "  'image_path': 'mid_data/extracted_images/Sleeping_Products_2022_page_2.png'},\n",
       " 'mid_data/extracted_images/Sleeping_Products_2022_page_3.png': {'text': \"Guanciali/Pillows/\\nKopfkissen/Oreillers\\nTrapuntini/Quilts/\\nSteppauflage/Surmatelas \\nParure/Bed linen set/\\nBettwäsche/Parures de lit\\nCoperte/Blankets/\\nBettdecken/Couvertures\\nHome Fragrances\\nObjects\\nPost Scriptum\\nFormafantasma\\nSestiere\\nPatricia Urquiola\\nSkyscraper\\nBodil Kjær\\nDeadline\\nRon Gilad\\nLes Grands Trans-Parents\\nMan Ray\\nCaprice/Passion\\nPhilippe Starck\\nCotone/Cotone Slim\\nRonan & Edward Bouroullec\\nLeggera\\nGio Ponti\\nSoft Corners\\nLinde Freya Tangelder\\nZig Zag\\nGerrit Thomas Rietveld\\nAntella\\nKazuhide Takahama\\nLC16 Table de travail \\navec rayonnages, Unité \\nd’Habitation, Nantes-Rezé, 1957 \\nLe Corbusier\\nPA' 1947\\nIco Parisi\\nPetit Bureau en Forme Libre\\nCharlotte Perriand\\nSled\\nRodolfo Dordoni\\nDeco\\nHiroyuki Tsugawa\\nFlat\\nPiero Lissoni\\nGhost Wall\\nMikal Harrsen\\nRondos\\nPatricia Urquiola\\nVolage EX-S\\nPhilippe Starck\\nAcute\\nRodolfo Dordoni\\nCivil Bench\\nHommage à Pierre Jeanneret\\nVolage\\nPhilippe Starck\\nVolage EX-S Night\\nPhilippe Starck\\nDuc-Duc\\nMario Bellini\\nRefolo\\nCharlotte Perriand\\nVolage EX-S Night\\nPhilippe Starck\\nParavent Ambassade\\nCharlotte Perriand\\nParavento Balla\\nGiacomo Balla\\nStay\\nNeri&Hu\\nTramonto a New York\\nGaetano Pesce\\nCapsule Collection\\nby Nemo\\nLamps\\nShadowMoon\\nFedora\\nby Schramm\\nGold Deva Conscious\\nNatural Luxurious\\nby Vispring\\nPure Conscious\\nEnergy\\nMotion\\nSommier\\nby Schramm\\nZefiro\\nEclisse\\nTende/Curtains/\\nVorhänge/Ridaux\\n9 Occasional Tables\\nPiero Lissoni\\nBoboli\\nRodolfo Dordoni\\nBowy\\nPatricia Urquiola\\nDjuna\\nKazuhide Takahama\\nLC14 Tabouret Cabanon, \\nRoquebrune-Cap-Martin \\n1952 / LC14 Tabouret Maison du \\nBrésil, Paris 1959\\nLe Corbusier\\nLC14 Tabouret, \\nNantes-Rezé, 1952-1957\\nLe Corbusier\\nSoft Corners\\nLinde Freya Tangelder\\nTraccia\\nMeret Oppenheim\\nVolage EX–S \\nPhilippe Starck\\n875\\nIco Parisi\\nBack–Wing Armchair\\nPatricia Urquiola\\nCapitol Complex Armchair\\nHommage à Pierre Jeanneret\\nDoron Hotel\\nCharlotte Perriand\\nKangaroo\\nHommage à Pierre Jeanneret\\n4 Chaise longue à réglage \\ncontinu \\nLe Corbusier, P. Jeanneret, \\nC. Perriand\\n4 Chaise longue à réglage \\ncontinu, noire\\nLe Corbusier, P. Jeanneret, \\nC. Perriand\\nTre pezzi\\nFranco Albini\\nUtrecht\\nGerrit Thomas Rietveld\\nUtrecht Baby/XL\\nGerrit Thomas Rietveld\\nVolage EX-S Night\\nPhilippe Starck\\nWoodline\\nMarco Zanuso\\nAcute\\nRodolfo Dordoni\\nBio-mbo\\nPatricia Urquiola\\nNote Night\\nPiero Lissoni\\nVolage\\nPhilippe Starck\\nVolage EX-S Night\\nPhilippe Starck\\nLetti/Beds/Betten/Lits\\nComodini/Bedside tables\\nTavolini/Low Tables\\u2009/\\u2009Niedrige\\nSedie/Chairs/Stüle/Chaises\\nContenitori/Container Units/\\nPanche/Benches/Bänke/Bancs\\nDivani/Sofas/Sofas/Canapés\\nComplementi/Complements/\\nLampade/Lamps/Lampen/\\nAccessori/Accessories/\\nParaventi/Screens/\\nSpecchi/Mirrors/Spiegel/\\nTappeti/Carpets/Teppiche/Tapis\\nComplementi letto/Bed\\nMaterassi/Mattress/\\nReti/Bases/Lattenroste/\\nSommiers\\nPoltrone/Armchairs/\\u2009\\nArmlemnstüle/Fauteuils\\nAcute\\nRodolfo Dordoni\\nBio-mbo\\nPatricia Urquiola\\nCab Night\\nMario Bellini\\n35 Maison du Brésil\\nLe Corbusier, C. Perriand\\nMoov\\nPiero Lissoni\\nVolage\\nPhilippe Starck\\nVolage EX-S Night\\nPhilippe Starck\\nScrivanie/Desks/\\n34\\n46\\n72\\n80\\n40\\n98\\n100\\n106\\n108\\n112\\n114\\n116\\n180\\n184\\n124\\n126\\n128\\n132\\n118\\n94\\n104\\n178\\n246\\n248\\n250\\n254\\n122\\n120\\n212\\n218\\n220\\n222\\n186\\n262\\n266\\n267\\n226\\n230\\n236\\n240\\n244\\n194\\n210\\n256\\n268\\n258\\n264\\n270\\n260\\n265\\n272\\n274\\n278\\n68\\n62\\n78\\n86\\n90\\n91\\n88\\n50\\n74\\n134\\n136\\n140\\n142\\n146\\n150\\n228\\n152\\n154\\n156\\n158\\n160\\n163\\n166\\n168\\n171\\n174\\n176\\n164\\n82\\n58\\n76\\n84\\nNachttische/Tables de nuit\\nTische\\u2009/\\u2009Tables Basses\\nKastenelemente/Casiers\\nSchreibtische/Bureaux\\nErgänzungen/Complèments\\nLampes\\nZubehörteile/Accessoires\\nParavents/Paravent\\nMioroirs\\nMatratze/Matelas\\nComplements/Betten ergänzt/\\nCompléments de lits\\nCarpets\\nGraffiti \\nCharlotte Perriand\\nVerité\\nCharlotte Perriand\\nNew\\nNew\\nNew\\nNew\\nNew\\nNew\\nNew\\nNew\\nNew\\nNew\\nNew\\nNew\\nNew\",\n",
       "  'image_path': 'mid_data/extracted_images/Sleeping_Products_2022_page_3.png'},\n",
       " 'mid_data/extracted_images/Sleeping_Products_2022_page_4.png': {'text': \"The Cassina Perspective\\nITA\\nENG\\nAvanguardia, autenticità, eccellenza e connubio di capacità tecnologica e \\nsapienza manuale locale. L’identità di Cassina si è costruita su valori solidi \\ne condivisi, per esprimere il meglio del design italiano e internazionale \\ncon un linguaggio coerente, riconoscibile, colto. Attraverso un intreccio \\npeculiare di gesti e parole, Cassina ha saputo far interagire cultura, \\nartigianato e industria, conciliando memoria e ricerca, rigore ed emozione, \\nunicità e sperimentazione, e interpretando le tendenze della quotidianità \\ngrazie a un lavoro costante su estetica e tipologie. Con spirito pionieristico \\ne libero, da oltre 90 anni l’azienda di Meda anticipa i tempi, tracciando un \\npercorso inedito – per intuizione e lungimiranza – nel mondo del design e \\ndell’architettura di interni. Per questo il design di Cassina è esposto nelle \\ncollezioni permanenti dei più importanti musei del mondo. I suoi prodotti \\nsono durevoli e senza tempo, sintesi di bellezza e significato, curati nei \\nmateriali di qualità assoluta e nei dettagli sartoriali. In un continuo dialogo \\ntra passato, presente e futuro, Cassina realizza i modelli iconici del XX \\nsecolo con la Collezione Cassina iMaestri, in cui gli arredi di Le Corbusier, \\nPierre Jeanneret, Charlotte Perriand, Charles Rennie Mackintosh, Gerrit \\nThomas Rietveld, Franco Albini, Marco Zanuso, Ico Parisi e Giacomo Balla \\nvengono rieditati – rispettando disegni e concept funzionali originali – e \\nriattualizzati secondo le evoluzioni tecnologiche. Ed è anche l’azienda \\nche produce le opere di riferimento del design dagli anni '50 all’attualità di \\nalcuni tra i più importanti autori internazionali.\\nCassina continua a guardare al futuro del progetto con audacia, passione \\ne curiosità attraverso The Cassina Perspective: un pensiero consapevole \\ne avveniristico, un orizzonte ricco di configurazioni, in cui i prodotti \\ndall’anima più innovativa e le icone del moderno creano insieme atmosfere \\nautentiche e personali. E confermando l’esclusiva capacità di arredare \\ngli ambienti living, dining e outdoor in modo coordinato e riconoscibile, \\nl’azienda estende oggi gli orizzonti della sua filosofia anche alla camera da \\nletto con The Cassina Perspective at Night; la notte – la sua dimensione \\nonirica, la sua magia – ispira nuove riflessioni sui concetti di relax, \\narmonia e rigenerazione delle idee con un’originale vitalità espressiva \\ne compiutezza formale. Così, proposte caratterizzate da uno stile più \\nclassico e da materiali pregiati (Acute di Rodolfo Dordoni) oppure pensate \\nper dare vita a spazi caldi e informali, in cui tessuti e colori tratteggiano \\nscenari accoglienti sia per la casa sia per l’hôtellerie (Bio-mbo di Patricia \\nUrquiola) si uniscono a tre modelli già presenti in collezione, Cab Night, \\nVolage e Moov, per delineare un panorama ampio di possibilità, in cui \\nla perfetta combinazione tra ergonomia ed estetica è il risultato delle \\nindagini avanzate compiute da Cassina sulla cultura del dormire; per un \\nbenessere all’avanguardia, ottenuto anche con innovativi strumenti per \\nil miglioramento della qualità dell’aria e la riduzione del rumore.\\xa0 Letti, \\nabbinati a comodini, contenitori notte, scrittoi, accessori e biancheria \\ne ai pezzi iconici di Cassina, disegnano ambienti completi secondo un \\ncodice di sensibilità formale, solidità e autorevolezza intellettuale, creando \\nsistemi di presenze naturalmente empatiche, che sanno stabilire una \\nsintonia emozionale con chi le usa e adattarsi a interpretazioni e stili di \\nvita differenti. Mostrando l’eclettismo e la versatilità del design Cassina in \\ntutti i luoghi dell’abitare attraverso un lessico non convenzionale, distintivo \\ne potente, capace di esprimere la qualità tangibile sia dell’oggetto singolo \\nsia dell’insieme, al di là delle mode effimere. E quell’istinto di anticipare nel \\npresente le tendenze di domani.\\nAvant-gardism, authenticity, excellence and the combination of \\ntechnological skill with local manual expertise. Cassina’s identity is \\nfounded on these solid, shared values to express the best of Italian and \\ninternational design with a cohesive, recognisable and cultured approach. \\nThrough a unique weave of words and actions, Cassina has successfully \\namalgamated culture, craftsmanship and industry, reconciling tradition \\nwith research, rigour with emotion and uniqueness with experimentation, \\nwhile interpreting everyday trends thanks to its untiring work on aesthetics \\nand codification. With this free and pioneering spirit, the company based \\nin Meda has anticipated the times for over 90 years, blazing an original \\nnew trail - in terms of intuition and farsightedness - in the world of interior \\ndesign and architecture. This is why Cassina’s products form part of \\nthe permanent collections of the world’s most prominent museums. Its \\nfurniture is durable and timeless, a synthesis of beauty and meaning, \\nimpeccable for the quality of the materials and sartorial details. In a \\ncontinuous dialogue between the past, present and future, Cassina \\nproduces the iconic models by the great architects of the XX Century \\nfor the Cassina iMaestri Collection, in which the items of furniture by \\nLe Corbusier, Pierre Jeanneret, Charlotte Perriand, Charles Rennie \\nMackintosh, Gerrit Thomas Rietveld, Franco Albini, Marco Zanuso, Ico \\nParisi and Giacomo Balla are revisited – respecting the original designs \\nand functional concepts – and modernised using the latest technologies. \\nIt is also a company that since the 1950s has produced seminal works of \\ncontemporary design by some of the world’s leading designers.\\nCassina continues to look to the future of design with courage, passion \\nand curiosity through The Cassina Perspective: a conscious and forward-\\nthinking concept that offers a broad horizon of configurations for the \\nhome where the most innovative products and icons of Modern design \\ncreate authentic and personal atmospheres. Confirming its exclusive \\nability to furnish living rooms, dining areas and outdoor environments \\nin a coordinated and recognisable way, the company now extends this \\nphilosophy to the bedroom with The Cassina Perspective at Night. The \\nnight, with its dreamlike and magic dimension, inspires new reflections on \\nthe concepts of relaxation, harmony and the regeneration of ideas with \\noriginal expressive vitality and formal completeness. As such, solutions \\ndistinctive for their classic style and fine materials (Acute by Rodolfo \\nDordoni) or designed to give life to warm and informal spaces, where \\nfabrics and colours create welcoming scenarios for both the home and \\nthe hotel sector (Bio-mbo by Patricia Urquiola), are combined with three \\nmodels from the existing collection, Cab Night, Volage and Moov, to offer \\na wide range of possibilities where the perfect combination of ergonomics \\nand aesthetics is the result of advanced research carried out by Cassina \\non the culture of sleeping. The collection boasts cutting-edge well-being, \\nthanks to innovative features that improve air quality and reduce noise, \\nand the design excellence and compositional freedom created through \\nthe combination of beds with bedside tables, night-time storage units, \\ndesks, accessories and linen, together with Cassina's iconic pieces, create \\ncomplete environments according to a code of formal sensitivity, solidity \\nand intellectual authority. Empathetic solutions that establish emotional \\nharmony with those who use them, adapting to different interpretations \\nand lifestyles. Demonstrating the eclecticism and versatility of Cassina’s \\ndesign in all living spaces with an unconventional, distinct and powerful \\nlexicon capable of expressing the tangible quality of both the single object \\nand the overall decor, going beyond fleeting trends, with the ability to \\nanticipate tomorrow’s trends today.\\nCassina.\\nLa sede/The headquarters/ \\nDer Sitz/La siège\\nThe Cassina Perspective\\nCassina Sleeping\",\n",
       "  'image_path': 'mid_data/extracted_images/Sleeping_Products_2022_page_4.png'},\n",
       " 'mid_data/extracted_images/IMaestri_Products_2022_page_1.png': {'text': 'I M A E S T R I  P R O D U C T S',\n",
       "  'image_path': 'mid_data/extracted_images/IMaestri_Products_2022_page_1.png'},\n",
       " 'mid_data/extracted_images/IMaestri_Products_2022_page_2.png': {'text': 'iMaestri Products\\n2022\\ncassina.com',\n",
       "  'image_path': 'mid_data/extracted_images/IMaestri_Products_2022_page_2.png'},\n",
       " 'mid_data/extracted_images/IMaestri_Products_2022_page_3.png': {'text': \"Accordo\\nDoron Hotel\\nGraffiti\\nGuéridon J.M.\\nIndochine\\nLe Monde de\\nCharlotte Perriand\\nMexique\\nMexique Stool\\nNuage\\nNuage à Plots \\nOmbra\\nOmbra Tokyo\\nParavent Ambassade\\nPetit Bureau \\nen Forme Libre\\nPlana\\nRefolo\\nRiflesso \\nRio\\nTable à Plateau \\nIntérchangeable\\nTable en Forme Libre\\nTabouret Méribel/Berger\\nTokyo Chaise Longue\\nTokyo Dormeuse\\nVentaglio\\nVérité\\nDoron Hotel Outdoor\\nMexique Outdoor\\nMexique Stool Outdoor\\nTable à Plateau \\nIntérchangeable Outdoor\\nLC14 Tabouret Cabanon, \\nRoquebrune-Cap-Martin \\n1952 / LC14 Tabouret Maison \\ndu Brésil, Paris 1959\\nLC14 Tabouret, \\nNantes-Rezé, 1952-1957\\nLC15 Table de conférence, \\nAtelier Le Corbusier, Paris \\n1958 \\nLC16 Table de travail \\navec rayonnages, Unité \\nd’Habitation, Nantes-Rezé, 1957 \\nLC17 Portemanteau, \\nUnités de Camping, \\nRoquebrune-Cap-Martin, 1957\\nService Prunier\\nCollection Chandigarh\\n1 Fauteuil dossier \\nbasculant\\n1 Fauteuil dossier \\nbasculant, Villa Church\\n1 Fauteuil dossier \\nbasculant, UAM\\n2 Fauteuil Grand Confort, \\npetit modèle\\n2 Fauteuil Grand Confort, \\npetit modèle, deux places\\n2 Fauteuil Grand Confort, \\npetit modèle, trois places\\n2 Ottomane\\n2 Fauteuil Grand Confort, \\npetit modèle, durable\\n2 Fauteuil Grand Confort, \\npetit modèle, deux places, \\ndurable\\n2 Fauteuil Grand Confort, \\npetit modèle, trois places, \\ndurable\\n2 Ottomane, durable\\n3 Fauteuil Grand Confort, \\ngrand modèle\\n3 Fauteuil Grand Confort, \\ngrand modèle, deux places\\n3 Fauteuil Grand Confort, \\ngrand modèle, trois places\\n3 Fauteuil Grand Confort, \\nméridienne\\n3 Fauteuil Grand Confort, \\ngrand modèle, durable\\n3 Fauteuil Grand Confort, \\ngrand modèle, deux \\nplaces, durable\\n3 Fauteuil Grand Confort, \\ngrand modèle, trois places, \\ndurable\\n3 Fauteuil Grand Confort, \\nméridienne, durable\\n4 Chaise longue à réglage \\ncontinu\\n4 Chaise longue à réglage \\ncontinu, noire\\n5 Canapé, Appartement \\nLe Corbusier\\n6 Table tube d’avion\\n7 Fauteuil tournant\\n8 Tabouret tournant\\n9 Tabouret\\n9 Tabouret de salle \\nde bains\\n10 Table en tube\\n10 Table en tube, \\ngrand modèle\\n10 Table en tube basse\\n10 Table en tube basse, \\ngrand modèle\\n11 Table pieds corolle, \\nAppartement Le Corbusier\\n11 Table pieds corolle, \\nplateau bois\\n20 Casiers standard P.E.N.\\n20 Casiers standard, \\npieds corolle\\nLe Miniature\\n1 Fauteuil dossier \\nbasculant, Outdoor\\n3 Fauteuil Grand Confort, \\ngrand modèle, Outdoor\\n3 Fauteuil Grand Confort, \\ngrand modèle, deux places, \\nOutdoor\\n3 Fauteuil Grand Confort, \\ngrand modèle, trois places, \\nOutdoor\\n6 Table tube d’avion, \\nOutdoor\\n7 Fauteuil tournant, \\nOutdoor\\n8 Tabouret tournant, \\nOutdoor\\n10 Table en tube basse, \\nOutdoor\\n10 Table en tube basse, \\ngrand modèle, Outdoor\\nCharles Rennie \\nMackintosh\\nBerlino Table\\t\\nHill House 1 \\nWillow 1 \\nGöteborg 1\\nCavalletto\\nCicognino \\nInfinito \\nInfinito Wall\\nLuisa\\nRadio in Cristallo\\nStadera\\nTL3\\nTre Pezzi\\nVeliero \\nAntropus \\nLady \\nWoodline\\n875 \\nOlimpino \\nPA' 1947\\nParavento Balla \\nMarco Zanuso\\nIco Parisi\\nGiacomo Balla\\nErik Gunnar Asplund\\nCharlotte Perriand\\nFranco Albini\\nLe Corbusier,\\nCharlotte Perriand  \\nLe Corbusier,\\nPierre Jeanneret\\nCollection\\nLe Corbusier\\nGerrit \\nThomas Rietveld\\nElling Buffet\\nRed and Blue  \\nBlack Red and Blue \\nZeilmaker Version\\nUtrecht\\nZig-Zag\\n184\\n218\\n248\\n258\\n186\\n222\\n240\\n242\\n246\\n226\\n230\\n232\\n250\\n216\\n188\\n190\\n192\\n194\\n196\\n198\\n200\\n202\\n204\\n208\\n212\\n214\\n228\\n234\\n236\\n254\\n166\\n170\\n180\\n172\\n174\\n176\\n178\\n144\\n154\\n146\\n156\\n148\\n160\\n150\\n162\\n152\\n136\\n120\\n96\\n97\\n100\\n102\\n104\\n106\\n108\\n110\\n138\\n134\\n122\\n 140\\n142\\n126\\n128\\n10\\n44\\n21\\n31\\n71\\n81\\n12\\n48\\n22\\n62\\n32\\n73\\n35\\n82\\n14\\n52\\n23\\n63\\n24\\n64\\n33\\n76\\n36\\n83\\n41\\n86\\n42\\n88\\n90\\n93\\n94\\n17\\n54\\n29\\n66\\n18\\n56\\n19\\n58\\n20\\n61\\n30\\n68\\n34\\n78\\nLC12 Table La Roche \\n35 Maison du Brésil\\nCollection Le Corbusier®, \\nPierre Jeanneret®, \\nCharlotte Perriand®\\n112\\n \\nNew\\nNew\\nNew\\nNew\",\n",
       "  'image_path': 'mid_data/extracted_images/IMaestri_Products_2022_page_3.png'},\n",
       " 'mid_data/extracted_images/IMaestri_Products_2022_page_4.png': {'text': 'DEU\\nENG\\nFRA\\nMit der Kollektion “iMaestri” hat Cassina 1965 \\neine philologische Tätigkeit zur Auswahl und \\nReproduktion der bedeutendsten, von den \\nHauptakteuren der Moderne kreierten Möbel \\neingeleitet, die als einzigartiger Bezug für das \\nzeitgenössische Design gelten.\\nAngefangen vom Design von \\nLe Corbusier, Pierre Jeanneret, Charlotte \\nPerriand, wurde diese Arbeit mit den Projekten \\nvon Gerrit Thomas Rietveld, Charles Rennie \\nMackintosh, Erik Gunnar Asplund, Charlotte \\nPerriand, Franco Albini, Marco Zanuso, Ico Parisi \\nand Giacomo Balla. fortgesetzt.\\nProjekttreue ist für Cassina mit einer strengen \\nAnalyse der Aussagen der Originale anhand von \\nZeichnungen, Skizzen, Prototypen und jeglichen \\nanderen, verfügbaren Dokumenten – zu denen \\nausschließlich die Firma Zugang hat – sowie mit \\ndem Austausch mit den Erben und Mitarbeitern \\nverbunden, die die Tätigkeit der Urheber am \\nbesten kannten und kennen.\\nDank dieser Prozedur fertigt Cassina \\nGegenstände, die unanfechtbar die Ziele ihrer \\nSchöpfer und die tiefgehende Gestaltungsarbeit \\nwiderspiegeln, aus der sie hervorgegangen sind, \\nobwohl das Unternehmen dafür auf innovative \\nTechnologien und Materialien zurückgreift.\\nZum Schutz des Wertes der hergestellten \\nErzeugnisse und der Werte ihrer Schöpfer \\nwird auf jedem Möbel der Kollektion \\n“CassinaiMaestri” folgendes unauslöschlich \\naufgeprägt:\\n— das Autogramm des Urhebers, das Eigentum \\nder rechtmäßigen Erben ist und dessen Nutzung \\nexklusiv der Firma Cassina gewährt wurde und \\naufgrund der Umsetzung in eine Marke die \\nAuthentizität des Möbelstücks zertifiziert;\\n— das Logo “Cassina iMaestri”, in das die \\nUrheber-Marke eingegliedert ist, mit der der \\nUrheber seine Projekte identifiziert hat;\\n— die fortlaufende Nummer, die die \\nFertigungschronologie definiert, die erfolgte \\nQualitätsendkontrolle nachweist und schließlich \\nauch den Erben die Kontrolle der genauen \\nVergütung der Urheberrechte ermöglicht.\\nSchließlich wird jedem Möbelstück \\nauch ein “Personalausweis” beigefügt. \\nDieses Zertifikat weist außer der \\nfortlaufenden Fertigungsnummer des \\neinzelnen Möbelstücks auch detaillierte \\nInformationen über seine Merkmale, das \\nheißt, die verwendeten Materialien, die \\nangewandten Interpretationskriterien, das \\nKonstruktionsschema, das Ursprungs – und \\nFertigungsjahr, biografische Informationen zum \\nDesigner, bibliografische Angaben sowie eine \\nListe der Museen und Kulturinstitute aus, in \\ndenen das Produkt ausgestellt wurde oder zu \\nderen ständigen Kollektionen es gehört.\\nCassina initiated a philological project to select \\nand restyle the most significant furniture by \\nleaders of the Modernist Movement in 1965; this \\nwas the idea behind the “iMaestri” collection, a \\nset of landmark pieces in contemporary design.\\nIt began with the designs of Le Corbusier, Pierre \\nJeanneret, Charlotte Perriand and continued \\nwith iconic pieces by Gerrit Thomas Rietveld, \\nCharles Rennie Mackintosh, Erik Gunnar \\nAsplund, Charlotte Perriand, Franco Albini, \\nMarco Zanuso, Ico Parisi and Giacomo Balla.\\nIn order to render the pieces as faithfully as \\npossible, Cassina rigorously analysed the \\nmeaning behind the original pieces using \\ndesigns, sketches, prototypes and any other \\navailable documents – to which it had exclusive \\naccess – and also consulted with heirs and \\ncollaborators who were most familiar with the \\nwork of the authors.\\nThis allowed Cassina to fashion pieces that \\nindubitably reflected the intentions of the \\noriginal designers along with the subtleties of \\nthe design planning that went into the original \\nprojects, whilst availing of the most up-to-date \\ntechnology and materials.\\nIn order to safeguard the value of the products \\nand values of the original designers, each \\n“Cassina iMaestri” item is indelibly marked with \\nthe following:\\n— the signature of the author, owned by his \\nor her lawful heirs, with exclusive rights to \\nuse by Cassina, and the trademark certifying \\nauthenticity of the furniture piece;\\n— the “Cassina iMaestri” logo, containing the \\ntrademark of the author corresponding to the \\ndesign used by the author to identify his or her \\nprojects;\\n— the progressive ID production number \\nattesting to the final quality control measures \\ntaken and ensuring that the heirs are fairly \\ncompensated for their copyright.\\nFinally, an “Identity Card” comes with each \\npiece of furniture. This certificate contains \\nthe progressive ID production number and \\ndetailed information on the features of the item: \\nthe materials used, the Interpretation criteria \\nadopted, the construction design, the year  \\nof origin and production, biographical notes  \\non the designer, bibliographic notes and a list  \\nof the museums and cultural institutions  \\nwhere it was exhibited or became part  \\nof permanent collections.\\nEn 1965, avec la collection “iMaestri”, Cassina a \\nlancé un travail philologique de sélection et de \\nreconstruction des meubles les plus significatifs \\ndes principaux acteurs du Mouvement Moderne, \\ndes références absolues en termes de design \\ncontemporain.\\nCe travail, qui commence avec le design de  \\nLe Corbusier, Pierre Jeanneret, Charlotte \\nPerriand, se poursuit avec Gerrit Thomas \\nRietveld, Charles Rennie Mackintosh,  \\nErik Gunnar Asplund et Charlotte Perriand ainsi \\nque Franco Albini, Marco Zanuso, Ico Parisi et \\nGiacomo Balla.\\nÊtre fidèle au projet signifie pour Cassina, \\nanalyser rigoureusement le vrai \\nsens des originaux, à travers des dessins, \\ndes ébauches, des prototypes et tout \\nautre document disponible – auxquels elle \\na l’accès exclusif – mais c’est également \\ntravailler en interaction avec les héritiers \\net les collaborateurs qui ont bien connu ou \\nconnaissent l’activité des auteurs.\\nEn procédant de la sorte, Cassina édite des \\npièces qui reflètent incontestablement les \\nintentions de celui ou celle qui les a créées ainsi \\nque la finesse du travail de conception dont \\nelles sont issues, tout en ayant recours à des \\ntechnologies et à des matériaux innovants.\\nDans le but de sauvegarder la valeur des objets \\nproduits et respecter les valeurs de leurs \\ncréateurs, chaque meuble “Cassina iMaestri” \\nporte une gravure indélébile où figurent:\\n— la signature de l’auteur dont les héritiers \\nlégitimes ont la propriété et dont Cassina \\na l’usage exclusif; cette signature a donné \\nnaissance à une marque, qui certifie \\nl’authenticité du meuble;\\n— le logo “Cassina iMaestri” dans lequel  \\nest insérée la marque de reconnaissance de \\nl’auteur, correspondant au dessin avec lequel, \\nla plupart du temps, l’auteur identifiait  \\nses projets.\\n— le numéro de série qui identifie la chronologie \\nde production, témoigne du contrôle final de \\nqualité et, pour finir, il permet aux héritiers de \\ncontrôler le versement exact des droits d’auteur.\\nEnfin, chaque meuble est accompagné d’une \\n“Carte d’identité”. Ce certificat indique non \\nseulement le numéro de série de production \\nde la pièce en question, mais il contient \\négalement des informations détaillées sur \\nses caractéristiques: matériaux employés, \\ncritères d’interprétation adoptés, schéma de \\nconstruction, année d’origine et de production, \\ntraits biographiques sur le designer, mentions \\nbibliographiques et liste des musées et des \\ninstitutions culturelles où elle a été exposée \\nou bien où elle a intégré les collections \\npermanentes.\\nITA\\n— la firma dell’Autore, di proprietà dei legittimi Eredi, il cui uso è stato \\nconcesso in esclusiva a Cassina, e che, costituita in marchio,  \\ncertifica l’autenticità del mobile; \\n— il logotipo “Cassina iMaestri” in cui è inserito il marchio di \\nriconoscimento dell’autore, corrispondente al disegno con il quale \\nl’Autore stesso identificava i propri progetti; \\n— il numero progressivo che individua la cronologia di produzione, \\ntestimonia l’avvenuto controllo finale di qualità e, infine, consente \\nCon la collezione “iMaestri”, nel 1965, Cassina ha dato avvio a un lavoro filologico di selezione \\ne ricostruzione dei mobili più significativi dei protagonisti del Movimento Moderno, riferimenti \\nassoluti per il design contemporaneo. Iniziato con il design di Le Corbusier, Pierre Jeanneret, \\nCharlotte Perriand, il lavoro è proseguito con Gerrit Thomas Rietveld, Charles Rennie Mackintosh, \\nErik Gunnar Asplund, Charlotte Perriand, Franco Albini, Marco Zanuso, Ico Parisi e Giacomo Balla. \\nFedeltà al progetto significa per Cassina rigorosa analisi dei significati degli originali, attraverso \\ndisegni, schizzi, prototipi e ogni altro documento disponibile – cui ha accesso esclusivo –, e \\nconfronto con gli eredi e i collaboratori che meglio conobbero e conoscono l’attività degli autori.\\nGrazie a questa procedura, Cassina edita pezzi che rispecchiano, incontestabilmente, le \\nintenzioni di chi li ha creati e la finezza del lavoro di progettazione da cui sono nati, pur facendo \\nricorso a tecnologie e a materiali innovativi. A salvaguardia del valore degli oggetti prodotti  \\ne dei valori dei loro creatori ogni mobile “Cassina iMaestri” porta impressi indelebilmente: \\nagli Eredi il controllo dell’esatta corresponsione dei diritti d’autore. \\nInfine, una “Carta d’Identità” accompagna ogni mobile. Questo \\ncertificato, oltre al numero progressivo di produzione del singolo \\npezzo, riporta dettagliate informazioni sulle sue caratteristiche: \\nmateriali impiegati, criteri interpretativi adottati, schema costruttivo, \\nanno di origine e di produzione, notizie biografiche sul designer, cenni \\nbibliografici ed elenco dei Musei e delle Istituzioni Culturali ove è stato \\nesposto o è entrato a far parte delle collezioni permanenti. \\niMaestri\\n4\\niMaestri',\n",
       "  'image_path': 'mid_data/extracted_images/IMaestri_Products_2022_page_4.png'},\n",
       " 'mid_data/extracted_images/Cassina_LB-LIGHTING_page_1.png': {'text': '2 0 2 3\\nL I G H T I N G  C O L L E C T I O N',\n",
       "  'image_path': 'mid_data/extracted_images/Cassina_LB-LIGHTING_page_1.png'},\n",
       " 'mid_data/extracted_images/Cassina_LB-LIGHTING_page_2.png': {'text': '2\\n3',\n",
       "  'image_path': 'mid_data/extracted_images/Cassina_LB-LIGHTING_page_2.png'},\n",
       " 'mid_data/extracted_images/Cassina_LB-LIGHTING_page_3.png': {'text': '4\\nL I G H T I N G  C O L L E C T I O N',\n",
       "  'image_path': 'mid_data/extracted_images/Cassina_LB-LIGHTING_page_3.png'},\n",
       " 'mid_data/extracted_images/Cassina_LB-LIGHTING_page_4.png': {'text': '2\\n3\\nTHE CASSINA \\nPERSPECTIVE \\nON LIGHT \\nLighting Collection\\nIntroduction\\nEN\\n THE CASSINA PERSPECTIVE ON LIGHT\\nCassina expands its vision of the home with a new lighting collection that in-\\ntegrates and completes its offer to create welcoming settings that respond to \\na wide array of styles, in perfect harmony with the company’s philosophy. Al-\\nready aware of the importance of light, Cesare Cassina was pioneering in this \\nfield when he joined forces with Dino Gavina in 1962 to establish Flos. Today the \\ncompany returns its attention to this sector and presents a first lighting cata-\\nlogue that unites both established and new names to bring light to ‘The Cassina \\nPerspective’. The collection, which will continue to expand in the future, com-\\nbines important novelties with the decorative lighting developed internally over \\nthe past years by Cassina.\\nIT\\n THE CASSINA PERSPECTIVE SOTTO I RIFLETTORI\\nCassina amplia la sua visione della casa con una nuova collezione di illuminazione \\nche completa la sua proposta per creare ambienti accoglienti che rispondono a \\nun ampio spettro di stili, in perfetta armonia con la filosofia dell’azienda. Già con-\\nsapevole della centralità della luce, Cesare Cassina è stato un pioniere in questo \\ncampo unendo le forze con Dino Gavina per fondare Flos nel 1962. Oggi l\\'azienda \\ntorna a dedicarsi a questo settore e presenta il primo catalogo d’illuminazione che \\nunisce autori affermati a nuovi nomi per dare luce a \"The Cassina Perspective\". \\nLa collezione, destinata ad espandersi nel tempo, combina novità importanti con \\nl\\'illuminazione decorativa sviluppata internamente da Cassina negli ultimi anni.',\n",
       "  'image_path': 'mid_data/extracted_images/Cassina_LB-LIGHTING_page_4.png'},\n",
       " 'mid_data/extracted_images/02 - LIVING COLLECTION 2024_page_1.png': {'text': '2 0 2 4\\nL I V I N G  C O L L E C T I O N',\n",
       "  'image_path': 'mid_data/extracted_images/02 - LIVING COLLECTION 2024_page_1.png'},\n",
       " 'mid_data/extracted_images/02 - LIVING COLLECTION 2024_page_3.png': {'text': 'L I V I N G  C O L L E C T I O N',\n",
       "  'image_path': 'mid_data/extracted_images/02 - LIVING COLLECTION 2024_page_3.png'},\n",
       " 'mid_data/extracted_images/02 - LIVING COLLECTION 2024_page_4.png': {'text': '3\\nTABLE OF\\nCONTENTS\\nA BOURGEOIS \\nPENTHOUSE \\nMoncloud, Maralunga, \\nBeam Sofa System, Met\\nP. 178\\nOPEN \\nARCHITECTURE\\nMex, Maralunga 50, 8, \\nChaise longue Indochine, Cornaro\\nP. 204\\nA LIBERTY CITY \\nAPARTMENT\\n8, 5 Canapé, Appartement \\nLe Corbusier\\nP. 228\\nAN ECO \\nTECHNOLOGICAL LODGE\\nSengu Sofa, Dress-Up!, \\nP. 154\\nA VILLA \\nAND ITS GARDEN\\nEsosoft sofa, Moncloud, 8\\nP. 84\\nA STATELY HOME\\nCornaro, Notturno a New York, \\nCapitol Complex Sofa, Sengu bold, \\nSoriana\\nP. 12\\nA REFINED HOME \\nIMMERSED IN NATURE\\nTramonto a New York, 8 Cube, \\nMex Cube, Privè\\nP. 66\\nMETROPOLITAN \\nINTERIORS\\nSoriana, Dress-Up\\nP. 128',\n",
       "  'image_path': 'mid_data/extracted_images/02 - LIVING COLLECTION 2024_page_4.png'},\n",
       " 'mid_data/extracted_images/Outdoor_Products_2022_page_1.png': {'text': '2 0 2 2\\nO U T D O O R  P R O D U C T S',\n",
       "  'image_path': 'mid_data/extracted_images/Outdoor_Products_2022_page_1.png'},\n",
       " 'mid_data/extracted_images/Outdoor_Products_2022_page_2.png': {'text': 'Outdoor Products\\n2022\\ncassina.com',\n",
       "  'image_path': 'mid_data/extracted_images/Outdoor_Products_2022_page_2.png'},\n",
       " 'mid_data/extracted_images/Outdoor_Products_2022_page_3.png': {'text': '7 Fauteuil tournant, \\nOutdoor\\nCharlotte Perriand – Intégré à la \\nCollection Le Corbusier®, Pierre \\nJeanneret®, Charlotte Perriand®\\n8 Tabouret tournant, \\nOutdoor\\nCharlotte Perriand – Intégré à la \\nCollection Le Corbusier®, Pierre \\nJeanneret®, Charlotte Perriand® \\nDine Out   \\nRodolfo Dordoni\\nLeggera Outdoor\\nGio Ponti\\nMexique Stool\\nCharlotte Perriand\\n3 Fauteuil Grand Confort, \\ngrand modèle, Outdoor \\nLe Corbusier, Pierre Jeanneret, \\nCharlotte Perriand\\n3 Fauteuil Grand Confort, \\ngrand modèle, deux places, \\nOutdoor\\nLe Corbusier, Pierre Jeanneret, \\nCharlotte Perriand\\n3 Fauteuil Grand Confort, \\ngrand modèle, trois places, \\nOutdoor\\nLe Corbusier, Pierre Jeanneret, \\nCharlotte Perriand \\nDine Out\\nRodolfo Dordoni\\nFenc-e Nature  \\nPhilippe Starck\\nSail Out\\nRodolfo Dordoni\\nTrampoline Love-bed\\nPatricia Urquiola\\nTrampoline\\nPatricia Urquiola\\nDivani/Sofas/\\nSofas/Canapés\\nTavoli/Tables/\\nTische/Tables\\nPoltrone/Armchairs/\\nSessel/Fauteuils\\nSedie/Chairs/\\nStühle/Chaises\\nAccessori/Accessories/\\nZubehörteile/Accessoires\\nCura e Manutenzione/ \\nCare and Maintenance/\\nPflege und Instandhaltung/\\nTraitement et Entretien\\nTavolini/Low tables/\\nNiedrige tische/Tables basses\\n1 Fauteuil dossier \\nbasculant, Outdoor\\nLe Corbusier, Pierre Jeanneret, \\nCharlotte Perriand\\nCarlotta\\nAfra & Tobia Scarpa\\nDine Out   \\nRodolfo Dordoni\\nDoron Hotel Outdoor\\nCharlotte Perriand\\nFenc-e Nature   \\nPhilippe Starck\\nTrampoline\\nPatricia Urquiola\\nTrampoline Sunbed\\nPatricia Urquiola\\n6 Table tube d’avion, \\nOutdoor\\nLe Corbusier, Pierre Jeanneret, \\nCharlotte Perriand \\nDine Out   \\nRodolfo Dordoni\\nLebeau Outdoor\\nPatrick Jouin\\nMexique Outdoor\\nCharlotte Perriand\\n10 Table en tube basse, \\nOutdoor\\nLe Corbusier, Pierre Jeanneret, \\nCharlotte Perriand\\n10 Table en tube basse, \\ngrand modèle, Outdoor\\nLe Corbusier, Pierre Jeanneret, \\nCharlotte Perriand \\nBowy Outdoor\\nPatricia Urquiola\\nCarlotta\\nAfra & Tobia Scarpa\\nFenc-e Nature   \\nPhilippe Starck\\nMexique Coffee Tables \\n- Outdoor\\nCharlotte Perriand\\nSail Out\\nRodolfo Dordoni\\nTable À Plateau \\nIntérchangeable Outdoor\\nCharlotte Perriand\\nCarpets Outdoor\\nLamps Outdoor\\nObjects Outdoor\\nParasol\\n21\\n58\\n78\\n126\\n140\\n138\\n22\\n60\\n62\\n80\\n84\\n88\\n93\\n94\\n112\\n120\\n130\\n23\\n64\\n66\\n68\\n70\\n74\\n96\\n26\\n28\\n32\\n38\\n44\\n50\\n52\\n54\\n56\\n98\\n100\\n104\\n108\\n110\\nNew\\nNew\\nNew\\nNew\\nNew\\nNew',\n",
       "  'image_path': 'mid_data/extracted_images/Outdoor_Products_2022_page_3.png'},\n",
       " 'mid_data/extracted_images/Outdoor_Products_2022_page_4.png': {'text': 'The Cassina Perspective\\nITA\\nThe Cassina Perspective\\nENG\\nAvanguardia, autenticità, eccellenza e connubio di capacità tecnologica \\ne sapienza manuale locale. L’identità di Cassina si è costruita su \\nvalori solidi e condivisi, per esprimere il meglio del design italiano \\ne internazionale con un linguaggio coerente, riconoscibile, colto. \\nAttraverso un intreccio peculiare di gesti e parole, Cassina ha saputo \\nfar interagire cultura, artigianato e industria, conciliando memoria e \\nricerca, rigore ed emozione, unicità e sperimentazione, e interpretando \\nle tendenze della quotidianità grazie a un lavoro costante su estetica e \\ntipologie. Con spirito pionieristico e libero, da oltre 90 anni l’azienda di \\nMeda anticipa i tempi, tracciando un percorso inedito – per intuizione e \\nlungimiranza – nel mondo del design e dell’architettura di interni. \\nPer questo il design di Cassina è esposto nelle collezioni permanenti \\ndei più importanti musei del mondo. I suoi prodotti sono durevoli e \\nsenza tempo, sintesi di bellezza e significato, curati nei materiali di \\nqualità assoluta e nei dettagli sartoriali. La perfezione nelle lavorazioni \\ndi alta falegnameria, nella fattura delle pelli e nelle tappezzerie e \\nimbottiti è rappresentata ancora oggi da capolavori come la sedia 699 \\nSuperleggera di Gio Ponti, la famiglia CAB di Mario Bellini, il divano \\nMaralunga di Vico Magistretti. \\nIn un continuo dialogo tra passato, presente e futuro, Cassina realizza \\ni modelli iconici creati dagli architetti del XX secolo con la Collezione \\nCassina iMaestri, in cui gli arredi di Le Corbusier, Pierre Jeanneret, \\nCharlotte Perriand, Charles Rennie Mackintosh, Gerrit Thomas \\nRietveld, Franco Albini e Marco Zanuso vengono rieditati – rispettando \\naccuratamente disegni e concept funzionali originali – e riattualizzati \\nsecondo le evoluzioni tecnologiche. Ed è anche l’azienda che produce le \\nopere di riferimento del design contemporaneo dagli anni 50 all’attualità, \\nfirmate da alcuni tra i più importanti progettisti internazionali: da Ronan \\n& Erwan Bouroullec a Rodolfo Dordoni, Piero Lissoni, Gaetano Pesce, \\nPhilippe Starck, e Patricia Urquiola, art director dell’azienda. \\nOggi Cassina continua a guardare al futuro del progetto con audacia, \\npassione, curiosità e un approccio aperto e olistico. Confermando \\nl’esclusiva capacità di arredare gli ambienti living e dining in modo \\ncompleto, l’azienda estende gli orizzonti della sua filosofia anche agli \\nspazi esterni della casa attraverso The Cassina Perspective Goes \\nOutdoor: un concetto, un pensiero consapevole e avveniristico; un \\norizzonte ampio e dettagliato di configurazioni, in cui i prodotti dall’anima \\npiù innovativa e le icone del moderno creano insieme atmosfere \\nautentiche, accoglienti, personali. Così The Cassina Perspective Goes \\nOutdoor abbina la Collection Le Corbusier, Pierre Jeanneret, Charlotte \\nPerriand, rinnovata nei tessuti e nelle finiture, e due nuovi progetti di \\nCharlotte Perriand – il Table à Plateau Interchangeable, ora in veste \\noutdoor, e la sedia Doron Hotel, una riedizione sia in versione indoor \\nsia per esterni – a tre grandi interpreti contemporanei: Philippe Starck, \\nRodolfo Dordoni e Patricia Urquiola.\\nDialogando secondo un codice di sensibilità formale, solidità e \\nautorevolezza culturale, questi sistemi di presenze naturalmente \\nempatiche, capaci di adattarsi a interpretazioni e stili di vita differenti, \\nesprimono l’anima di quattro ambienti open air. Quattro paesaggi privati \\n– l’esterno contemporaneo, il rifugio tropicale, il piccolo paradiso privato, \\nla terrazza metropolitana – aperti alla luce e al contesto, da vivere in \\nsintonia con la natura grazie ad arredi in materiali di alta qualità, dalle \\nforme disegnate nei particolari e delle dimensioni calibrate, valorizzati \\nda nuove proposte di illuminazione, tappeti e accessori per l’esterno.\\nMostrando l’eclettismo e la versatilità del design Cassina anche negli \\nspazi esterni dell’abitare con un lessico non convenzionale, distintivo e \\npotente, capace di esprimere la qualità tangibile sia dell’oggetto singolo \\nsia dell’insieme, al di là delle mode effimere. E quell’istinto di anticipare \\nnel presente ciò che sarà classico domani.\\nAvant-gardism, authenticity, excellence and the combination of \\ntechnological skill and local craftsmanship expertise. Cassina’s \\nidentity is founded on solid and shared values that express the best \\nof Italian and international design with a cohesive, recognisable and \\ncultured approach. Through a unique weave of words and actions, \\nCassina has successfully amalgamated culture, craftsmanship and \\nindustry, reconciling tradition with research, rigour with emotions and \\nuniqueness with experimentation, interpreting everyday trends thanks \\nto its constant work on aesthetics and codification. The pioneering and \\nfree spirit that for over 90 years has placed this company based in Meda \\nahead of its time, has traced a unique path - in terms of intuition and \\nfarsightedness - through the world of interior design and architecture. \\nThis is why Cassina’s designs are part of the permanent collections \\nof the world’s most prominent museums. Its products are durable and \\ntimeless, a synthesis of beauty and meaning, impeccable in terms of \\nthe quality of the materials and sartorial details. The perfection it has \\nachieved in terms of carpentry expertise and leather and upholstery \\nworkmanship can still be seen today in masterpieces such as the 699 \\nSuperleggera chair by Gio Ponti, the CAB family by Mario Bellini and the \\nMaralunga sofa by Vico Magistretti. \\nIn a continuous dialogue between the past, present and future, Cassina \\nproduces the iconic models designed by the architects of the 20th \\ncentury for the Cassina iMaestri Collection: pieces by Le Corbusier, \\nPierre Jeanneret, Charlotte Perriand, Charles Rennie Mackintosh, \\nGerrit Thomas Rietveld, Franco Albini and Marco Zanuso are reissued, \\nalways with respect for the original design and functional concept, and \\nmodernised using the latest technologies. Since the 1950s Cassina has \\nalso produced seminal works of contemporary design by some of the \\nworld’s leading designers, from Ronan & Erwan Bouroullec to Rodolfo \\nDordoni, Piero Lissoni, Gaetano Pesce, Philippe Starck and Patricia \\nUrquiola, the company’s art director. \\nToday Cassina continues to look to the future of design with courage, \\npassion, curiosity and an open and holistic approach. Confirming its \\nexclusive ability to completely furnish living and dining rooms, the \\ncompany has now expanded the horizons of its philosophy to the \\nexternal spaces of the home with The Cassina Perspective Goes \\nOutdoor: a concept, an informed and futuristic notion, a broad and \\ndetailed horizon of configurations in which the most innovative \\nproducts are combined with the icons of Modern design to create \\nauthentic, welcoming and personal atmospheres. The Cassina \\nPerspective Goes Outdoor combines the Collection Le Corbusier, \\nPierre Jeanneret, Charlotte Perriand, revisited in terms of fabrics \\nand finishes, and two new projects by Charlotte Perriand – the Table \\nà Plateau Interchangeable, now in an outdoor version, and the Doron \\nHotel Outdoor chair, also available in an indoor version – with three \\ngreat contemporary designers: Philippe Starck, Rodolfo Dordoni and \\nPatricia Urquiola.\\nInteracting according to a code of formal sensibility, solidity and cultural \\nauthority, these naturally empathetic systems, capable of adapting to \\ndifferent requirements and lifestyles, are the embodiment of four open \\nair environments. Four private settings - the contemporary outdoors, \\nthe tropical refuge, the little private paradise, the metropolitan terrace \\n- to enjoy in complete harmony with nature thanks to the high quality \\nfurniture, designed down to the finest of details and dimensions, \\ncompleted by new outdoor lighting, rugs and accessories.\\nThe eclecticism and versatility of Cassina’s designs in external \\nliving spaces is demonstrated with an unconventional, distinctive \\nand powerful lexicon that expresses the tangible quality of both the \\nindividual piece and the ensemble that go beyond passing trends. With \\nthe instinct and the ability to envisage tomorrow’s classics today.\\n4\\n \\nCassina Outdoor',\n",
       "  'image_path': 'mid_data/extracted_images/Outdoor_Products_2022_page_4.png'},\n",
       " 'mid_data/extracted_images/04 - DINING COLLECTION 2024_page_1.png': {'text': '2 0 2 4\\nD I N I N G  C O L L E C T I O N',\n",
       "  'image_path': 'mid_data/extracted_images/04 - DINING COLLECTION 2024_page_1.png'},\n",
       " 'mid_data/extracted_images/04 - DINING COLLECTION 2024_page_3.png': {'text': 'D I N I N G  C O L L E C T I O N',\n",
       "  'image_path': 'mid_data/extracted_images/04 - DINING COLLECTION 2024_page_3.png'},\n",
       " 'mid_data/extracted_images/04 - DINING COLLECTION 2024_page_4.png': {'text': '3\\nTABLE OF\\nCONTENTS\\nA VILLA \\nAND ITS GARDEN\\nSangu Table, 6 Table tube d’avion, \\nCapitol Complex Table\\nP. 74\\nMETROPOLITAN \\nINTERIORS\\nSengu Table, Doge, \\nOlimpino, Mexique\\nP. 94\\nOPEN \\nARCHITECTURE\\nEl dom, Mexique\\nP. 138\\nA LIBERTY CITY \\nAPARTMENT\\nLebeau Wood, Naan\\nP. 158\\nAN ECO \\nTECHNOLOGICAL LODGE\\nEdison, Capitol Complex Table, \\nSarpi, Table en forme libre\\nP. 118\\nA STATELY HOME\\nPrincipi, Longplane; Ventaglio, 9 \\ndining table, Table Montparnasse\\nP. 12 \\nA REFINED HOME \\nIMMERSED IN NATURE\\nDelﬁ, Boboli\\nP. 150\\nA BOURGEOIS \\nPENTHOUSE \\nCab, Cab Tab, Ghost box, \\nLa Rotonda, Hola\\nP. 48',\n",
       "  'image_path': 'mid_data/extracted_images/04 - DINING COLLECTION 2024_page_4.png'},\n",
       " 'mid_data/extracted_images/Cassina-LB-DETAILS_page_1.png': {'text': '2 0 2 3\\nD E TA I L S  C O L L E C T I O N',\n",
       "  'image_path': 'mid_data/extracted_images/Cassina-LB-DETAILS_page_1.png'},\n",
       " 'mid_data/extracted_images/Cassina-LB-DETAILS_page_3.png': {'text': 'D E TA I L S  C O L L E C T I O N',\n",
       "  'image_path': 'mid_data/extracted_images/Cassina-LB-DETAILS_page_3.png'},\n",
       " 'mid_data/extracted_images/Cassina-LB-DETAILS_page_4.png': {'text': '7\\nTABLE OF\\nCONTENTS\\nTableware\\nP. 16\\nTextiles\\nP. 48\\nVases\\nP. 22\\nObjects\\nP. 36\\nRugs\\nP. 66\\nMirrors\\nP. 60\\nLarge Accessories\\nP. 80',\n",
       "  'image_path': 'mid_data/extracted_images/Cassina-LB-DETAILS_page_4.png'},\n",
       " 'mid_data/extracted_images/Cassina-LB-OUTDOOR 2022 STAMPATO_page_1.png': {'text': '2 0 2 2\\nO U T D O O R  C O L L E C T I O N',\n",
       "  'image_path': 'mid_data/extracted_images/Cassina-LB-OUTDOOR 2022 STAMPATO_page_1.png'},\n",
       " 'mid_data/extracted_images/Cassina-LB-OUTDOOR 2022 STAMPATO_page_2.png': {'text': 'O U T D O O R  C O L L E C T I O N',\n",
       "  'image_path': 'mid_data/extracted_images/Cassina-LB-OUTDOOR 2022 STAMPATO_page_2.png'},\n",
       " 'mid_data/extracted_images/Cassina-LB-OUTDOOR 2022 STAMPATO_page_3.png': {'text': '3\\n \\nTABLE OF \\nCONTENTS\\nCONTEMPORARY  \\nOUTDOORS\\nCarlotta, Sail Out, Dine Out,  \\nDoron Hotel\\nP. 12\\nMETROPOLITAN  \\nTERRACE\\nSail Out, Dine Out\\nP. 136\\nLITTLE PRIVATE  \\nPARADISE\\nCollection  iMaestri Le Corbusier®, Pierre Jeanneret®, \\nCharlotte Perriand®, Dine out, Trampoline\\nP. 48\\nTROPICAL  \\nREFUGE \\nFenc-e Nature\\nP. 124',\n",
       "  'image_path': 'mid_data/extracted_images/Cassina-LB-OUTDOOR 2022 STAMPATO_page_3.png'},\n",
       " 'mid_data/extracted_images/Cassina-LB-OUTDOOR 2022 STAMPATO_page_4.png': {'text': '4\\n5\\nOutdoor Collection\\nThe Cassina Perspective\\nTHE CASSINA \\nPERSPECTIVE GOES \\nOUTDOOR\\nAvant-gardism, authenticity, excellence and the combination of technological skill and local craftsmanship \\nexpertise. Cassina’s identity is founded on solid and shared values that express the best of Italian and \\ninternational design with a cohesive, recognisable and cultured approach. Through a unique weave of \\nwords and actions, Cassina has successfully amalgamated culture, craftsmanship and industry, reconciling \\ntradition with research, rigour with emotions and uniqueness with experimentation, interpreting everyday \\ntrends thanks to its constant work on aesthetics and codification. The pioneering and free spirit that for \\nover 90 years has placed this company based in Meda ahead of its time, has traced a unique path — in terms \\nof intuition and farsightedness — through the world of interior design and architecture. In fact, in the  \\n1950s Cassina marked the transition from artisanal manufacture to an industrial production; it was the  \\nfirst company to involve the most enlightened designers and architects in exploring the effects and influences \\nof contemporary design with new forms; it was the only company to innovate in all areas of design,  \\nperfecting new structural solutions and envisaging possible ways of living inspired by society, art and \\nfashion by focusing on the future, challenging conventions and defining new horizons. \\nIT\\t\\nAvanguardia, autenticità, eccellenza  \\ne connubio di capacità tecnologica e sapienza  \\nmanuale locale. L’identità di Cassina si è costruita \\nsu valori solidi e condivisi, per esprimere il  \\nmeglio del design italiano e internazionale con  \\nun linguaggio coerente, riconoscibile, colto. \\nAttraverso un intreccio peculiare di gesti e \\nparole, Cassina ha saputo far interagire cultura, \\nartigianato e industria, conciliando memoria \\ne ricerca, rigore ed emozione, unicità e speri-\\nmentazione, e interpretando le tendenze della \\nFR\\t\\nAvant-garde, authenticité, excellence  \\net alliance de capacité technologique et  \\nde savoir-faire local. L’identité de Cassina s’est  \\nbâtie sur des va\\xadleurs solides et communes, \\npour exprimer le meilleur du design italien et \\ninternational grâce à un langage cohérent, \\nreconnaissable, sophistiqué. Par un mélange \\ncaractéristique de gestes et de paroles, Cassina \\na su faire interagir culture, artisanat et industrie, \\nen combinant mémoire et recherche, rigueur \\net émotion, unité et expérimentation, tout en \\nDE\\t\\nAvantgarde, Authentizität, Exzellenz und  \\ndie Kombination aus technologischem Know-How  \\nund lokalem handwerklichem Geschick. Die \\ndentität der Marke Cassina basiert auf soliden, \\ngeteilten Werten, um das Beste des italienischen \\nund internationalen Designs mit einer kohärenten, \\nerkennbaren, gehobenen Sprache zum \\nAusdruck zu bringen. Durch eine ganz spezielle \\nVerflechtung von Gesten und Worten hat Cassina \\nes verstanden, eine Interaktion zwischen Kultur, \\nHandwerk und Industrie in die Wege zu leiten,',\n",
       "  'image_path': 'mid_data/extracted_images/Cassina-LB-OUTDOOR 2022 STAMPATO_page_4.png'},\n",
       " 'mid_data/extracted_images/Cassina-LB-LIVING_page_1.png': {'text': '2 0 2 3\\nL I V I N G  C O L L E C T I O N',\n",
       "  'image_path': 'mid_data/extracted_images/Cassina-LB-LIVING_page_1.png'},\n",
       " 'mid_data/extracted_images/Cassina-LB-LIVING_page_3.png': {'text': 'L I V I N G  C O L L E C T I O N',\n",
       "  'image_path': 'mid_data/extracted_images/Cassina-LB-LIVING_page_3.png'},\n",
       " 'mid_data/extracted_images/Cassina-LB-LIVING_page_4.png': {'text': '3\\nTABLE OF\\nCONTENTS\\nA BOURGEOIS \\nPENTHOUSE \\nMonocloud, Maralunga, \\nBeam Sofa System, Met\\nP. 182\\nOPEN \\nARCHITECTURE\\nMex, Maralunga 50\\nP. 208\\nA LIBERTY CITY \\nAPARTMENT\\n8, 5 Canapé, Appartement \\nLe Corbusier\\nP. 236\\nAN ECO \\nTECHNOLOGICAL LODGE\\nSengu Sofa, Dress-Up!, \\nP. 154\\nA VILLA \\nAND ITS GARDEN\\nEsososft armchair, \\nEsosoft sofa, Rio\\nP. 84\\nA STATELY HOME\\nCapitol Complex Sofa, \\nLebeau wood table, \\nWax,Stone,Light\\nP. 12\\nA REFINED HOME \\nIMMERSED IN NATURE\\nTramonto a New York, 8 Cube,\\nMex Cube, Privè\\nP. 66\\nMETROPOLITAN \\nINTERIORS\\nMoncloud, Rio, \\nUtrecht\\nP. 128',\n",
       "  'image_path': 'mid_data/extracted_images/Cassina-LB-LIVING_page_4.png'},\n",
       " 'mid_data/extracted_images/Dining_Products_2022_page_1.png': {'text': '2 0 2 2\\nD I N I N G  P R O D U C T S',\n",
       "  'image_path': 'mid_data/extracted_images/Dining_Products_2022_page_1.png'},\n",
       " 'mid_data/extracted_images/Dining_Products_2022_page_2.png': {'text': 'Dining Products\\n2022\\ncassina.com',\n",
       "  'image_path': 'mid_data/extracted_images/Dining_Products_2022_page_2.png'},\n",
       " 'mid_data/extracted_images/Dining_Products_2022_page_3.png': {'text': '3 Fauteuil Grand Confort, \\ngrand modèle, deux places\\nLe Corbusier, P. Jeanneret, \\nC. Perriand\\n3 Fauteuil Grand Confort, \\ngrand modèle, trois places\\nLe Corbusier, P. Jeanneret, \\nC. Perriand\\n3 Fauteuil Grand Confort, \\nméridienne\\nLe Corbusier, P. Jeanneret, \\nC. Perriand\\n3 Fauteuil Grand Confort, \\ngrand modèle, durable\\nLe Corbusier, P. Jeanneret, \\nC. Perriand\\n3 Fauteuil Grand Confort, \\ngrand modèle, deux places, \\ndurable\\nLe Corbusier, P. Jeanneret, \\nC. Perriand\\n3 Fauteuil Grand Confort, \\ngrand modèle, trois places, \\ndurable\\nLe Corbusier, P. Jeanneret, \\nC. Perriand\\n3 Fauteuil Grand Confort, \\nméridienne, durable\\nLe Corbusier, P. Jeanneret, \\nC. Perriand\\nLady\\nMarco Zanuso\\nTre pezzi\\nFranco Albini\\nUtrecht\\nGerrit Thomas Rietveld\\n875\\nIco Parisi\\nBack-Wing Armchair\\nPatricia Urquiola\\nCapitol Complex Armchair \\nHommage à Pierre Jeanneret\\n1 Fauteuil dossier basculant\\nLe Corbusier, P. Jeanneret, \\nC. Perriand\\n1 Fauteuil dossier \\nbasculant, Villa Church\\nLe Corbusier, P. Jeanneret, \\nC. Perriand\\n1 Fauteuil dossier \\nbasculant, UAM\\nLe Corbusier, P. Jeanneret, \\nC. Perriand\\n2 Fauteuil Grand Confort, \\npetit modèle\\nLe Corbusier, P. Jeanneret, \\nC. Perriand\\n2 Fauteuil Grand Confort, \\npetit modèle, deux places\\nLe Corbusier, P. Jeanneret, \\nC. Perriand\\n2 Fauteuil Grand Confort, \\npetit modèle, trois places\\nLe Corbusier, P. Jeanneret, \\nC. Perriand\\n2 Ottomane\\nLe Corbusier, P. Jeanneret, \\nC. Perriand\\n2 Fauteuil Grand Confort, \\npetit modèle, durable\\nLe Corbusier, P. Jeanneret, \\nC. Perriand\\n2 Fauteuil Grand Confort, \\npetit modèle, deux places, \\ndurable\\nLe Corbusier, P. Jeanneret, \\nC. Perriand\\n2 Fauteuil Grand Confort, \\npetit modèle, trois places, \\ndurable\\nLe Corbusier, P. Jeanneret, \\nC. Perriand\\n2 Ottomane, durable\\nLe Corbusier, P. Jeanneret, \\nC. Perriand\\n3 Fauteuil Grand Confort, \\ngrand modèle\\nLe Corbusier, P. Jeanneret, \\nC. Perriand\\n7 Fauteuil tournant\\nCharlotte Perriand – Intégré à la \\nCollection Le Corbusier®, Pierre \\nJeanneret®, Charlotte Perriand®\\n8 Tabouret tournant\\nCharlotte Perriand – Intégré à la \\nCollection Le Corbusier®, Pierre \\nJeanneret®, Charlotte Perriand®\\nLeggera\\nGio Ponti\\nLjin\\nKazuhide Takahama\\nLuisa\\nFranco Albini\\nMexique stool\\nCharlotte Perriand\\nOmbra Tokyo\\nCharlotte Perriand\\nRed and Blue\\nGerrit Thomas Rietveld\\nBlack Red and Blue \\nGerrit Thomas Rietveld\\nSuperleggera\\nGio Ponti\\nTulu\\nKazuhide Takahama\\nWillow 1\\nCharles Rennie Mackintosh\\nUnicredit Pavilion Project\\nMichele De Lucchi\\nZig Zag\\nGerrit Thomas Rietveld\\n8\\nPiero Lissoni\\n5 Canapé, Appartement \\nLe Corbusier\\nLe Corbusier, P. Jeanneret, \\nC. Perriand\\nMet\\nPiero Lissoni\\nMoov\\nPiero Lissoni\\nRefolo\\nCharlotte Perriand\\nVolage EX–S\\nPhilippe Starck\\n684\\nMario Bellini\\n905\\nVico Magistretti\\nBack-Wing\\nPatricia Urquiola\\nCab 412\\nMario Bellini\\nCab 413\\nMario Bellini\\nCab 410\\nMario Bellini\\nCapitol Complex Chair/\\nCapitol Complex Office Chair \\nHommage à Pierre Jeanneret\\nCaprice/Passion\\nPhilippe Starck\\nCaprice Stool/Passion Stool\\nPhilippe Starck\\nCivil Bench\\nHommage à Pierre Jeanneret\\nCommittee Chair\\nHommage à Pierre Jeanneret\\nCotone/Cotone Slim\\nRonan & Erwan Bouroullec\\nDudet\\nPatricia Urquiola\\nEve\\nPiero Lissoni\\nFlutz\\nMichael Anastassiades\\nGaja/Gaja bar\\nKazuhide Takahama\\nGöteborg 1\\nErik Gunnar Asplund\\nHill House 1\\nCharles Rennie Mackintosh\\nHola\\nHannes Wettstein\\nIco\\nOra Ïto\\nIndochine\\nCharlotte Perriand\\nJano/Jano BR\\nKazuhide Takahama\\n714\\nTheodore Waddell\\n9 Dining\\nPiero Lissoni\\nAntella\\nKazuhide Takahama\\nBerlino Table\\nCharles Rennie Mackintosh\\nBoboli\\nRodolfo Dordoni\\nCapitol Complex Table\\nHommage à Pierre Jeanneret\\nCavalletto \\nFranco Albini\\nCotone Table\\nRonan & Erwan Bouroullec\\nDelfi\\nMarcel Breuer \\nDoge\\nCarlo Scarpa\\nEdison\\nVico Magistretti\\nEl Dom \\nHannes Wettstein\\nLa Basilica \\nMario Bellini\\nLa Rotonda \\nMario Bellini\\n6 Table tube d’avion\\nLe Corbusier, P. Jeanneret, \\nC. Perriand\\n10 Table en tube\\nLe Corbusier, P. Jeanneret, \\nC. Perriand\\n10 Table en tube, \\ngrand modèle\\nLe Corbusier, P. Jeanneret, \\nC. Perriand\\n10 Table en tube basse\\nLe Corbusier, P. Jeanneret, \\nC. Perriand\\n10 Table en tube basse, \\ngrand modèle\\nLe Corbusier, P. Jeanneret, \\nC. Perriand\\n11 Table pieds corolle, \\nAppartement Le Corbusier\\nLe Corbusier, P. Jeanneret, \\nC. Perriand\\n11 Table pieds corolle, \\nplateau bois\\nLe Corbusier, P. Jeanneret, \\nC. Perriand\\nLC12 Table La Roche\\nLe Corbusier, Pierre Jeanneret\\nLC15 Table de conférence, \\nAtelier Le Corbusier, Paris 1958 \\nLe Corbusier\\nLebeau Wood\\nPatrick Jouin\\nLonplane\\nRodolfo Dordoni\\nNaan\\nPiero Lissoni\\nOlimpino\\nIco Parisi\\nOrdinal\\nMichael Anastassiades\\nOrseolo\\nCarlo Scarpa\\nSarpi\\nCarlo Scarpa\\nSengu Table\\nPatricia Urquiola\\nTable en Forme Libre\\nCharlotte Perriand\\nTL3\\nFranco Albini\\nVentaglio \\nCharlotte Perriand\\nBramante\\nKazuhide Takahama\\nBramante (2.1/3.1/4.1)\\nKazuhide Takahama\\nDeco\\nHiroyuki Tsugawa\\nElling Buffet\\nGerrit Thomas Rietveld\\nFlat\\nPiero Lissoni\\nHayama\\nPatricia Urquiola\\n20 Casiers standard P.E.N.\\nLe Corbusier, P. Jeanneret\\n20 Casiers standard, \\npieds corolle\\nLe Corbusier, P. Jeanneret, \\nC. Perriand\\nNuage\\nCharlotte Perriand\\nNuage à Plots\\nCharlotte Perriand\\nNuvola Rossa \\nVico Magistretti\\nRialto\\nCarlo Scarpa\\nRiflesso\\nCharlotte Perriand\\nVeliero\\nFranco Albini\\nTavoli/Tables/\\nTische/Tables\\nSedie/Chairs/\\nLC16 Table de travail \\navec rayonnages, Unité \\nd’Habitation, Nantes-Rezé, 1957 \\nLe Corbusier\\nLoop\\nKazuhide Takahama\\nPA’ 1947\\nIco Parisi\\nPetit Bureau en Forme Libre\\nCharlotte Perriand\\nSled\\nRodolfo Dordoni\\n38\\n192\\n164\\n166\\n264\\n212\\n260\\n88\\n98\\n48\\n200\\n172\\n60\\n134\\n180\\n36\\n190\\n128\\n256\\n421\\n94\\n44\\n54\\n56\\n132\\n66\\n146\\n142\\n186\\n118\\n70\\n148\\n75\\n76\\n77\\n78\\n80\\n150\\n82\\n156\\n152\\n84\\n86\\n158\\n160\\n40\\n196\\n170\\n168\\n268\\n214\\n421\\n270\\n218\\n221\\n230\\n234\\n92\\n102\\n50\\n202\\n106\\n108\\n110\\n112\\n114\\n116\\n174\\n62\\n138\\n182\\n162\\n124\\n204\\n208\\n420\\n420\\n42\\n198\\n266\\n216\\n272\\n274\\n277\\n279\\n280\\n281\\n282\\n283\\n284\\n289\\n278\\n290\\n291\\n292\\n293\\n290\\n295\\n296\\n298\\n302\\n304\\n223\\n52\\n130\\n178\\n64\\n140\\n184\\n122\\n120\\n236\\n238\\n240\\n226\\n244\\n246\\n248\\n252\\n254\\nNew\\nNew\\nNew\\nScrivanie/Desks/\\nStüle/Chaises\\nContenitori–Librerie/\\nContainer Units–Bookshelves/\\nKastenelemente–Bücherregale/\\nCasiers–Bibliothèques\\nSchreibtische/Bureaux\\nDivani/Sofas\\u2009/\\u2009\\nSofas\\u2009/Canapés\\nPoltrone/Armchairs\\u2009/\\u2009\\nArmlemnstüle\\u2009/\\u2009Fauteuils',\n",
       "  'image_path': 'mid_data/extracted_images/Dining_Products_2022_page_3.png'},\n",
       " 'mid_data/extracted_images/Dining_Products_2022_page_4.png': {'text': 'Collection Chandigarh\\nLe Due Facce della Luna\\nLe Due Facce della Luna\\nLe Monde \\nde Charlotte Perriand\\nService Prunier\\nLe Corbusier\\nTogether\\n9 Occasional Tables\\nPiero Lissoni\\nCicognino \\nFranco Albini\\nConstantin\\nStudio Simon \\n9 Tabouret\\nCharlotte Perriand – Intégré à la \\nCollection Le Corbusier®, Pierre \\nJeanneret®, Charlotte Perriand®\\n9 Tabouret de salle de bains\\nCharlotte Perriand – Intégré à la \\nCollection Le Corbusier®, Pierre \\nJeanneret®, Charlotte Perriand®\\nLC14 Tabouret Cabanon, \\nRoquebrune-Cap-Martin \\n1952 / LC14 Tabouret Maison \\ndu Brésil, Paris 1959\\nLe Corbusier\\nLC14 Tabouret, \\nNantes-Rezé, 1952-1957\\nLe Corbusier\\nMexique \\nCharlotte Perriand\\nNest of Tables\\nBodil Kjær\\nTabouret Berger/Méribel\\nCharlotte Perriand\\nTraccia\\nMeret Oppenheim\\nColourdisc\\nLe Miniature\\nObjects\\nPost Scriptum\\nFormafantasma\\nSestiere\\nPatricia Urquiola\\nSkyscraper\\nBodil Kjaer\\nParavent Ambassade\\nCharlotte Perriand\\nParavento Balla\\nGiacomo Balla\\nRéaction Poétique\\nJaime Hayon\\nServing Cart\\nBodil Kjær\\nTramonto a New York\\nGaestano Pesce\\nDeadline\\nRon Gilad\\nLes Grands Trans-Parents\\nMan Ray\\n374\\n368\\n372\\n376\\n378\\n384\\n388\\n392\\n394\\n396\\n398\\n400\\n402\\n404\\n406\\n408\\n410\\n412\\n414\\nNew\\nNew\\nNew\\nNew\\nNew\\nComplementi/Complements/\\nAccessori/Accessories/\\nServizio per la tavola/\\npour le table\\nSpecchi/Mirrors/Spiegel/\\nErgänzungen/Complèments\\nZubehörteile/Accessoires\\nTableware/Geschirr/Service\\nMioroirs\\nCarpets\\nGraffiti \\nCharlotte Perriand\\nVérité\\nCharlotte Perriand\\nCapsule Collection\\nby Nemo\\nLamps\\n312\\n310\\n316\\n314\\n318\\n320\\n321\\n324\\n328\\n330\\n332\\nNew\\nNew\\nNew\\n334\\n342\\n358\\n364\\n366\\nNew\\nTavolini/Low Tables\\u2009/\\u2009\\nNiedrige Tische\\u2009/\\u2009Tables Basses\\nLampade/Lamps/Lampen/\\nTappeti/Carpets/\\nTeppiche/Tapis\\nLampes',\n",
       "  'image_path': 'mid_data/extracted_images/Dining_Products_2022_page_4.png'},\n",
       " 'mid_data/extracted_images/09 - DETAILS COLLECTION 2024_page_1.png': {'text': '2 0 2 4\\nD E TA I L S  C O L L E C T I O N',\n",
       "  'image_path': 'mid_data/extracted_images/09 - DETAILS COLLECTION 2024_page_1.png'},\n",
       " 'mid_data/extracted_images/09 - DETAILS COLLECTION 2024_page_3.png': {'text': 'D E TA I L S  C O L L E C T I O N',\n",
       "  'image_path': 'mid_data/extracted_images/09 - DETAILS COLLECTION 2024_page_3.png'},\n",
       " 'mid_data/extracted_images/09 - DETAILS COLLECTION 2024_page_4.png': {'text': '3\\nTABLE OF\\nCONTENTS\\nTableware\\nP. 12\\nTextiles\\nP. 48\\nVases\\nP. 20\\nObjects\\nP. 36\\nRugs\\nP. 66\\nMirrors\\nP. 58\\nLarge Accessories\\nP. 82',\n",
       "  'image_path': 'mid_data/extracted_images/09 - DETAILS COLLECTION 2024_page_4.png'},\n",
       " 'mid_data/extracted_images/cassina_yachting_lookbook_page_2.png': {'text': '2\\nYachting Tales\\nYA C H T I N G  S E L E C T I O N\\n2 0 2 3',\n",
       "  'image_path': 'mid_data/extracted_images/cassina_yachting_lookbook_page_2.png'},\n",
       " 'mid_data/extracted_images/cassina_yachting_lookbook_page_3.png': {'text': '3\\nTABLE OF\\nCONTENTS\\nSLEEPING \\nP. 48\\nOUTDOOR \\nP. 58\\nLIVING \\nP. 12\\nDINING \\nP. 34',\n",
       "  'image_path': 'mid_data/extracted_images/cassina_yachting_lookbook_page_3.png'},\n",
       " 'mid_data/extracted_images/cassina_yachting_lookbook_page_4.png': {'text': '4\\n5\\nYachting Selection\\nEsosoft\\nTHE CASSINA \\nPERSPECTIVE \\nABOARD\\nit\\t\\nAvanguardia, autenticità, eccellenza, connubio di capacità tecnologica e \\nsapienza manuale locale. L’identità di Cassina si è costruita su valori solidi e con-\\ndivisi, per esprimere il meglio del design italiano e internazionale, con un linguag-\\ngio coerente, riconoscibile, colto. Cassina ha saputo far interagire cultura, arti-\\ngianato e industria, conciliando memoria e ricerca, rigore ed emozione, unicità e \\nsperimentazione, e interpretando le tendenze della quotidianità grazie a un lavo-\\nro costante di ricerca estetica. Con spirito pionieristico e libero, da quasi 100 anni \\nl’azienda di Meda anticipa i tempi, tracciando un percorso inedito – per intuizione \\ne lungimiranza – nel mondo del design e dell’architettura di interni. \\nOggi Cassina, dopo aver arredato gli spazi delle più prestigiose abitazioni di tutto \\nil mondo, inaugura un nuovo capitolo dedicato al mondo nautico e riprende una \\ntradizione consolidata nel settore dell’arredamento navale a partire dagli anni \\nCinquanta, con le collaborazioni con i più celebri architetti del periodo quali Gu-\\nstavo Pulitzer, Nino Zoncada e Gio Ponti, per l’arredo di prestigiose navi, tra cui \\nl’Andrea Doria, la Raffaello e la Michelangelo e tutte le navi della Costa Armatori.  \\nCon Yachting Selection Cassina offre il suo racconto e la sua prospettiva sullo \\nyachting e il mondo delle imbarcazioni di lusso. Immaginando di arredare navi di \\npregio in tutti i loro ambienti, Cassina sviluppa un lookbook yachting che si estrin-\\nseca nelle diverse zone dell’imbarcazione: dal living alla zona pranzo, dal fly al so-\\nlarium fino alle cabine degli armatori. \\nen\\t\\nAvant-garde, authenticity, excellence, a fusion of technological skills and \\nlocal artisan craftsmanship. The Cassina identity is built on solid, shared values \\nthat express the best in Italian and international design with a consistent, recog-\\nnizable and erudite stylistic language. Cassina successfully brings together cul-\\nture, artisan craftsmanship and industry, reconciling memory and exploration, \\nausterity and emotion, uniqueness and experimentation, while interpreting the \\ntrends of everyday life, thanks to ongoing aesthetic investigation. With an inde-\\npendent, pioneering spirit, for nearly 100 years the Meda-based company has \\ncharted an innovative course – through intuition and foresight – in the world of \\ndesign and interior decor. \\nNow, Cassina, having furnished the rooms in some of the most prestigious res-\\nidences around the globe, opens a new chapter focused on the nautical world \\nand revisits a well-established tradition in naval furnishings. It began in the 1950s, \\nin partnership with the most celebrated architects of the day, such as Gustavo \\nPulitzer, Nino Zoncada and Gio Ponti, for the interior decor of luxurious ships, in-\\ncluding the Andrea Doria, Raffaello, Michelangelo and all of the Costa Armatori \\nCruise liners. With Yachting Selection, Cassina narrates its story and perspective \\non yachting and the world of luxury ships. By imagining the furnishing of luxury \\nyachts in their many environments, Cassina develops a yachting lookbook that \\nexpresses itself in the various zones of the ship: from living to dining areas, the \\nflybridge to the solarium and the shipowners’ cabins.',\n",
       "  'image_path': 'mid_data/extracted_images/cassina_yachting_lookbook_page_4.png'},\n",
       " 'mid_data/extracted_images/Cassina-PRO_2022_page_1.png': {'text': '2 0 2 2\\nC A S S I N A  P R O\\nW O R K P L A C E  &  H O S P I TA L I T Y',\n",
       "  'image_path': 'mid_data/extracted_images/Cassina-PRO_2022_page_1.png'},\n",
       " 'mid_data/extracted_images/Cassina-PRO_2022_page_2.png': {'text': 'C A S S I N A  P R O\\nW O R K P L A C E  &  H O S P I TA L I T Y',\n",
       "  'image_path': 'mid_data/extracted_images/Cassina-PRO_2022_page_2.png'},\n",
       " 'mid_data/extracted_images/Cassina-PRO_2022_page_3.png': {'text': 'INDEX\\nTABLE OF \\nCONTENTS\\nLOBBIES AND LOUNGES\\nAirports, hotels, headquarters,\\nclubhouses, foundations\\nand museums\\nP. 14\\nEXECUTIVE OFFICES\\nAND PROFESSIONAL STUDIOS\\nOffices, hotel meeting rooms, medical practices, \\nlaw firms and professional studios\\nP. 32\\nMEETING AREAS\\nAND WORKPLACES\\nMeeting rooms\\nand conference rooms\\nP. 50\\nHOSPITALITY\\nSuites and hotel rooms\\nP. 78\\nRESTAURANTS AND BARS\\nRestaurants, bars, bistrots, hotels,  \\nmeeting rooms and suites\\nP. 66',\n",
       "  'image_path': 'mid_data/extracted_images/Cassina-PRO_2022_page_3.png'},\n",
       " 'mid_data/extracted_images/Cassina-PRO_2022_page_4.png': {'text': 'INTRO\\nINTRO\\nCassina Pro\\nProfessional tools\\nStrumenti professionali\\n A collection that brings together Cassina’s most \\niconic pieces with contemporary products, all \\ndeveloped and certifi ed to meet the design needs \\nof the hospitality and workplace sector.\\nUna collezione che riunisce i pezzi più iconici di \\nCassina a prodotti contemporanei, tutti sviluppati e \\ncertifi cati per soddisfare le esigenze progettuali del \\nsettore hospitality e workplace.\\nA set of dedicated tools has been developed \\nto give full design support to professionals. A \\nproject lookbook, detailed data sheets, 2D and 3D \\ndrawings, a photorealistic confi gurator and a virtual \\npCon confi gurator.\\nUna serie di strumenti dedicati è stata sviluppata \\nper dare pieno supporto progettuale ai \\nprofessionisti. Un lookbook di progetto, schede \\ntecniche dettagliate, disegni 2D e 3D, un \\nconfi guratore fotorealistico e un confi guratore \\npCon virtuale.\\n A strong focus on materials characterises the \\nchoice of available fi nishes. Fire-retardant and \\nhighly resistant leathers are combined with four \\nbest-selling Kvadrat fabrics and three Gabri fabrics \\ndesigned for the contract sector. The proposal will \\nbe further enriched by the tested-in fabrics available \\non request- list available at the end of the catalogue.\\nUna forte attenzione ai materiali caratterizza la \\nscelta delle fi niture disponibili. Pelli ignifughe e \\ndall’alta resistenza si uniscono a quattro tessuti \\nbest seller Kvadrat e tre tessuti Gabriel pensati per \\nil settore contract. La proposta sarà ulteriormente \\narricchita dai tessuti tested-in disponibili su \\nrichiesta - elenco disponibile in fondo al catalogo.\\nCassina Pro products have undergone rigorous \\ntests to obtain certifi cations for contract use, \\nsuch as BIFMA (physical mechanical resistance) \\nand GreenGuard (pollution caused by the volatile \\nsubstances of the product), and are upholstered \\nwith leathers and fabrics that are British Standard \\nand California 117 certifi ed (fi re resistant). \\nI prodotti Cassina Pro sono stati sottoposti a severi \\ntest per uso contract, come BIFMA (resistenza \\nfi sico meccanica) GREENGUARD (inquinamento \\ncausato dalle sostanze volatili del prodotto) e \\nsono rivestiti con tessuti e pelli certifi cati British \\nStandard e California 117 (resistenza al fuoco). \\nFrançais à la page 328\\nDeutsch auf Seite 328\\nSelected materials\\nMateriali selezionati\\nCertifi cations\\nCertifi cazioni\\nWHERE\\nABOUT\\nLOBBIES \\nAND LOUNGES\\nEXECUTIVE OFFICES\\nAND PROFESSIONAL\\nSTUDIOS\\nHOSPITALITY\\nMEETING AREAS AND \\nWORKPLACES\\nRESTAURANTS \\nAND BARS\\n4\\n5',\n",
       "  'image_path': 'mid_data/extracted_images/Cassina-PRO_2022_page_4.png'},\n",
       " 'mid_data/extracted_images/07 - OUTDOOR PRODUCTS 2024_page_1.png': {'text': '2 0 2 4\\nO U T D O O R  P R O D U C T S',\n",
       "  'image_path': 'mid_data/extracted_images/07 - OUTDOOR PRODUCTS 2024_page_1.png'},\n",
       " 'mid_data/extracted_images/07 - OUTDOOR PRODUCTS 2024_page_2.png': {'text': 'Outdoor Products\\n2024\\ncassina.com',\n",
       "  'image_path': 'mid_data/extracted_images/07 - OUTDOOR PRODUCTS 2024_page_2.png'},\n",
       " 'mid_data/extracted_images/07 - OUTDOOR PRODUCTS 2024_page_3.png': {'text': '7 Fauteuil tournant, \\nOutdoor\\nCharlotte Perriand – Intégré à la \\nCollection Le Corbusier®, Pierre \\nJeanneret®, Charlotte Perriand®\\nDine Out   \\nRodolfo Dordoni\\nLeggera Outdoor\\nGio Ponti\\nMexique Stool\\nCharlotte Perriand\\nTrampoline Chair\\nPatricia Urquiola\\n3 Fauteuil Grand Confort, \\ngrand modèle, Outdoor \\nLe Corbusier, Pierre Jeanneret, \\nCharlotte Perriand\\n3 Fauteuil Grand Confort, \\ngrand modèle, deux places, \\nOutdoor\\nLe Corbusier, Pierre Jeanneret, \\nCharlotte Perriand\\n3 Fauteuil Grand Confort, \\ngrand modèle, trois places, \\nOutdoor\\nLe Corbusier, Pierre Jeanneret, \\nCharlotte Perriand \\n3 Fauteuil Grand Confort, \\ngrand modèle, Meridienne, Outdoor\\nLe Corbusier, Pierre Jeanneret, \\nCharlotte Perriand\\nDine Out\\nRodolfo Dordoni\\nEsosoft Outdoor\\nAntonio Citterio\\nEsosoft Outdoor\\nAntonio Citterio\\nFenc-e Nature  \\nPhilippe Starck\\nLie Out  \\nPiero Lissoni\\nMex-Hi Outdoor\\nPiero Lissoni\\nSail Out\\nRodolfo Dordoni\\nTrampoline Love-bed\\nPatricia Urquiola\\nTrampoline\\nPatricia Urquiola\\nDivani/Sofas/\\nSofas/Canapés\\nTavoli/Tables/\\nTische/Tables\\nPoltrone/Armchairs/\\nSessel/Fauteuils\\nSedie/Chairs/\\nStühle/Chaises\\nAccessori/Accessories/\\nZubehörteile/Accessoires\\nCura e Manutenzione/ \\nCare and Maintenance/\\nPflege und Instandhaltung/\\nTraitement et Entretien\\nTavolini/Low tables/\\nNiedrige tische/Tables basses\\n1 Fauteuil dossier \\nbasculant, Outdoor\\nLe Corbusier, Pierre Jeanneret, \\nCharlotte Perriand\\nCarlotta\\nAfra & Tobia Scarpa\\nDine Out   \\nRodolfo Dordoni\\nDoron Hotel Outdoor\\nCharlotte Perriand\\nEsosoft Armchair Outdoor\\nAntonio Citterio\\nFenc-e Nature   \\nPhilippe Starck\\nSail Out\\nRodolfo Dordoni\\nTrampoline\\nPatricia Urquiola\\nTrampoline Sunbed\\nPatricia Urquiola\\nUtrecht XL Outdoor\\nGerrit Thomas Rietveld\\n6 Table tube d’avion, \\nOutdoor\\nLe Corbusier, Pierre Jeanneret, \\nCharlotte Perriand \\nDine Out   \\nRodolfo Dordoni\\nLebeau Outdoor\\nPatrick Jouin\\nMexique Outdoor\\nCharlotte Perriand\\nTrampoline Table\\nPatricia Urquiola\\n10 Table en tube basse, \\nOutdoor\\nLe Corbusier, Pierre Jeanneret, \\nCharlotte Perriand\\n10 Table en tube basse, \\ngrand modèle, Outdoor\\nLe Corbusier, Pierre Jeanneret, \\nCharlotte Perriand \\nBowy Outdoor\\nPatricia Urquiola\\nCarlotta\\nAfra & Tobia Scarpa\\nEsosoft Outdoor\\nAntonio Citterio\\nFenc-e Nature   \\nPhilippe Starck\\nMex-Hi Outdoor\\nPiero Lissoni\\nMexique Coffee Tables \\nOutdoor\\nCharlotte Perriand\\nSail Out\\nRodolfo Dordoni\\nTable À Plateau \\nIntérchangeable Outdoor\\nCharlotte Perriand\\nLamps Outdoor\\nObjects Outdoor\\nCarpets Outdoor\\nSoleil\\nTrail \\nParasol\\n21\\n72\\n98\\n140\\n174\\n172\\n22\\n74\\n76\\n78\\n80\\n82\\n100\\n106\\n110\\n114\\n117\\n118\\n148\\n156\\n158\\n160\\n162\\n23\\n84\\n86\\n88\\n92\\n96\\n120\\n26\\n28\\n30\\n32\\n36\\n40\\n42\\n46\\n52\\n58\\n64\\n66\\n68\\n70\\n122\\n124\\n126\\n130\\n132\\n136\\n138\\nNew\\nNew\\nNew\\nNew\\nNew\\nNew\\nNew\\nNew\\nNew\\nNew\\nNew\\nNew\\nNew\\nNew',\n",
       "  'image_path': 'mid_data/extracted_images/07 - OUTDOOR PRODUCTS 2024_page_3.png'},\n",
       " 'mid_data/extracted_images/07 - OUTDOOR PRODUCTS 2024_page_4.png': {'text': 'The Cassina Perspective\\nITA\\nThe Cassina Perspective\\nENG\\nAvanguardia, autenticità, eccellenza e connubio di capacità tecnologica e \\nsapienza manuale locale. L’identità di Cassina si è costruita su valori solidi e \\ncondivisi, per esprimere il meglio del design italiano e internazionale con un \\nlinguaggio coerente, riconoscibile, colto. Attraverso un intreccio peculiare di \\ngesti e parole, Cassina ha saputo far interagire cultura, artigianato e indu-\\nstria, conciliando memoria e ricerca, rigore ed emozione, unicità e speri-\\nmentazione, e interpretando le tendenze della quotidianità grazie a un \\nlavoro costante su estetica e tipologie. Con spirito pionieristico e libero, da \\noltre 90 anni l’azienda di Meda anticipa i tempi, tracciando un percorso \\ninedito – per intuizione e lungimiranza – nel mondo del design e dell’archi-\\ntettura di interni. \\nPer questo il design di Cassina è esposto nelle collezioni permanenti dei più \\nimportanti musei del mondo. I suoi prodotti sono durevoli e senza tempo, \\nsintesi di bellezza e significato, curati nei materiali di qualità assoluta e nei \\ndettagli sartoriali. La perfezione nelle lavorazioni di alta falegnameria, nella \\nfattura delle pelli e nelle tappezzerie e imbottiti è rappresentata ancora oggi \\nda capolavori come la sedia 699 Superleggera di Gio Ponti, la famiglia CAB \\ndi Mario Bellini, il divano Maralunga di Vico Magistretti. \\nUn successo da oltre 50 anni. Così, in un continuo dialogo tra passato, \\npresente e futuro, Cassina realizza i modelli iconici creati dagli architetti del \\nXX secolo con la Collezione iMaestri, in cui gli arredi di Le Corbusier, Pierre \\nJeanneret, Charlotte Perriand, Charles Rennie Mackintosh, Gerrit Thomas \\nRietveld, Franco Albini, Marco Zanuso, Ico Parisi, Giacomo Balla, Vico Magi-\\nstretti, Gio Ponti e Carlo Scarpa vengono rieditati – rispettando accurata-\\nmente disegni e concept funzionali originali – e riattualizzati secondo le \\nevoluzioni tecnologiche. Ed è anche l’azienda che produce le opere di riferi-\\nmento del design contemporaneo dagli anni 50 all’attualità, firmate da \\nalcuni tra i più importanti progettisti internazionali: da Ronan & Erwan \\nBouroullec a Rodolfo Dordoni, Piero Lissoni, Gaetano Pesce, Philippe \\nStarck, e Patricia Urquiola, art director dell’azienda. \\nOggi Cassina continua a guardare al futuro del progetto con audacia, \\npassione, curiosità e un approccio aperto e olistico. Confermando l’esclusi-\\nva capacità di arredare gli ambienti living e dining in modo completo, l’azien-\\nda estende gli orizzonti della sua filosofia anche agli spazi esterni della casa \\nattraverso The Cassina Perspective Goes Outdoor: un concetto, un pensie-\\nro consapevole e avveniristico; un orizzonte ampio e dettagliato di configu-\\nrazioni, in cui i prodotti dall’anima più innovativa e le icone del moderno \\ncreano insieme atmosfere autentiche, accoglienti, personali. Così The \\nCassina Perspective Goes Outdoor abbina la Collection Le Corbusier, Pierre \\nJeanneret, Charlotte Perriand, rinnovata nei tessuti e nelle finiture, e due \\nnuovi progetti di Charlotte Perriand – il Table à Plateau Interchangeable, ora \\nin veste outdoor, e la sedia Doron Hotel, una riedizione sia in versione \\nindoor sia per esterni – a tre grandi interpreti contemporanei: Philippe \\nStarck, Rodolfo Dordoni e Patricia Urquiola.\\nDialogando secondo un codice di sensibilità formale, solidità e autorevolez-\\nza culturale, questi sistemi di presenze naturalmente empatiche, capaci di \\nadattarsi a interpretazioni e stili di vita differenti, esprimono l’anima di \\nquattro ambienti open air. Quattro paesaggi privati – l’esterno contempora-\\nneo, il rifugio tropicale, il piccolo paradiso privato, la terrazza metropolitana \\n– aperti alla luce e al contesto, da vivere in sintonia con la natura grazie ad \\narredi in materiali di alta qualità, dalle forme disegnate nei particolari e delle \\ndimensioni calibrate, valorizzati da nuove proposte di illuminazione, tappeti \\ne accessori per l’esterno.\\nMostrando l’eclettismo e la versatilità del design Cassina anche negli spazi \\nesterni dell’abitare con un lessico non convenzionale, distintivo e potente, \\ncapace di esprimere la qualità tangibile sia dell’oggetto singolo sia dell’insie-\\nme, al di là delle mode effimere. E quell’istinto di anticipare nel presente ciò \\nche sarà classico domani.\\nAvant-gardism, authenticity, excellence and the combination of technologi-\\ncal skill and local craftsmanship expertise. Cassina’s identity is founded on \\nsolid and shared values that express the best of Italian and international \\ndesign with a cohesive, recognisable and cultured approach. Through a \\nunique weave of words and actions, Cassina has successfully amalgamated \\nculture, craftsmanship and industry, reconciling tradition with research, \\nrigour with emotions and uniqueness with experimentation, interpreting \\neveryday trends thanks to its constant work on aesthetics and codification. \\nThe pioneering and free spirit that for over 90 years has placed this \\ncompany based in Meda ahead of its time, has traced a unique path - in \\nterms of intuition and farsightedness - through the world of interior design \\nand architecture. \\nThis is why Cassina’s designs are part of the permanent collections of the \\nworld’s most prominent museums. Its products are durable and timeless, a \\nsynthesis of beauty and meaning, impeccable in terms of the quality of the \\nmaterials and sartorial details. The perfection it has achieved in terms of \\ncarpentry expertise and leather and upholstery workmanship can still be \\nseen today in masterpieces such as the 699 Superleggera chair by Gio \\nPonti, the CAB family by Mario Bellini and the Maralunga sofa by Vico \\nMagistretti. \\nAnd so, in a continuing dialogue between past, present and future, Cassina \\nhas created the iMaestri Collection, revisiting the style models created by \\nthe twentieth century’s best-known architects, including Le Corbusier, \\nPierre Jeanneret, Charlotte Perriand, Charles Rennie Mackintosh, Gerrit \\nThomas Rietveld, Franco Albini, Marco Zanuso, Ico Parisi, Giacomo Balla, \\nVico Magistretti, Gio Ponti and Carlo Scarpa.\\nSince the 1950s Cassina has also produced seminal works of contempo-\\nrary design by some of the world’s leading designers, from Ronan & Erwan \\nBouroullec to Rodolfo Dordoni, Piero Lissoni, Gaetano Pesce, Philippe \\nStarck and Patricia Urquiola, the company’s art director. \\nToday Cassina continues to look to the future of design with courage, \\npassion, curiosity and an open and holistic approach. Confirming its exclu-\\nsive ability to completely furnish living and dining rooms, the company has \\nnow expanded the horizons of its philosophy to the external spaces of the \\nhome with The Cassina Perspective Goes Outdoor: a concept, an informed \\nand futuristic notion, a broad and detailed horizon of configurations in which \\nthe most innovative products are combined with the icons of Modern \\ndesign to create authentic, welcoming and personal atmospheres. The \\nCassina Perspective Goes Outdoor combines the Collection Le Corbusier, \\nPierre Jeanneret, Charlotte Perriand, revisited in terms of fabrics and finish-\\nes, and two new projects by Charlotte Perriand – the Table à Plateau Inter-\\nchangeable, now in an outdoor version, and the Doron Hotel Outdoor chair, \\nalso available in an indoor version – with three great contemporary design-\\ners: Philippe Starck, Rodolfo Dordoni and Patricia Urquiola.\\nInteracting according to a code of formal sensibility, solidity and cultural \\nauthority, these naturally empathetic systems, capable of adapting to differ-\\nent requirements and lifestyles, are the embodiment of four open air envi-\\nronments. Four private settings - the contemporary outdoors, the tropical \\nrefuge, the little private paradise, the metropolitan terrace - to enjoy in \\ncomplete harmony with nature thanks to the high quality furniture, designed \\ndown to the finest of details and dimensions, completed by new outdoor \\nlighting, rugs and accessories.\\nThe eclecticism and versatility of Cassina’s designs in external living spaces \\nis demonstrated with an unconventional, distinctive and powerful lexicon \\nthat expresses the tangible quality of both the individual piece and the \\nensemble that go beyond passing trends. With the instinct and the ability to \\nenvisage tomorrow’s classics today.\\n4\\n \\nCassina Outdoor',\n",
       "  'image_path': 'mid_data/extracted_images/07 - OUTDOOR PRODUCTS 2024_page_4.png'},\n",
       " 'mid_data/extracted_images/08 - OUTDOOR COLLECTION 2024_page_1.png': {'text': '2 0 2 4\\nO U T D O O R  C O L L E C T I O N',\n",
       "  'image_path': 'mid_data/extracted_images/08 - OUTDOOR COLLECTION 2024_page_1.png'},\n",
       " 'mid_data/extracted_images/08 - OUTDOOR COLLECTION 2024_page_2.png': {'text': '3',\n",
       "  'image_path': 'mid_data/extracted_images/08 - OUTDOOR COLLECTION 2024_page_2.png'},\n",
       " 'mid_data/extracted_images/08 - OUTDOOR COLLECTION 2024_page_3.png': {'text': '1\\nO U T D O O R  C O L L E C T I O N',\n",
       "  'image_path': 'mid_data/extracted_images/08 - OUTDOOR COLLECTION 2024_page_3.png'},\n",
       " 'mid_data/extracted_images/08 - OUTDOOR COLLECTION 2024_page_4.png': {'text': '3\\nTABLE OF\\nCONTENTS\\nCONTEMPORARY \\nOUTDOORS\\nMex-Hi Outdoor, Esosoft Outdoor, \\nCarlotta, Sail Out, Dine Out\\nP. 12\\nMETROPOLITAN \\nTERRACE\\nSail Out, Dine Out\\nP. 144\\nLITTLE PRIVATE \\nPARADISE\\nCollection  iMaestri Le Corbusier®, Pierre Jeanneret®, \\nCharlotte Perriand®, Dine out, Trampoline\\nP. 78\\nTROPICAL \\nREFUGE \\nFenc-e Nature\\nP. 136',\n",
       "  'image_path': 'mid_data/extracted_images/08 - OUTDOOR COLLECTION 2024_page_4.png'},\n",
       " 'mid_data/extracted_images/Cassina-LB-DINING_page_1.png': {'text': '2 0 2 3\\nD I N I N G  C O L L E C T I O N',\n",
       "  'image_path': 'mid_data/extracted_images/Cassina-LB-DINING_page_1.png'},\n",
       " 'mid_data/extracted_images/Cassina-LB-DINING_page_3.png': {'text': 'D I N I N G  C O L L E C T I O N',\n",
       "  'image_path': 'mid_data/extracted_images/Cassina-LB-DINING_page_3.png'},\n",
       " 'mid_data/extracted_images/Cassina-LB-DINING_page_4.png': {'text': '3\\nTABLE OF\\nCONTENTS\\nA VILLA \\nAND ITS GARDEN\\nSengu Table, 6 Table tube d’avion, \\nCapitol Complex Table, Cotone Table\\nP. 78\\nMETROPOLITAN \\nINTERIORS\\nSengu Table, Doge, \\nOlimpino, Mexique\\nP. 98\\nOPEN \\nARCHITECTURE\\nOrdinal, El Dom\\nP. 142\\nA LIBERTY CITY \\nAPARTMENT\\nLebeau Wood, Naan\\nP. 162\\nAN ECO \\nTECHNOLOGICAL LODGE\\nEdison, Capitol Complex Table, \\nSarpi, Table en forme libre\\nP. 122\\nA STATELY HOME\\nPrincipi, Longlplane, \\nBollicosa\\nP. 12 \\nA REFINED HOME \\nIMMERSED IN NATURE\\nDelﬁ, Boboli\\nP. 154\\nA BOURGEOIS \\nPENTHOUSE \\nCab Chair, Cab Tab, Ghost Box\\nP. 52',\n",
       "  'image_path': 'mid_data/extracted_images/Cassina-LB-DINING_page_4.png'},\n",
       " 'mid_data/extracted_images/Ghost-wall-mikal-harrsen_page_1.png': {'text': 'L I V I N G  C O L L E C T I O N\\nG h o s t  W a l l\\n2 0 2 3\\nDesign Mikal Harrsen',\n",
       "  'image_path': 'mid_data/extracted_images/Ghost-wall-mikal-harrsen_page_1.png'},\n",
       " 'mid_data/extracted_images/Ghost-wall-mikal-harrsen_page_2.png': {'text': 'L I V I N G  C O L L E C T I O N\\nG h o s t  W a l l\\n2 0 2 3\\nDesign Mikal Harrsen',\n",
       "  'image_path': 'mid_data/extracted_images/Ghost-wall-mikal-harrsen_page_2.png'},\n",
       " 'mid_data/extracted_images/Ghost-wall-mikal-harrsen_page_4.png': {'text': 'GHOST WALL \\nIS THE PROPOSAL \\nBY CASSINA TO \\nEXPRESS YOUR \\nCREATIVITY IN ALL \\nENVIRONMENTS.\\nGhost Wall è la proposta di Cassina per esprimere \\nla creatività in tutti gli ambienti. \\n7\\nIntroduction',\n",
       "  'image_path': 'mid_data/extracted_images/Ghost-wall-mikal-harrsen_page_4.png'}}"
      ]
     },
     "execution_count": 31,
     "metadata": {},
     "output_type": "execute_result"
    }
   ],
   "source": [
    "import json\n",
    "import pickle\n",
    "\n",
    "def build_hashed_mapping(json_path, output_pickle_path=\"hashed_mapping.pkl\", key=\"image_path\"):\n",
    "    \"\"\"\n",
    "    从 JSON 列表创建哈希表，并保存为 pickle\n",
    "    :param json_path: 原始 JSON 路径（列表格式）\n",
    "    :param output_pickle_path: 输出的 pickle 路径\n",
    "    :param key: 使用哪个字段作为哈希表键（如 image_path 或 text）\n",
    "    \"\"\"\n",
    "    with open(json_path, \"r\", encoding=\"utf-8\") as f:\n",
    "        data = json.load(f)\n",
    "    \n",
    "    # 构建哈希字典：key => entire entry\n",
    "    hashed_data = {entry[key]: entry for entry in data}\n",
    "\n",
    "    # 保存为 pickle\n",
    "    with open(output_pickle_path, \"wb\") as f:\n",
    "        pickle.dump(hashed_data, f)\n",
    "\n",
    "    print(f\"✅ 已保存哈希结构数据，共计 {len(hashed_data)} 项，路径：{output_pickle_path}\")\n",
    "    return hashed_data\n",
    "build_hashed_mapping(\n",
    "    json_path=\"mid_data/text_image_mapping.json\",\n",
    "    output_pickle_path=\"mid_data/image_path_hash.pkl\",\n",
    "    key=\"image_path\"\n",
    ")"
   ]
  },
  {
   "cell_type": "code",
   "execution_count": 33,
   "id": "0c46eb58-cd23-467b-9713-fdb2a23ce5e1",
   "metadata": {},
   "outputs": [
    {
     "name": "stdout",
     "output_type": "stream",
     "text": [
      "查找轮数：70\n",
      "🔍 JSON 列表查找总耗时：0.000800 秒，平均每次：0.00001143 秒\n",
      "⚡ 哈希表查找总耗时：0.000187 秒，平均每次：0.00000267 秒\n",
      "🚀 哈希查找加速比：约 4.3 倍\n"
     ]
    }
   ],
   "source": [
    "import json\n",
    "import pickle\n",
    "import time\n",
    "import random\n",
    "\n",
    "# 加载原始 JSON 列表\n",
    "with open(\"mid_data/text_image_mapping.json\", \"r\", encoding=\"utf-8\") as f:\n",
    "    json_data = json.load(f)\n",
    "\n",
    "# 加载哈希表（以 image_path 为 key）\n",
    "with open(\"mid_data/image_path_hash.pkl\", \"rb\") as f:\n",
    "    hash_data = pickle.load(f)\n",
    "\n",
    "# 获取所有 image_path 用于采样\n",
    "all_image_paths = [entry[\"image_path\"] for entry in json_data]\n",
    "sample_paths = random.sample(all_image_paths, min(100, len(all_image_paths)))  # 最多采样100个\n",
    "\n",
    "# -----------------------\n",
    "# 1️⃣ 列表查找测试\n",
    "# -----------------------\n",
    "json_start = time.time()\n",
    "for path in sample_paths:\n",
    "    _ = next((entry for entry in json_data if entry[\"image_path\"] == path), None)\n",
    "json_end = time.time()\n",
    "json_total_time = json_end - json_start\n",
    "json_avg_time = json_total_time / len(sample_paths)\n",
    "\n",
    "# -----------------------\n",
    "# 2️⃣ 哈希查找测试\n",
    "# -----------------------\n",
    "hash_start = time.time()\n",
    "for path in sample_paths:\n",
    "    _ = hash_data.get(path, None)\n",
    "hash_end = time.time()\n",
    "hash_total_time = hash_end - hash_start\n",
    "hash_avg_time = hash_total_time / len(sample_paths)\n",
    "\n",
    "# -----------------------\n",
    "# ✅ 结果展示\n",
    "# -----------------------\n",
    "print(f\"查找轮数：{len(sample_paths)}\")\n",
    "print(f\"🔍 JSON 列表查找总耗时：{json_total_time:.6f} 秒，平均每次：{json_avg_time:.8f} 秒\")\n",
    "print(f\"⚡ 哈希表查找总耗时：{hash_total_time:.6f} 秒，平均每次：{hash_avg_time:.8f} 秒\")\n",
    "print(f\"🚀 哈希查找加速比：约 {json_avg_time / hash_avg_time:.1f} 倍\")\n"
   ]
  },
  {
   "cell_type": "code",
   "execution_count": null,
   "id": "146ef184-3ad3-4c75-88d0-c0d2b0dc4e83",
   "metadata": {},
   "outputs": [],
   "source": []
  },
  {
   "cell_type": "markdown",
   "id": "7f9cfd45-33cc-4410-a2ba-caa68e936a1c",
   "metadata": {},
   "source": [
    "### A.2 Clip模型"
   ]
  },
  {
   "cell_type": "code",
   "execution_count": 12,
   "id": "9948e718-6212-4171-8b3a-876b144b3d5f",
   "metadata": {},
   "outputs": [
    {
     "name": "stderr",
     "output_type": "stream",
     "text": [
      "  9%|▊         | 6/70 [00:00<00:02, 21.36it/s]"
     ]
    },
    {
     "name": "stdout",
     "output_type": "stream",
     "text": [
      "跳过第 2 个 pair\n",
      "跳过第 3 个 pair\n"
     ]
    },
    {
     "name": "stderr",
     "output_type": "stream",
     "text": [
      " 21%|██▏       | 15/70 [00:00<00:03, 16.74it/s]"
     ]
    },
    {
     "name": "stdout",
     "output_type": "stream",
     "text": [
      "跳过第 12 个 pair\n",
      "跳过第 13 个 pair\n",
      "跳过第 16 个 pair\n",
      "跳过第 17 个 pair\n"
     ]
    },
    {
     "name": "stderr",
     "output_type": "stream",
     "text": [
      " 34%|███▍      | 24/70 [00:01<00:03, 14.84it/s]"
     ]
    },
    {
     "name": "stdout",
     "output_type": "stream",
     "text": [
      "跳过第 21 个 pair\n",
      "跳过第 24 个 pair\n"
     ]
    },
    {
     "name": "stderr",
     "output_type": "stream",
     "text": [
      " 44%|████▍     | 31/70 [00:01<00:02, 17.74it/s]"
     ]
    },
    {
     "name": "stdout",
     "output_type": "stream",
     "text": [
      "跳过第 27 个 pair\n",
      "跳过第 28 个 pair\n",
      "跳过第 31 个 pair\n"
     ]
    },
    {
     "name": "stderr",
     "output_type": "stream",
     "text": [
      " 60%|██████    | 42/70 [00:02<00:01, 17.86it/s]"
     ]
    },
    {
     "name": "stdout",
     "output_type": "stream",
     "text": [
      "跳过第 37 个 pair\n",
      "跳过第 38 个 pair\n",
      "跳过第 41 个 pair\n"
     ]
    },
    {
     "name": "stderr",
     "output_type": "stream",
     "text": [
      " 69%|██████▊   | 48/70 [00:02<00:01, 18.05it/s]"
     ]
    },
    {
     "name": "stdout",
     "output_type": "stream",
     "text": [
      "跳过第 44 个 pair\n",
      "跳过第 45 个 pair\n"
     ]
    },
    {
     "name": "stderr",
     "output_type": "stream",
     "text": [
      " 77%|███████▋  | 54/70 [00:03<00:01, 14.35it/s]"
     ]
    },
    {
     "name": "stdout",
     "output_type": "stream",
     "text": [
      "跳过第 51 个 pair\n",
      "跳过第 54 个 pair\n",
      "跳过第 55 个 pair\n"
     ]
    },
    {
     "name": "stderr",
     "output_type": "stream",
     "text": [
      " 86%|████████▌ | 60/70 [00:03<00:00, 18.90it/s]"
     ]
    },
    {
     "name": "stdout",
     "output_type": "stream",
     "text": [
      "跳过第 58 个 pair\n",
      "跳过第 59 个 pair\n"
     ]
    },
    {
     "name": "stderr",
     "output_type": "stream",
     "text": [
      " 94%|█████████▍| 66/70 [00:04<00:00, 15.01it/s]"
     ]
    },
    {
     "name": "stdout",
     "output_type": "stream",
     "text": [
      "跳过第 63 个 pair\n",
      "跳过第 66 个 pair\n"
     ]
    },
    {
     "name": "stderr",
     "output_type": "stream",
     "text": [
      "100%|██████████| 70/70 [00:04<00:00, 15.82it/s]"
     ]
    },
    {
     "name": "stdout",
     "output_type": "stream",
     "text": [
      "图文向量已提取并保存至 mid_data/clip_features.pt\n"
     ]
    },
    {
     "name": "stderr",
     "output_type": "stream",
     "text": [
      "\n"
     ]
    }
   ],
   "source": [
    "import os\n",
    "import json\n",
    "import torch\n",
    "import clip\n",
    "from PIL import Image\n",
    "from tqdm import tqdm\n",
    "\n",
    "# 设置设备\n",
    "device = \"cuda\" if torch.cuda.is_available() else \"cpu\"\n",
    "\n",
    "# 加载模型\n",
    "model, preprocess = clip.load(\"ViT-B/32\", device=device)\n",
    "\n",
    "# 加载图文对\n",
    "with open(\"mid_data/text_image_mapping.json\", \"r\", encoding=\"utf-8\") as f:\n",
    "    data_pairs = json.load(f)\n",
    "\n",
    "# 结果保存\n",
    "text_features_list = []\n",
    "image_features_list = []\n",
    "pair_ids = []\n",
    "\n",
    "for i, item in enumerate(tqdm(data_pairs)):\n",
    "    try:\n",
    "        text = clip.tokenize(item[\"text\"]).to(device)\n",
    "        image = preprocess(Image.open(item[\"image_path\"]).convert(\"RGB\")).unsqueeze(0).to(device)\n",
    "\n",
    "        with torch.no_grad():\n",
    "            image_features = model.encode_image(image)\n",
    "            text_features = model.encode_text(text)\n",
    "\n",
    "        # 归一化向量\n",
    "        image_features = image_features / image_features.norm(dim=-1, keepdim=True)\n",
    "        text_features = text_features / text_features.norm(dim=-1, keepdim=True)\n",
    "\n",
    "        image_features_list.append(image_features.cpu())\n",
    "        text_features_list.append(text_features.cpu())\n",
    "        pair_ids.append(i)\n",
    "\n",
    "    except Exception as e:\n",
    "        print(f\"跳过第 {i} 个 pair\")\n",
    "\n",
    "# 拼接保存\n",
    "image_tensor = torch.cat(image_features_list, dim=0)\n",
    "text_tensor = torch.cat(text_features_list, dim=0)\n",
    "torch.save({\n",
    "    \"image_features\": image_tensor,\n",
    "    \"text_features\": text_tensor,\n",
    "    \"pair_ids\": pair_ids\n",
    "}, \"mid_data/clip_features.pt\")\n",
    "\n",
    "print(\"图文向量已提取并保存至 mid_data/clip_features.pt\")\n"
   ]
  },
  {
   "cell_type": "markdown",
   "id": "912014b3-84b3-4708-a44d-9d7923203103",
   "metadata": {},
   "source": [
    "### A.3 EfficientNet-B0 + TF-IDF"
   ]
  },
  {
   "cell_type": "code",
   "execution_count": 17,
   "id": "0cea368c-85d6-4848-b754-af2b81349b45",
   "metadata": {},
   "outputs": [
    {
     "name": "stderr",
     "output_type": "stream",
     "text": [
      "/home/fintuser/fintechlab/dev/condaEnvs/z_env/lib/python3.12/site-packages/torchvision/models/_utils.py:208: UserWarning: The parameter 'pretrained' is deprecated since 0.13 and may be removed in the future, please use 'weights' instead.\n",
      "  warnings.warn(\n",
      "/home/fintuser/fintechlab/dev/condaEnvs/z_env/lib/python3.12/site-packages/torchvision/models/_utils.py:223: UserWarning: Arguments other than a weight enum or `None` for 'weights' are deprecated since 0.13 and may be removed in the future. The current behavior is equivalent to passing `weights=EfficientNet_B0_Weights.IMAGENET1K_V1`. You can also use `weights=EfficientNet_B0_Weights.DEFAULT` to get the most up-to-date weights.\n",
      "  warnings.warn(msg)\n",
      "Downloading: \"https://download.pytorch.org/models/efficientnet_b0_rwightman-7f5810bc.pth\" to /home/fintuser/.cache/torch/hub/checkpoints/efficientnet_b0_rwightman-7f5810bc.pth\n",
      "100%|██████████| 20.5M/20.5M [00:04<00:00, 4.45MB/s]\n",
      "Epoch 1/10: 100%|██████████| 5/5 [00:02<00:00,  1.97it/s]\n"
     ]
    },
    {
     "name": "stdout",
     "output_type": "stream",
     "text": [
      "[Epoch 1] Avg Loss: 0.0056\n"
     ]
    },
    {
     "name": "stderr",
     "output_type": "stream",
     "text": [
      "Epoch 2/10: 100%|██████████| 5/5 [00:02<00:00,  2.03it/s]\n"
     ]
    },
    {
     "name": "stdout",
     "output_type": "stream",
     "text": [
      "[Epoch 2] Avg Loss: 0.0025\n"
     ]
    },
    {
     "name": "stderr",
     "output_type": "stream",
     "text": [
      "Epoch 3/10: 100%|██████████| 5/5 [00:02<00:00,  1.94it/s]\n"
     ]
    },
    {
     "name": "stdout",
     "output_type": "stream",
     "text": [
      "[Epoch 3] Avg Loss: 0.0016\n"
     ]
    },
    {
     "name": "stderr",
     "output_type": "stream",
     "text": [
      "Epoch 4/10: 100%|██████████| 5/5 [00:02<00:00,  2.12it/s]\n"
     ]
    },
    {
     "name": "stdout",
     "output_type": "stream",
     "text": [
      "[Epoch 4] Avg Loss: 0.0012\n"
     ]
    },
    {
     "name": "stderr",
     "output_type": "stream",
     "text": [
      "Epoch 5/10: 100%|██████████| 5/5 [00:02<00:00,  2.33it/s]\n"
     ]
    },
    {
     "name": "stdout",
     "output_type": "stream",
     "text": [
      "[Epoch 5] Avg Loss: 0.0011\n"
     ]
    },
    {
     "name": "stderr",
     "output_type": "stream",
     "text": [
      "Epoch 6/10: 100%|██████████| 5/5 [00:02<00:00,  2.12it/s]\n"
     ]
    },
    {
     "name": "stdout",
     "output_type": "stream",
     "text": [
      "[Epoch 6] Avg Loss: 0.0010\n"
     ]
    },
    {
     "name": "stderr",
     "output_type": "stream",
     "text": [
      "Epoch 7/10: 100%|██████████| 5/5 [00:02<00:00,  2.33it/s]\n"
     ]
    },
    {
     "name": "stdout",
     "output_type": "stream",
     "text": [
      "[Epoch 7] Avg Loss: 0.0009\n"
     ]
    },
    {
     "name": "stderr",
     "output_type": "stream",
     "text": [
      "Epoch 8/10: 100%|██████████| 5/5 [00:01<00:00,  2.55it/s]\n"
     ]
    },
    {
     "name": "stdout",
     "output_type": "stream",
     "text": [
      "[Epoch 8] Avg Loss: 0.0009\n"
     ]
    },
    {
     "name": "stderr",
     "output_type": "stream",
     "text": [
      "Epoch 9/10: 100%|██████████| 5/5 [00:02<00:00,  2.03it/s]\n"
     ]
    },
    {
     "name": "stdout",
     "output_type": "stream",
     "text": [
      "[Epoch 9] Avg Loss: 0.0008\n"
     ]
    },
    {
     "name": "stderr",
     "output_type": "stream",
     "text": [
      "Epoch 10/10: 100%|██████████| 5/5 [00:02<00:00,  2.31it/s]"
     ]
    },
    {
     "name": "stdout",
     "output_type": "stream",
     "text": [
      "[Epoch 10] Avg Loss: 0.0008\n",
      "训练完成，模型已保存至 mid_data/cross_modal_effnet_tfidf.pth\n"
     ]
    },
    {
     "name": "stderr",
     "output_type": "stream",
     "text": [
      "\n"
     ]
    }
   ],
   "source": [
    "import os\n",
    "import json\n",
    "import torch\n",
    "import torch.nn as nn\n",
    "import torch.optim as optim\n",
    "from torch.utils.data import Dataset, DataLoader\n",
    "from torchvision import transforms, models\n",
    "from PIL import Image\n",
    "from sklearn.feature_extraction.text import TfidfVectorizer\n",
    "from tqdm import tqdm\n",
    "\n",
    "# -------------------------------\n",
    "# 1. 加载图文映射数据，并构建 TF‑IDF 向量器\n",
    "# -------------------------------\n",
    "mapping_path = \"mid_data/text_image_mapping.json\"\n",
    "with open(mapping_path, \"r\", encoding=\"utf-8\") as f:\n",
    "    data_pairs = json.load(f)\n",
    "\n",
    "# 提取所有文本，训练 TF-IDF\n",
    "all_texts = [item[\"text\"] for item in data_pairs]\n",
    "vectorizer = TfidfVectorizer(max_features=2048)  # 限制向量维度\n",
    "tfidf_matrix = vectorizer.fit_transform(all_texts).toarray()\n",
    "# 用于 Dataset\n",
    "for i, item in enumerate(data_pairs):\n",
    "    item[\"tfidf_vector\"] = tfidf_matrix[i]\n",
    "\n",
    "# -------------------------------\n",
    "# 2. 自定义 Dataset\n",
    "# -------------------------------\n",
    "class ImageTextTFIDFDataset(Dataset):\n",
    "    def __init__(self, data_pairs, transform=None):\n",
    "        self.data = data_pairs\n",
    "        self.transform = transform\n",
    "\n",
    "    def __len__(self):\n",
    "        return len(self.data)\n",
    "\n",
    "    def __getitem__(self, idx):\n",
    "        item = self.data[idx]\n",
    "        # 加载图片\n",
    "        img = Image.open(item[\"image_path\"]).convert(\"RGB\")\n",
    "        if self.transform:\n",
    "            img = self.transform(img)\n",
    "        # 文本向量\n",
    "        tfidf_vec = torch.tensor(item[\"tfidf_vector\"], dtype=torch.float32)\n",
    "        return img, tfidf_vec\n",
    "\n",
    "# -------------------------------\n",
    "# 3. 定义图像特征提取器（EfficientNet-B0） + 融合模型\n",
    "# -------------------------------\n",
    "class CrossModalRegressor(nn.Module):\n",
    "    def __init__(self, tfidf_dim):\n",
    "        super().__init__()\n",
    "        # 载入预训练 EfficientNet-B0，去掉最后的分类头\n",
    "        effnet = models.efficientnet_b0(pretrained=True)\n",
    "        self.cnn = nn.Sequential(\n",
    "            effnet.features,\n",
    "            nn.AdaptiveAvgPool2d(1),\n",
    "            nn.Flatten(),           # 输出维度：1280\n",
    "        )\n",
    "        # 从 1280 维映射到隐藏，再到 TF‑IDF 维\n",
    "        self.head = nn.Sequential(\n",
    "            nn.Linear(1280, 512),\n",
    "            nn.ReLU(inplace=True),\n",
    "            nn.Linear(512, tfidf_dim)\n",
    "        )\n",
    "\n",
    "    def forward(self, x):\n",
    "        feat = self.cnn(x)\n",
    "        out = self.head(feat)\n",
    "        return out\n",
    "\n",
    "# -------------------------------\n",
    "# 4. 训练准备\n",
    "# -------------------------------\n",
    "device = torch.device(\"cuda\" if torch.cuda.is_available() else \"cpu\")\n",
    "\n",
    "# 图像预处理\n",
    "transform = transforms.Compose([\n",
    "    transforms.Resize((224, 224)),\n",
    "    transforms.ToTensor(),\n",
    "    transforms.Normalize(  # EfficientNet 推荐的 ImageNet stats\n",
    "        mean=[0.485, 0.456, 0.406],\n",
    "        std =[0.229, 0.224, 0.225]\n",
    "    )\n",
    "])\n",
    "\n",
    "# Dataset & DataLoader\n",
    "dataset = ImageTextTFIDFDataset(data_pairs, transform=transform)\n",
    "loader = DataLoader(dataset, batch_size=16, shuffle=True, num_workers=4)\n",
    "\n",
    "# 模型、损失、优化器\n",
    "model = CrossModalRegressor(tfidf_dim=tfidf_matrix.shape[1]).to(device)\n",
    "criterion = nn.MSELoss()  # 回归预测 TF‑IDF 向量\n",
    "optimizer = optim.Adam(model.parameters(), lr=1e-4, weight_decay=1e-5)\n",
    "\n",
    "# -------------------------------\n",
    "# 5. 训练循环\n",
    "# -------------------------------\n",
    "num_epochs = 10\n",
    "for epoch in range(num_epochs):\n",
    "    model.train()\n",
    "    total_loss = 0.0\n",
    "    for images, tfidf_vecs in tqdm(loader, desc=f\"Epoch {epoch+1}/{num_epochs}\"):\n",
    "        images = images.to(device)\n",
    "        tfidf_vecs = tfidf_vecs.to(device)\n",
    "\n",
    "        optimizer.zero_grad()\n",
    "        preds = model(images)\n",
    "        loss = criterion(preds, tfidf_vecs)\n",
    "        loss.backward()\n",
    "        optimizer.step()\n",
    "\n",
    "        total_loss += loss.item() * images.size(0)\n",
    "\n",
    "    avg_loss = total_loss / len(dataset)\n",
    "    print(f\"[Epoch {epoch+1}] Avg Loss: {avg_loss:.4f}\")\n",
    "\n",
    "# -------------------------------\n",
    "# 6. 保存模型\n",
    "# -------------------------------\n",
    "os.makedirs(\"mid_data\", exist_ok=True)\n",
    "torch.save({\n",
    "    \"model_state\": model.state_dict(),\n",
    "    \"vectorizer\": vectorizer\n",
    "}, \"mid_data/cross_modal_effnet_tfidf.pth\")\n",
    "print(\"训练完成，模型已保存至 mid_data/cross_modal_effnet_tfidf.pth\")\n"
   ]
  },
  {
   "cell_type": "code",
   "execution_count": null,
   "id": "1f8e672f-0f8e-4283-892a-78cd11a1b2cd",
   "metadata": {},
   "outputs": [],
   "source": []
  },
  {
   "cell_type": "markdown",
   "id": "8d5a63e8-89ae-42e2-a8f5-685cee9183c3",
   "metadata": {},
   "source": [
    "## 任务 B： 本地搜索引擎"
   ]
  },
  {
   "cell_type": "code",
   "execution_count": 21,
   "id": "d766e838-e1df-4b36-9d04-150d3130593d",
   "metadata": {},
   "outputs": [
    {
     "name": "stdout",
     "output_type": "stream",
     "text": [
      "🔹 图片 1: mid_data/extracted_images/Ghost-wall-mikal-harrsen_page_1.png\n",
      "📝 对应文本: L I V I N G  C O L L E C T I O N\n",
      "G h o s t  W a l l\n",
      "2 0 2 3\n",
      "Design Mikal Harrsen\n",
      "\n",
      "🔹 图片 2: mid_data/extracted_images/Cassina-LB-DETAILS_page_3.png\n",
      "📝 对应文本: D E TA I L S  C O L L E C T I O N\n",
      "\n",
      "🔹 图片 3: mid_data/extracted_images/08 - OUTDOOR COLLECTION 2024_page_2.png\n",
      "📝 对应文本: 3\n",
      "\n"
     ]
    }
   ],
   "source": [
    "import random\n",
    "import json\n",
    "from PIL import Image\n",
    "import clip\n",
    "import torch\n",
    "\n",
    "# 路径配置\n",
    "mapping_json = \"mid_data/text_image_mapping.json\"\n",
    "device = \"cuda\" if torch.cuda.is_available() else \"cpu\"\n",
    "\n",
    "# 加载CLIP模型\n",
    "model, preprocess = clip.load(\"ViT-B/32\", device=device)\n",
    "\n",
    "# 加载图文对映射\n",
    "with open(mapping_json, \"r\", encoding=\"utf-8\") as f:\n",
    "    data = json.load(f)\n",
    "\n",
    "# 随机选择3个图像\n",
    "samples = random.sample(data, k=3)\n",
    "\n",
    "# 显示图像并输出文本\n",
    "for idx, item in enumerate(samples, 1):\n",
    "    image_path = item[\"image_path\"]\n",
    "    text = item[\"text\"]\n",
    "    \n",
    "    print(f\"🔹 图片 {idx}: {image_path}\")\n",
    "    print(f\"📝 对应文本: {text}\\n\")\n",
    "\n",
    "    try:\n",
    "        img = Image.open(image_path).convert(\"RGB\")\n",
    "        img.show(title=f\"Image {idx}\")\n",
    "    except Exception as e:\n",
    "        print(f\"❌ 无法打开图片: {e}\")\n"
   ]
  },
  {
   "cell_type": "code",
   "execution_count": 28,
   "id": "f2f1279a-d315-4835-9e3e-c87c1d61a15a",
   "metadata": {},
   "outputs": [
    {
     "name": "stderr",
     "output_type": "stream",
     "text": [
      "预处理图像: 100%|██████████| 70/70 [00:06<00:00, 10.64it/s]\n"
     ]
    },
    {
     "name": "stdout",
     "output_type": "stream",
     "text": [
      "✅ Top-1 匹配图像（相似度：0.2786）:\n",
      " - 相似度: 0.2786 -> 图像路径: mid_data/extracted_images/Cassina-PRO_2022_page_4.png\n"
     ]
    }
   ],
   "source": [
    "import os\n",
    "import json\n",
    "import torch\n",
    "import clip\n",
    "from PIL import Image\n",
    "from torchvision import transforms\n",
    "from tqdm import tqdm\n",
    "from sklearn.metrics.pairwise import cosine_similarity\n",
    "import numpy as np\n",
    "\n",
    "# 参数\n",
    "image_folder = \"mid_data/extracted_images\"\n",
    "mapping_json = \"mid_data/text_image_mapping.json\"\n",
    "device = \"cuda\" if torch.cuda.is_available() else \"cpu\"\n",
    "\n",
    "# 1. 加载模型\n",
    "model, preprocess = clip.load(\"ViT-B/32\", device=device)\n",
    "\n",
    "# 2. 加载图像数据和路径\n",
    "with open(mapping_json, \"r\", encoding=\"utf-8\") as f:\n",
    "    pairs = json.load(f)\n",
    "\n",
    "image_paths = [item[\"image_path\"] for item in pairs]\n",
    "images = []\n",
    "for p in tqdm(image_paths, desc=\"预处理图像\"):\n",
    "    try:\n",
    "        img = Image.open(p).convert(\"RGB\")\n",
    "        img = preprocess(img)\n",
    "        images.append(img)\n",
    "    except:\n",
    "        print(f\"跳过损坏图像: {p}\")\n",
    "\n",
    "# 3. 批量嵌入图像向量\n",
    "image_input = torch.stack(images).to(device)\n",
    "with torch.no_grad():\n",
    "    image_features = model.encode_image(image_input)\n",
    "    image_features /= image_features.norm(dim=-1, keepdim=True)  # 归一化\n",
    "\n",
    "# 4. 搜索函数\n",
    "def search_images_by_text(query, top_k=1, threshold=0.1):\n",
    "    model.eval()\n",
    "    with torch.no_grad():\n",
    "        text_tokens = clip.tokenize([query]).to(device)\n",
    "        text_features = model.encode_text(text_tokens)\n",
    "        text_features /= text_features.norm(dim=-1, keepdim=True)\n",
    "\n",
    "        # 计算余弦相似度\n",
    "        sims = (image_features @ text_features.T).squeeze().cpu().numpy()\n",
    "\n",
    "    top_indices = np.argsort(sims)[::-1][:top_k]\n",
    "    best_score = sims[top_indices[0]]\n",
    "\n",
    "    if best_score < threshold:\n",
    "        print(\"❌ 无浏览结果（得分低于阈值）\")\n",
    "    else:\n",
    "        print(f\"✅ Top-{top_k} 匹配图像（相似度：{best_score:.4f}）:\")\n",
    "        for i in top_indices:\n",
    "            print(f\" - 相似度: {sims[i]:.4f} -> 图像路径: {image_paths[i]}\")\n",
    "            # 显示图像（可选）\n",
    "            Image.open(image_paths[i]).show()\n",
    "\n",
    "# 5. 示例查询\n",
    "query_text = \"L I V I N G  C O L L E C T I O N G h o s t  W a l l 2 0 2 3 Design Mikal Harrsen\"\n",
    "search_images_by_text(query_text)\n"
   ]
  },
  {
   "cell_type": "code",
   "execution_count": null,
   "id": "8c177b28-35ab-494e-ba86-7f608ddd8f1b",
   "metadata": {},
   "outputs": [],
   "source": []
  }
 ],
 "metadata": {
  "kernelspec": {
   "display_name": "Python (z_env)",
   "language": "python",
   "name": "z_env"
  },
  "language_info": {
   "codemirror_mode": {
    "name": "ipython",
    "version": 3
   },
   "file_extension": ".py",
   "mimetype": "text/x-python",
   "name": "python",
   "nbconvert_exporter": "python",
   "pygments_lexer": "ipython3",
   "version": "3.12.9"
  }
 },
 "nbformat": 4,
 "nbformat_minor": 5
}
